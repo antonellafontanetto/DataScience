{
  "nbformat": 4,
  "nbformat_minor": 0,
  "metadata": {
    "colab": {
      "provenance": [],
      "authorship_tag": "ABX9TyPxCDHLMCSyQUrj0mu7pt8+",
      "include_colab_link": true
    },
    "kernelspec": {
      "name": "python3",
      "display_name": "Python 3"
    },
    "language_info": {
      "name": "python"
    }
  },
  "cells": [
    {
      "cell_type": "markdown",
      "metadata": {
        "id": "view-in-github",
        "colab_type": "text"
      },
      "source": [
        "<a href=\"https://colab.research.google.com/github/antonellafontanetto/DataScience/blob/main/K_Means_DBSCAN.ipynb\" target=\"_parent\"><img src=\"https://colab.research.google.com/assets/colab-badge.svg\" alt=\"Open In Colab\"/></a>"
      ]
    },
    {
      "cell_type": "markdown",
      "source": [
        "### **K-Means**\n",
        "\n",
        "[K-Means//Clustering](https://realpython.com/k-means-clustering-python/)"
      ],
      "metadata": {
        "id": "EtnQ8VWkWCgp"
      }
    },
    {
      "cell_type": "markdown",
      "source": [
        "K-means es un algoritmo de clustering no supervisado que se utiliza para agrupar datos similares en K grupos (o clústeres). Es ampliamente usado en análisis exploratorio de datos, compresión, segmentación de clientes y reducción de dimensionalidad.\n",
        "\n",
        "🔹 **¿Cómo funciona K-means?**\n",
        "\n",
        "* Elegir K (número de clústeres) que queremos formar.\n",
        "\n",
        "* Inicializar K centroides (pueden ser aleatorios o usando métodos como K-means++ para mejorar la eficiencia).\n",
        "\n",
        "* Asignar cada punto de datos al clúster más cercano, es decir, al centroide con menor distancia (generalmente Euclidiana).\n",
        "\n",
        "* Actualizar los centroides: se recalculan como la media de todos los puntos asignados a cada clúster.\n",
        "\n",
        "* Repetir los pasos 3 y 4 hasta que:\n",
        "\n",
        "* Los centroides no cambien (convergencia), o\n",
        "\n",
        "* Se alcance un número máximo de iteraciones.\n",
        "\n",
        "🔹 **¿Qué busca optimizar?**\n",
        "\n",
        "K-means intenta minimizar la suma de las distancias cuadradas entre cada punto y el centroide de su clúster. Esta métrica se llama inercia o Within-Cluster Sum of Squares (WCSS).\n",
        "\n",
        "🔹 **Ventajas**\n",
        "\n",
        "* Rápido y eficiente en grandes volúmenes de datos.\n",
        "\n",
        "* Fácil de implementar y entender.\n",
        "\n",
        "* Escalable a datasets grandes.\n",
        "\n",
        "🔹 **Desventajas**\n",
        "\n",
        "* Requiere especificar K previamente.\n",
        "\n",
        "* Puede converger a mínimos locales.\n",
        "\n",
        "* No maneja bien clústeres de formas no esféricas o de tamaño desigual.\n",
        "\n",
        "* Sensible a outliers y a la inicialización de centroides.\n",
        "\n",
        "🔹 **Aplicaciones comunes**\n",
        "\n",
        "* Segmentación de clientes.\n",
        "\n",
        "* Compresión de imágenes (por colores).\n",
        "\n",
        "* Detección de patrones en datos no etiquetados.\n",
        "\n",
        "* Agrupamiento de documentos o textos similares."
      ],
      "metadata": {
        "id": "kelvGC7GWQUV"
      }
    },
    {
      "cell_type": "code",
      "source": [
        "import matplotlib.pyplot as plt\n",
        "\n",
        "import sys\n",
        "\n",
        "!{sys.executable} -m pip install kneed\n",
        "\n",
        "import numpy as np\n",
        "\n",
        "import pandas as pd\n",
        "\n",
        "from kneed import KneeLocator\n",
        "\n",
        "from sklearn.datasets import make_blobs\n",
        "\n",
        "from sklearn.cluster import KMeans\n",
        "\n",
        "from sklearn.metrics import silhouette_score\n",
        "\n",
        "from sklearn.preprocessing import StandardScaler"
      ],
      "metadata": {
        "colab": {
          "base_uri": "https://localhost:8080/"
        },
        "id": "GVaSQQpABQ9W",
        "outputId": "9b21f2a5-4410-4816-c041-87e9945aa18e"
      },
      "execution_count": 4,
      "outputs": [
        {
          "output_type": "stream",
          "name": "stdout",
          "text": [
            "Requirement already satisfied: kneed in /usr/local/lib/python3.11/dist-packages (0.8.5)\n",
            "Requirement already satisfied: numpy>=1.14.2 in /usr/local/lib/python3.11/dist-packages (from kneed) (2.0.2)\n",
            "Requirement already satisfied: scipy>=1.0.0 in /usr/local/lib/python3.11/dist-packages (from kneed) (1.15.3)\n"
          ]
        }
      ]
    },
    {
      "cell_type": "markdown",
      "source": [
        "Los algoritmos de aprendizaje automático no deterministas, como k -medias, son difíciles de reproducir. El random_state parámetro se establece en un valor entero para que pueda seguir los datos presentados en el tutorial. En la práctica, es mejor dejar random_state el valor predeterminado None."
      ],
      "metadata": {
        "id": "5Gb0Sgg2YyOx"
      }
    },
    {
      "cell_type": "code",
      "source": [
        "features, true_labels = make_blobs(\n",
        "    n_samples=200,\n",
        "    centers=3,\n",
        "    cluster_std=2.75,\n",
        "    random_state=42\n",
        ")"
      ],
      "metadata": {
        "id": "-V44kOBqBYG8"
      },
      "execution_count": 5,
      "outputs": []
    },
    {
      "cell_type": "code",
      "source": [
        "features[:5]"
      ],
      "metadata": {
        "colab": {
          "base_uri": "https://localhost:8080/"
        },
        "id": "mhpYwLRiBhyM",
        "outputId": "cd750a2c-e318-4c2a-fb9c-4530901db710"
      },
      "execution_count": 21,
      "outputs": [
        {
          "output_type": "execute_result",
          "data": {
            "text/plain": [
              "array([[  9.77075874,   3.27621022],\n",
              "       [ -9.71349666,  11.27451802],\n",
              "       [ -6.91330582,  -9.34755911],\n",
              "       [-10.86185913, -10.75063497],\n",
              "       [ -8.50038027,  -4.54370383]])"
            ]
          },
          "metadata": {},
          "execution_count": 21
        }
      ]
    },
    {
      "cell_type": "code",
      "source": [
        "true_labels[:5]"
      ],
      "metadata": {
        "colab": {
          "base_uri": "https://localhost:8080/"
        },
        "id": "K8VZm7NGD_4U",
        "outputId": "80e2a98e-f49d-4282-e5d2-7affd7b6f524"
      },
      "execution_count": 6,
      "outputs": [
        {
          "output_type": "execute_result",
          "data": {
            "text/plain": [
              "array([1, 0, 2, 2, 2])"
            ]
          },
          "metadata": {},
          "execution_count": 6
        }
      ]
    },
    {
      "cell_type": "markdown",
      "source": [
        "El proceso de transformar características numéricas para usar la misma escala se conoce como escalado de características . Es un paso importante del preprocesamiento de datos para la mayoría de los algoritmos de aprendizaje automático a distancia, ya que puede tener un impacto significativo en el rendimiento del algoritmo."
      ],
      "metadata": {
        "id": "IvBzrWYEagUR"
      }
    },
    {
      "cell_type": "markdown",
      "source": [
        "En este ejemplo, usará la StandardScalerclase . Esta clase implementa un tipo de escalado de características llamado estandarización . La estandarización escala, o desplaza, los valores de cada característica numérica del conjunto de datos para que tengan una media de 0 y una desviación estándar de 1:"
      ],
      "metadata": {
        "id": "_Pl7E4IuaoYm"
      }
    },
    {
      "cell_type": "code",
      "source": [
        "scaler = StandardScaler()\n",
        "scaled_features = scaler.fit_transform(features)"
      ],
      "metadata": {
        "id": "PYmGHQKzBmyi"
      },
      "execution_count": 7,
      "outputs": []
    },
    {
      "cell_type": "code",
      "source": [
        "scaled_features[:5]"
      ],
      "metadata": {
        "colab": {
          "base_uri": "https://localhost:8080/"
        },
        "id": "wBvGKqXqDhFV",
        "outputId": "d7d85b7a-3738-4baa-e6a1-21081b9ebefc"
      },
      "execution_count": 8,
      "outputs": [
        {
          "output_type": "execute_result",
          "data": {
            "text/plain": [
              "array([[ 2.13082109,  0.25604351],\n",
              "       [-1.52698523,  1.41036744],\n",
              "       [-1.00130152, -1.56583175],\n",
              "       [-1.74256891, -1.76832509],\n",
              "       [-1.29924521, -0.87253446]])"
            ]
          },
          "metadata": {},
          "execution_count": 8
        }
      ]
    },
    {
      "cell_type": "markdown",
      "source": [
        "La KMeansclase estimador de scikit-learn es donde se establecen los parámetros del algoritmo antes de ajustar el estimador a los datos. La implementación de scikit-learn es flexible y ofrece varios parámetros ajustables.\n",
        "\n",
        "Estos son los parámetros utilizados en este ejemplo:\n",
        "\n",
        "* initControla la técnica de inicialización. La versión estándar del algoritmo k -means se implementa estableciendo initen \"random\". Al establecerlo en , \"k-means++\"se emplea un truco avanzado para acelerar la convergencia, que usará más adelante.\n",
        "\n",
        "* n_clustersEstablece k para el paso de agrupamiento. Este es el parámetro más importante para k -medias.\n",
        "\n",
        "* n_initEstablece el número de inicializaciones a realizar. Esto es importante porque dos ejecuciones pueden converger en diferentes asignaciones de clúster. El comportamiento predeterminado del algoritmo scikit-learn es realizar diez ejecuciones de k -medias y devolver los resultados de la que tenga el SSE más bajo.\n",
        "\n",
        "* max_iterEstablece el número máximo de iteraciones para cada inicialización del algoritmo k -means."
      ],
      "metadata": {
        "id": "OcRZORbaa6YI"
      }
    },
    {
      "cell_type": "code",
      "source": [
        "kmeans = KMeans(\n",
        "    init=\"random\",\n",
        "    n_clusters=3,\n",
        "    n_init=10,\n",
        "    max_iter=300,\n",
        "    random_state=42\n",
        ")"
      ],
      "metadata": {
        "id": "9igpzq8RDlQh"
      },
      "execution_count": 9,
      "outputs": []
    },
    {
      "cell_type": "markdown",
      "source": [
        "Las estadísticas de la ejecución de inicialización con el SSE más bajo están disponibles como atributos kmeansdespués de llamar .fit():"
      ],
      "metadata": {
        "id": "Mx4Yp5oCbXD9"
      }
    },
    {
      "cell_type": "code",
      "source": [
        "kmeans.fit(scaled_features)"
      ],
      "metadata": {
        "colab": {
          "base_uri": "https://localhost:8080/",
          "height": 80
        },
        "id": "os0nTwn9Du2g",
        "outputId": "bedfcaed-b715-4a85-ca64-cf3e4ae5eb31"
      },
      "execution_count": 10,
      "outputs": [
        {
          "output_type": "execute_result",
          "data": {
            "text/plain": [
              "KMeans(init='random', n_clusters=3, n_init=10, random_state=42)"
            ],
            "text/html": [
              "<style>#sk-container-id-1 {\n",
              "  /* Definition of color scheme common for light and dark mode */\n",
              "  --sklearn-color-text: #000;\n",
              "  --sklearn-color-text-muted: #666;\n",
              "  --sklearn-color-line: gray;\n",
              "  /* Definition of color scheme for unfitted estimators */\n",
              "  --sklearn-color-unfitted-level-0: #fff5e6;\n",
              "  --sklearn-color-unfitted-level-1: #f6e4d2;\n",
              "  --sklearn-color-unfitted-level-2: #ffe0b3;\n",
              "  --sklearn-color-unfitted-level-3: chocolate;\n",
              "  /* Definition of color scheme for fitted estimators */\n",
              "  --sklearn-color-fitted-level-0: #f0f8ff;\n",
              "  --sklearn-color-fitted-level-1: #d4ebff;\n",
              "  --sklearn-color-fitted-level-2: #b3dbfd;\n",
              "  --sklearn-color-fitted-level-3: cornflowerblue;\n",
              "\n",
              "  /* Specific color for light theme */\n",
              "  --sklearn-color-text-on-default-background: var(--sg-text-color, var(--theme-code-foreground, var(--jp-content-font-color1, black)));\n",
              "  --sklearn-color-background: var(--sg-background-color, var(--theme-background, var(--jp-layout-color0, white)));\n",
              "  --sklearn-color-border-box: var(--sg-text-color, var(--theme-code-foreground, var(--jp-content-font-color1, black)));\n",
              "  --sklearn-color-icon: #696969;\n",
              "\n",
              "  @media (prefers-color-scheme: dark) {\n",
              "    /* Redefinition of color scheme for dark theme */\n",
              "    --sklearn-color-text-on-default-background: var(--sg-text-color, var(--theme-code-foreground, var(--jp-content-font-color1, white)));\n",
              "    --sklearn-color-background: var(--sg-background-color, var(--theme-background, var(--jp-layout-color0, #111)));\n",
              "    --sklearn-color-border-box: var(--sg-text-color, var(--theme-code-foreground, var(--jp-content-font-color1, white)));\n",
              "    --sklearn-color-icon: #878787;\n",
              "  }\n",
              "}\n",
              "\n",
              "#sk-container-id-1 {\n",
              "  color: var(--sklearn-color-text);\n",
              "}\n",
              "\n",
              "#sk-container-id-1 pre {\n",
              "  padding: 0;\n",
              "}\n",
              "\n",
              "#sk-container-id-1 input.sk-hidden--visually {\n",
              "  border: 0;\n",
              "  clip: rect(1px 1px 1px 1px);\n",
              "  clip: rect(1px, 1px, 1px, 1px);\n",
              "  height: 1px;\n",
              "  margin: -1px;\n",
              "  overflow: hidden;\n",
              "  padding: 0;\n",
              "  position: absolute;\n",
              "  width: 1px;\n",
              "}\n",
              "\n",
              "#sk-container-id-1 div.sk-dashed-wrapped {\n",
              "  border: 1px dashed var(--sklearn-color-line);\n",
              "  margin: 0 0.4em 0.5em 0.4em;\n",
              "  box-sizing: border-box;\n",
              "  padding-bottom: 0.4em;\n",
              "  background-color: var(--sklearn-color-background);\n",
              "}\n",
              "\n",
              "#sk-container-id-1 div.sk-container {\n",
              "  /* jupyter's `normalize.less` sets `[hidden] { display: none; }`\n",
              "     but bootstrap.min.css set `[hidden] { display: none !important; }`\n",
              "     so we also need the `!important` here to be able to override the\n",
              "     default hidden behavior on the sphinx rendered scikit-learn.org.\n",
              "     See: https://github.com/scikit-learn/scikit-learn/issues/21755 */\n",
              "  display: inline-block !important;\n",
              "  position: relative;\n",
              "}\n",
              "\n",
              "#sk-container-id-1 div.sk-text-repr-fallback {\n",
              "  display: none;\n",
              "}\n",
              "\n",
              "div.sk-parallel-item,\n",
              "div.sk-serial,\n",
              "div.sk-item {\n",
              "  /* draw centered vertical line to link estimators */\n",
              "  background-image: linear-gradient(var(--sklearn-color-text-on-default-background), var(--sklearn-color-text-on-default-background));\n",
              "  background-size: 2px 100%;\n",
              "  background-repeat: no-repeat;\n",
              "  background-position: center center;\n",
              "}\n",
              "\n",
              "/* Parallel-specific style estimator block */\n",
              "\n",
              "#sk-container-id-1 div.sk-parallel-item::after {\n",
              "  content: \"\";\n",
              "  width: 100%;\n",
              "  border-bottom: 2px solid var(--sklearn-color-text-on-default-background);\n",
              "  flex-grow: 1;\n",
              "}\n",
              "\n",
              "#sk-container-id-1 div.sk-parallel {\n",
              "  display: flex;\n",
              "  align-items: stretch;\n",
              "  justify-content: center;\n",
              "  background-color: var(--sklearn-color-background);\n",
              "  position: relative;\n",
              "}\n",
              "\n",
              "#sk-container-id-1 div.sk-parallel-item {\n",
              "  display: flex;\n",
              "  flex-direction: column;\n",
              "}\n",
              "\n",
              "#sk-container-id-1 div.sk-parallel-item:first-child::after {\n",
              "  align-self: flex-end;\n",
              "  width: 50%;\n",
              "}\n",
              "\n",
              "#sk-container-id-1 div.sk-parallel-item:last-child::after {\n",
              "  align-self: flex-start;\n",
              "  width: 50%;\n",
              "}\n",
              "\n",
              "#sk-container-id-1 div.sk-parallel-item:only-child::after {\n",
              "  width: 0;\n",
              "}\n",
              "\n",
              "/* Serial-specific style estimator block */\n",
              "\n",
              "#sk-container-id-1 div.sk-serial {\n",
              "  display: flex;\n",
              "  flex-direction: column;\n",
              "  align-items: center;\n",
              "  background-color: var(--sklearn-color-background);\n",
              "  padding-right: 1em;\n",
              "  padding-left: 1em;\n",
              "}\n",
              "\n",
              "\n",
              "/* Toggleable style: style used for estimator/Pipeline/ColumnTransformer box that is\n",
              "clickable and can be expanded/collapsed.\n",
              "- Pipeline and ColumnTransformer use this feature and define the default style\n",
              "- Estimators will overwrite some part of the style using the `sk-estimator` class\n",
              "*/\n",
              "\n",
              "/* Pipeline and ColumnTransformer style (default) */\n",
              "\n",
              "#sk-container-id-1 div.sk-toggleable {\n",
              "  /* Default theme specific background. It is overwritten whether we have a\n",
              "  specific estimator or a Pipeline/ColumnTransformer */\n",
              "  background-color: var(--sklearn-color-background);\n",
              "}\n",
              "\n",
              "/* Toggleable label */\n",
              "#sk-container-id-1 label.sk-toggleable__label {\n",
              "  cursor: pointer;\n",
              "  display: flex;\n",
              "  width: 100%;\n",
              "  margin-bottom: 0;\n",
              "  padding: 0.5em;\n",
              "  box-sizing: border-box;\n",
              "  text-align: center;\n",
              "  align-items: start;\n",
              "  justify-content: space-between;\n",
              "  gap: 0.5em;\n",
              "}\n",
              "\n",
              "#sk-container-id-1 label.sk-toggleable__label .caption {\n",
              "  font-size: 0.6rem;\n",
              "  font-weight: lighter;\n",
              "  color: var(--sklearn-color-text-muted);\n",
              "}\n",
              "\n",
              "#sk-container-id-1 label.sk-toggleable__label-arrow:before {\n",
              "  /* Arrow on the left of the label */\n",
              "  content: \"▸\";\n",
              "  float: left;\n",
              "  margin-right: 0.25em;\n",
              "  color: var(--sklearn-color-icon);\n",
              "}\n",
              "\n",
              "#sk-container-id-1 label.sk-toggleable__label-arrow:hover:before {\n",
              "  color: var(--sklearn-color-text);\n",
              "}\n",
              "\n",
              "/* Toggleable content - dropdown */\n",
              "\n",
              "#sk-container-id-1 div.sk-toggleable__content {\n",
              "  max-height: 0;\n",
              "  max-width: 0;\n",
              "  overflow: hidden;\n",
              "  text-align: left;\n",
              "  /* unfitted */\n",
              "  background-color: var(--sklearn-color-unfitted-level-0);\n",
              "}\n",
              "\n",
              "#sk-container-id-1 div.sk-toggleable__content.fitted {\n",
              "  /* fitted */\n",
              "  background-color: var(--sklearn-color-fitted-level-0);\n",
              "}\n",
              "\n",
              "#sk-container-id-1 div.sk-toggleable__content pre {\n",
              "  margin: 0.2em;\n",
              "  border-radius: 0.25em;\n",
              "  color: var(--sklearn-color-text);\n",
              "  /* unfitted */\n",
              "  background-color: var(--sklearn-color-unfitted-level-0);\n",
              "}\n",
              "\n",
              "#sk-container-id-1 div.sk-toggleable__content.fitted pre {\n",
              "  /* unfitted */\n",
              "  background-color: var(--sklearn-color-fitted-level-0);\n",
              "}\n",
              "\n",
              "#sk-container-id-1 input.sk-toggleable__control:checked~div.sk-toggleable__content {\n",
              "  /* Expand drop-down */\n",
              "  max-height: 200px;\n",
              "  max-width: 100%;\n",
              "  overflow: auto;\n",
              "}\n",
              "\n",
              "#sk-container-id-1 input.sk-toggleable__control:checked~label.sk-toggleable__label-arrow:before {\n",
              "  content: \"▾\";\n",
              "}\n",
              "\n",
              "/* Pipeline/ColumnTransformer-specific style */\n",
              "\n",
              "#sk-container-id-1 div.sk-label input.sk-toggleable__control:checked~label.sk-toggleable__label {\n",
              "  color: var(--sklearn-color-text);\n",
              "  background-color: var(--sklearn-color-unfitted-level-2);\n",
              "}\n",
              "\n",
              "#sk-container-id-1 div.sk-label.fitted input.sk-toggleable__control:checked~label.sk-toggleable__label {\n",
              "  background-color: var(--sklearn-color-fitted-level-2);\n",
              "}\n",
              "\n",
              "/* Estimator-specific style */\n",
              "\n",
              "/* Colorize estimator box */\n",
              "#sk-container-id-1 div.sk-estimator input.sk-toggleable__control:checked~label.sk-toggleable__label {\n",
              "  /* unfitted */\n",
              "  background-color: var(--sklearn-color-unfitted-level-2);\n",
              "}\n",
              "\n",
              "#sk-container-id-1 div.sk-estimator.fitted input.sk-toggleable__control:checked~label.sk-toggleable__label {\n",
              "  /* fitted */\n",
              "  background-color: var(--sklearn-color-fitted-level-2);\n",
              "}\n",
              "\n",
              "#sk-container-id-1 div.sk-label label.sk-toggleable__label,\n",
              "#sk-container-id-1 div.sk-label label {\n",
              "  /* The background is the default theme color */\n",
              "  color: var(--sklearn-color-text-on-default-background);\n",
              "}\n",
              "\n",
              "/* On hover, darken the color of the background */\n",
              "#sk-container-id-1 div.sk-label:hover label.sk-toggleable__label {\n",
              "  color: var(--sklearn-color-text);\n",
              "  background-color: var(--sklearn-color-unfitted-level-2);\n",
              "}\n",
              "\n",
              "/* Label box, darken color on hover, fitted */\n",
              "#sk-container-id-1 div.sk-label.fitted:hover label.sk-toggleable__label.fitted {\n",
              "  color: var(--sklearn-color-text);\n",
              "  background-color: var(--sklearn-color-fitted-level-2);\n",
              "}\n",
              "\n",
              "/* Estimator label */\n",
              "\n",
              "#sk-container-id-1 div.sk-label label {\n",
              "  font-family: monospace;\n",
              "  font-weight: bold;\n",
              "  display: inline-block;\n",
              "  line-height: 1.2em;\n",
              "}\n",
              "\n",
              "#sk-container-id-1 div.sk-label-container {\n",
              "  text-align: center;\n",
              "}\n",
              "\n",
              "/* Estimator-specific */\n",
              "#sk-container-id-1 div.sk-estimator {\n",
              "  font-family: monospace;\n",
              "  border: 1px dotted var(--sklearn-color-border-box);\n",
              "  border-radius: 0.25em;\n",
              "  box-sizing: border-box;\n",
              "  margin-bottom: 0.5em;\n",
              "  /* unfitted */\n",
              "  background-color: var(--sklearn-color-unfitted-level-0);\n",
              "}\n",
              "\n",
              "#sk-container-id-1 div.sk-estimator.fitted {\n",
              "  /* fitted */\n",
              "  background-color: var(--sklearn-color-fitted-level-0);\n",
              "}\n",
              "\n",
              "/* on hover */\n",
              "#sk-container-id-1 div.sk-estimator:hover {\n",
              "  /* unfitted */\n",
              "  background-color: var(--sklearn-color-unfitted-level-2);\n",
              "}\n",
              "\n",
              "#sk-container-id-1 div.sk-estimator.fitted:hover {\n",
              "  /* fitted */\n",
              "  background-color: var(--sklearn-color-fitted-level-2);\n",
              "}\n",
              "\n",
              "/* Specification for estimator info (e.g. \"i\" and \"?\") */\n",
              "\n",
              "/* Common style for \"i\" and \"?\" */\n",
              "\n",
              ".sk-estimator-doc-link,\n",
              "a:link.sk-estimator-doc-link,\n",
              "a:visited.sk-estimator-doc-link {\n",
              "  float: right;\n",
              "  font-size: smaller;\n",
              "  line-height: 1em;\n",
              "  font-family: monospace;\n",
              "  background-color: var(--sklearn-color-background);\n",
              "  border-radius: 1em;\n",
              "  height: 1em;\n",
              "  width: 1em;\n",
              "  text-decoration: none !important;\n",
              "  margin-left: 0.5em;\n",
              "  text-align: center;\n",
              "  /* unfitted */\n",
              "  border: var(--sklearn-color-unfitted-level-1) 1pt solid;\n",
              "  color: var(--sklearn-color-unfitted-level-1);\n",
              "}\n",
              "\n",
              ".sk-estimator-doc-link.fitted,\n",
              "a:link.sk-estimator-doc-link.fitted,\n",
              "a:visited.sk-estimator-doc-link.fitted {\n",
              "  /* fitted */\n",
              "  border: var(--sklearn-color-fitted-level-1) 1pt solid;\n",
              "  color: var(--sklearn-color-fitted-level-1);\n",
              "}\n",
              "\n",
              "/* On hover */\n",
              "div.sk-estimator:hover .sk-estimator-doc-link:hover,\n",
              ".sk-estimator-doc-link:hover,\n",
              "div.sk-label-container:hover .sk-estimator-doc-link:hover,\n",
              ".sk-estimator-doc-link:hover {\n",
              "  /* unfitted */\n",
              "  background-color: var(--sklearn-color-unfitted-level-3);\n",
              "  color: var(--sklearn-color-background);\n",
              "  text-decoration: none;\n",
              "}\n",
              "\n",
              "div.sk-estimator.fitted:hover .sk-estimator-doc-link.fitted:hover,\n",
              ".sk-estimator-doc-link.fitted:hover,\n",
              "div.sk-label-container:hover .sk-estimator-doc-link.fitted:hover,\n",
              ".sk-estimator-doc-link.fitted:hover {\n",
              "  /* fitted */\n",
              "  background-color: var(--sklearn-color-fitted-level-3);\n",
              "  color: var(--sklearn-color-background);\n",
              "  text-decoration: none;\n",
              "}\n",
              "\n",
              "/* Span, style for the box shown on hovering the info icon */\n",
              ".sk-estimator-doc-link span {\n",
              "  display: none;\n",
              "  z-index: 9999;\n",
              "  position: relative;\n",
              "  font-weight: normal;\n",
              "  right: .2ex;\n",
              "  padding: .5ex;\n",
              "  margin: .5ex;\n",
              "  width: min-content;\n",
              "  min-width: 20ex;\n",
              "  max-width: 50ex;\n",
              "  color: var(--sklearn-color-text);\n",
              "  box-shadow: 2pt 2pt 4pt #999;\n",
              "  /* unfitted */\n",
              "  background: var(--sklearn-color-unfitted-level-0);\n",
              "  border: .5pt solid var(--sklearn-color-unfitted-level-3);\n",
              "}\n",
              "\n",
              ".sk-estimator-doc-link.fitted span {\n",
              "  /* fitted */\n",
              "  background: var(--sklearn-color-fitted-level-0);\n",
              "  border: var(--sklearn-color-fitted-level-3);\n",
              "}\n",
              "\n",
              ".sk-estimator-doc-link:hover span {\n",
              "  display: block;\n",
              "}\n",
              "\n",
              "/* \"?\"-specific style due to the `<a>` HTML tag */\n",
              "\n",
              "#sk-container-id-1 a.estimator_doc_link {\n",
              "  float: right;\n",
              "  font-size: 1rem;\n",
              "  line-height: 1em;\n",
              "  font-family: monospace;\n",
              "  background-color: var(--sklearn-color-background);\n",
              "  border-radius: 1rem;\n",
              "  height: 1rem;\n",
              "  width: 1rem;\n",
              "  text-decoration: none;\n",
              "  /* unfitted */\n",
              "  color: var(--sklearn-color-unfitted-level-1);\n",
              "  border: var(--sklearn-color-unfitted-level-1) 1pt solid;\n",
              "}\n",
              "\n",
              "#sk-container-id-1 a.estimator_doc_link.fitted {\n",
              "  /* fitted */\n",
              "  border: var(--sklearn-color-fitted-level-1) 1pt solid;\n",
              "  color: var(--sklearn-color-fitted-level-1);\n",
              "}\n",
              "\n",
              "/* On hover */\n",
              "#sk-container-id-1 a.estimator_doc_link:hover {\n",
              "  /* unfitted */\n",
              "  background-color: var(--sklearn-color-unfitted-level-3);\n",
              "  color: var(--sklearn-color-background);\n",
              "  text-decoration: none;\n",
              "}\n",
              "\n",
              "#sk-container-id-1 a.estimator_doc_link.fitted:hover {\n",
              "  /* fitted */\n",
              "  background-color: var(--sklearn-color-fitted-level-3);\n",
              "}\n",
              "</style><div id=\"sk-container-id-1\" class=\"sk-top-container\"><div class=\"sk-text-repr-fallback\"><pre>KMeans(init=&#x27;random&#x27;, n_clusters=3, n_init=10, random_state=42)</pre><b>In a Jupyter environment, please rerun this cell to show the HTML representation or trust the notebook. <br />On GitHub, the HTML representation is unable to render, please try loading this page with nbviewer.org.</b></div><div class=\"sk-container\" hidden><div class=\"sk-item\"><div class=\"sk-estimator fitted sk-toggleable\"><input class=\"sk-toggleable__control sk-hidden--visually\" id=\"sk-estimator-id-1\" type=\"checkbox\" checked><label for=\"sk-estimator-id-1\" class=\"sk-toggleable__label fitted sk-toggleable__label-arrow\"><div><div>KMeans</div></div><div><a class=\"sk-estimator-doc-link fitted\" rel=\"noreferrer\" target=\"_blank\" href=\"https://scikit-learn.org/1.6/modules/generated/sklearn.cluster.KMeans.html\">?<span>Documentation for KMeans</span></a><span class=\"sk-estimator-doc-link fitted\">i<span>Fitted</span></span></div></label><div class=\"sk-toggleable__content fitted\"><pre>KMeans(init=&#x27;random&#x27;, n_clusters=3, n_init=10, random_state=42)</pre></div> </div></div></div></div>"
            ]
          },
          "metadata": {},
          "execution_count": 10
        }
      ]
    },
    {
      "cell_type": "code",
      "source": [
        "# The lowest SSE value\n",
        "kmeans.inertia_"
      ],
      "metadata": {
        "colab": {
          "base_uri": "https://localhost:8080/"
        },
        "id": "0A6YbsayDzZg",
        "outputId": "c6117970-c2f1-4a6d-aae1-4ccbecdd6301"
      },
      "execution_count": 11,
      "outputs": [
        {
          "output_type": "execute_result",
          "data": {
            "text/plain": [
              "74.57960106819854"
            ]
          },
          "metadata": {},
          "execution_count": 11
        }
      ]
    },
    {
      "cell_type": "code",
      "source": [
        "# Final locations of the centroid\n",
        "kmeans.cluster_centers_"
      ],
      "metadata": {
        "colab": {
          "base_uri": "https://localhost:8080/"
        },
        "id": "4_KZIJTnba5S",
        "outputId": "7b67a01f-4bbf-4cdb-b720-ebd8b06034a3"
      },
      "execution_count": 12,
      "outputs": [
        {
          "output_type": "execute_result",
          "data": {
            "text/plain": [
              "array([[ 1.19539276,  0.13158148],\n",
              "       [-0.25813925,  1.05589975],\n",
              "       [-0.91941183, -1.18551732]])"
            ]
          },
          "metadata": {},
          "execution_count": 12
        }
      ]
    },
    {
      "cell_type": "code",
      "source": [
        "# The number of iterations required to converge\n",
        "kmeans.n_iter_"
      ],
      "metadata": {
        "colab": {
          "base_uri": "https://localhost:8080/"
        },
        "id": "Ah85nIlVbdsU",
        "outputId": "f1322f38-3685-4116-cc32-088d4fb7c1d5"
      },
      "execution_count": 13,
      "outputs": [
        {
          "output_type": "execute_result",
          "data": {
            "text/plain": [
              "10"
            ]
          },
          "metadata": {},
          "execution_count": 13
        }
      ]
    },
    {
      "cell_type": "markdown",
      "source": [
        "Finalmente, las asignaciones de clúster se almacenan como una matriz unidimensional de NumPy en kmeans.labels_. A continuación, se muestran las primeras cinco etiquetas predichas:"
      ],
      "metadata": {
        "id": "iGG5W4twbr4d"
      }
    },
    {
      "cell_type": "code",
      "source": [
        "kmeans.labels_[:5]"
      ],
      "metadata": {
        "colab": {
          "base_uri": "https://localhost:8080/"
        },
        "id": "ToVmw1hUD3mE",
        "outputId": "2a020665-b224-4fb3-af45-1099b29abbaf"
      },
      "execution_count": 14,
      "outputs": [
        {
          "output_type": "execute_result",
          "data": {
            "text/plain": [
              "array([0, 1, 2, 2, 2], dtype=int32)"
            ]
          },
          "metadata": {},
          "execution_count": 14
        }
      ]
    },
    {
      "cell_type": "markdown",
      "source": [
        "### **Método del codo**"
      ],
      "metadata": {
        "id": "s5oJBWmRb4Wt"
      }
    },
    {
      "cell_type": "markdown",
      "source": [
        "Para aplicar el método del codo , ejecute varias k -medias, increméntelas kcon cada iteración y registre la SSE:"
      ],
      "metadata": {
        "id": "4Ll7tfHjcHKN"
      }
    },
    {
      "cell_type": "code",
      "source": [
        "kmeans_kwargs = {\n",
        "    \"init\": \"random\",\n",
        "    \"n_init\": 10,\n",
        "    \"max_iter\": 300,\n",
        "    \"random_state\": 42,\n",
        "}\n",
        "\n",
        "# A list holds the SSE values for each k\n",
        "sse = []\n",
        "for k in range(1, 11):\n",
        "    kmeans = KMeans(n_clusters=k, **kmeans_kwargs)\n",
        "    kmeans.fit(scaled_features)\n",
        "    sse.append(kmeans.inertia_)"
      ],
      "metadata": {
        "id": "y04nRzM3b-TZ"
      },
      "execution_count": 15,
      "outputs": []
    },
    {
      "cell_type": "markdown",
      "source": [
        "Al graficar la SSE en función del número de conglomerados, observe que la SSE continúa disminuyendo a medida que aumenta k. A medida que se agregan más centroides, la distancia de cada punto a su centroide más cercano disminuye.\n",
        "\n",
        "Existe un punto óptimo donde la curva SSE comienza a curvarse, conocido como el punto de inflexión . Se considera que el valor x de este punto representa un equilibrio razonable entre el error y el número de clústeres. En este ejemplo, el punto de inflexión se encuentra en x=3:"
      ],
      "metadata": {
        "id": "ezXFRnsWcUAd"
      }
    },
    {
      "cell_type": "code",
      "source": [
        "plt.style.use(\"fivethirtyeight\")\n",
        "plt.plot(range(1, 11), sse)\n",
        "plt.xticks(range(1, 11))\n",
        "plt.xlabel(\"Number of Clusters\")\n",
        "plt.ylabel(\"SSE\")\n",
        "plt.show()"
      ],
      "metadata": {
        "colab": {
          "base_uri": "https://localhost:8080/",
          "height": 478
        },
        "id": "gTxEuwsTcVpR",
        "outputId": "26c41310-5c39-488f-b4e0-ee9c291acc13"
      },
      "execution_count": 17,
      "outputs": [
        {
          "output_type": "display_data",
          "data": {
            "text/plain": [
              "<Figure size 640x480 with 1 Axes>"
            ],
            "image/png": "[encoded data removed]"
          },
          "metadata": {}
        }
      ]
    },
    {
      "cell_type": "markdown",
      "source": [
        "Determinar el punto de inflexión en la curva SSE no siempre es sencillo. Si tiene dificultades para elegirlo, puede usar el paquete de Python kneed para identificarlo programáticamente:"
      ],
      "metadata": {
        "id": "f0UcyE2wc8St"
      }
    },
    {
      "cell_type": "code",
      "source": [
        "kl = KneeLocator(\n",
        "    range(1, 11), sse, curve=\"convex\", direction=\"decreasing\"\n",
        ")\n",
        "\n",
        "kl.elbow"
      ],
      "metadata": {
        "colab": {
          "base_uri": "https://localhost:8080/"
        },
        "id": "xwclPzGyczbN",
        "outputId": "bdb5caf2-4392-411f-e00e-4138f91995a8"
      },
      "execution_count": 18,
      "outputs": [
        {
          "output_type": "execute_result",
          "data": {
            "text/plain": [
              "np.int64(3)"
            ]
          },
          "metadata": {},
          "execution_count": 18
        }
      ]
    },
    {
      "cell_type": "markdown",
      "source": [
        "### **Método de Silueta**"
      ],
      "metadata": {
        "id": "pCLpfmwGdEjd"
      }
    },
    {
      "cell_type": "markdown",
      "source": [
        "El coeficiente de silueta mide la cohesión y separación de los clústeres. Cuantifica el grado de ajuste de un punto de datos a su clúster asignado en función de dos factores:\n",
        "\n",
        "Qué tan cerca está el punto de datos de otros puntos del clúster\n",
        "Qué tan lejos está el punto de datos de los puntos de otros grupos\n",
        "Los valores del coeficiente de silueta oscilan entre -1y 1. Los valores mayores indican que las muestras están más cerca de sus conglomerados que de otros conglomerados.\n",
        "\n",
        "En la implementación del coeficiente de silueta en scikit-learn , el coeficiente de silueta promedio de todas las muestras se resume en una sola puntuación. La silhouette score()función requiere un mínimo de dos clústeres; de lo contrario, generará una excepción."
      ],
      "metadata": {
        "id": "9DLSPUO0fgq1"
      }
    },
    {
      "cell_type": "code",
      "source": [
        "# A list holds the silhouette coefficients for each k\n",
        "silhouette_coefficients = []\n",
        "\n",
        "# Notice you start at 2 clusters for silhouette coefficient\n",
        "for k in range(2, 11):\n",
        "    kmeans = KMeans(n_clusters=k, **kmeans_kwargs)\n",
        "    kmeans.fit(scaled_features)\n",
        "    score = silhouette_score(scaled_features, kmeans.labels_)\n",
        "    silhouette_coefficients.append(score)"
      ],
      "metadata": {
        "id": "mO9EanlHdNxd"
      },
      "execution_count": 19,
      "outputs": []
    },
    {
      "cell_type": "markdown",
      "source": [
        "En última instancia, su decisión sobre la cantidad de clústeres a utilizar debe guiarse por una combinación de conocimiento del dominio y métricas de evaluación de agrupamiento."
      ],
      "metadata": {
        "id": "zJgkqoacgHPG"
      }
    },
    {
      "cell_type": "code",
      "source": [
        "plt.style.use(\"fivethirtyeight\")\n",
        "plt.plot(range(2, 11), silhouette_coefficients)\n",
        "plt.xticks(range(2, 11))\n",
        "plt.xlabel(\"Number of Clusters\")\n",
        "plt.ylabel(\"Silhouette Coefficient\")\n",
        "plt.show()"
      ],
      "metadata": {
        "colab": {
          "base_uri": "https://localhost:8080/",
          "height": 479
        },
        "id": "RW5bFVbZfqIY",
        "outputId": "0559119d-aa26-4b54-b9fd-197819d048b1"
      },
      "execution_count": 20,
      "outputs": [
        {
          "output_type": "display_data",
          "data": {
            "text/plain": [
              "<Figure size 640x480 with 1 Axes>"
            ],
            "image/png": "[encoded data removed]"
          },
          "metadata": {}
        }
      ]
    },
    {
      "cell_type": "markdown",
      "source": [
        "# **DBSCAN**"
      ],
      "metadata": {
        "id": "iOu-O6oijmmY"
      }
    },
    {
      "cell_type": "code",
      "source": [
        "from sklearn.cluster import DBSCAN\n",
        "from sklearn.datasets import make_moons\n",
        "from sklearn.metrics import adjusted_rand_score"
      ],
      "metadata": {
        "id": "1SIm-DdWjqVP"
      },
      "execution_count": 21,
      "outputs": []
    },
    {
      "cell_type": "markdown",
      "source": [
        "Esta vez, utilice make_moons()para generar datos sintéticos en forma de medialunas:"
      ],
      "metadata": {
        "id": "5c3lvoxtj1Yg"
      }
    },
    {
      "cell_type": "code",
      "source": [
        "features, true_labels = make_moons(\n",
        "    n_samples=250, noise=0.05, random_state=42\n",
        ")\n",
        "scaled_features = scaler.fit_transform(features)"
      ],
      "metadata": {
        "id": "L88aVhI6j2WA"
      },
      "execution_count": 22,
      "outputs": []
    },
    {
      "cell_type": "code",
      "source": [
        "# Instantiate k-means and dbscan algorithms\n",
        "kmeans = KMeans(n_clusters=2)\n",
        "dbscan = DBSCAN(eps=0.3)\n",
        "\n",
        "# Fit the algorithms to the features\n",
        "kmeans.fit(scaled_features)\n",
        "dbscan.fit(scaled_features)\n",
        "\n",
        "# Compute the silhouette scores for each algorithm\n",
        "kmeans_silhouette = silhouette_score(\n",
        "    scaled_features, kmeans.labels_\n",
        ").round(2)\n",
        "dbscan_silhouette = silhouette_score(\n",
        "   scaled_features, dbscan.labels_\n",
        ").round (2)"
      ],
      "metadata": {
        "id": "CroiVN6nj_cZ"
      },
      "execution_count": 23,
      "outputs": []
    },
    {
      "cell_type": "markdown",
      "source": [
        "Imprimir el coeficiente de silueta de cada uno de los dos algoritmos y compárelos. Un coeficiente de silueta más alto sugiere mejores clústeres, lo cual es engañoso en este escenario:"
      ],
      "metadata": {
        "id": "tWz44AdHkDGy"
      }
    },
    {
      "cell_type": "code",
      "source": [
        "kmeans_silhouette"
      ],
      "metadata": {
        "colab": {
          "base_uri": "https://localhost:8080/"
        },
        "id": "6ODrl-bMkGs5",
        "outputId": "8a1eb9e4-c4f2-4ec4-862a-00f2910f5726"
      },
      "execution_count": 24,
      "outputs": [
        {
          "output_type": "execute_result",
          "data": {
            "text/plain": [
              "np.float64(0.5)"
            ]
          },
          "metadata": {},
          "execution_count": 24
        }
      ]
    },
    {
      "cell_type": "code",
      "source": [
        "dbscan_silhouette"
      ],
      "metadata": {
        "colab": {
          "base_uri": "https://localhost:8080/"
        },
        "id": "X8mxMygFkKlm",
        "outputId": "66722f3d-0804-4f8c-9594-da287159ce6c"
      },
      "execution_count": 25,
      "outputs": [
        {
          "output_type": "execute_result",
          "data": {
            "text/plain": [
              "np.float64(0.38)"
            ]
          },
          "metadata": {},
          "execution_count": 25
        }
      ]
    },
    {
      "cell_type": "code",
      "source": [
        "# Plot the data and cluster silhouette comparison\n",
        "fig, (ax1, ax2) = plt.subplots(\n",
        "    1, 2, figsize=(8, 6), sharex=True, sharey=True\n",
        ")\n",
        "fig.suptitle(f\"Clustering Algorithm Comparison: Crescents\", fontsize=16)\n",
        "fte_colors = {\n",
        "    0: \"#008fd5\",\n",
        "    1: \"#fc4f30\",\n",
        "}\n",
        "# The k-means plot\n",
        "km_colors = [fte_colors[label] for label in kmeans.labels_]\n",
        "ax1.scatter(scaled_features[:, 0], scaled_features[:, 1], c=km_colors)\n",
        "ax1.set_title(\n",
        "    f\"k-means\\nSilhouette: {kmeans_silhouette}\", fontdict={\"fontsize\": 12}\n",
        ")\n",
        "\n",
        "# The dbscan plot\n",
        "db_colors = [fte_colors[label] for label in dbscan.labels_]\n",
        "ax2.scatter(scaled_features[:, 0], scaled_features[:, 1], c=db_colors)\n",
        "ax2.set_title(\n",
        "    f\"DBSCAN\\nSilhouette: {dbscan_silhouette}\", fontdict={\"fontsize\": 12}\n",
        ")\n",
        "plt.show()"
      ],
      "metadata": {
        "colab": {
          "base_uri": "https://localhost:8080/",
          "height": 606
        },
        "id": "_7NR5PItkeuj",
        "outputId": "14b73c8c-dcb4-4c54-a980-821a05c47412"
      },
      "execution_count": 26,
      "outputs": [
        {
          "output_type": "display_data",
          "data": {
            "text/plain": [
              "<Figure size 800x600 with 2 Axes>"
            ],
            "image/png": "[encoded data removed]"
          },
          "metadata": {}
        }
      ]
    },
    {
      "cell_type": "markdown",
      "source": [
        "Dado que se conocen las etiquetas de la verdad fundamental, es posible utilizar una métrica de agrupamiento que las considere en su evaluación. Se puede usar la implementación en scikit-learn de una métrica común llamada índice rand ajustado (ARI) . A diferencia del coeficiente de silueta, el ARI utiliza asignaciones de clústeres reales para medir la similitud entre las etiquetas verdaderas y las predichas."
      ],
      "metadata": {
        "id": "vaMUjsV1k1vC"
      }
    },
    {
      "cell_type": "code",
      "source": [
        "ari_kmeans = adjusted_rand_score(true_labels, kmeans.labels_)\n",
        "ari_dbscan = adjusted_rand_score(true_labels, dbscan.labels_)"
      ],
      "metadata": {
        "id": "y93K3uhuk-7a"
      },
      "execution_count": 27,
      "outputs": []
    },
    {
      "cell_type": "code",
      "source": [
        "round(ari_kmeans, 2)"
      ],
      "metadata": {
        "colab": {
          "base_uri": "https://localhost:8080/"
        },
        "id": "w7KBGEp3lBX_",
        "outputId": "4f4cd907-1893-47b1-ded6-6c39bc4d2132"
      },
      "execution_count": 28,
      "outputs": [
        {
          "output_type": "execute_result",
          "data": {
            "text/plain": [
              "0.47"
            ]
          },
          "metadata": {},
          "execution_count": 28
        }
      ]
    },
    {
      "cell_type": "code",
      "source": [
        "round(ari_dbscan, 2)"
      ],
      "metadata": {
        "colab": {
          "base_uri": "https://localhost:8080/"
        },
        "id": "1FxnpQVplEKO",
        "outputId": "76bf40b3-63f4-4938-c7b4-f6cd717080d1"
      },
      "execution_count": 29,
      "outputs": [
        {
          "output_type": "execute_result",
          "data": {
            "text/plain": [
              "1.0"
            ]
          },
          "metadata": {},
          "execution_count": 29
        }
      ]
    },
    {
      "cell_type": "markdown",
      "source": [
        "Los valores de salida de ARI oscilan entre -1y 1. Una puntuación cercana a 0.0indica asignaciones aleatorias, y una puntuación cercana a 1indica clústeres perfectamente etiquetados.\n",
        "\n",
        "Según el resultado anterior, se puede observar que el coeficiente de silueta era engañoso. ARI muestra que DBSCAN es la mejor opción para el ejemplo de las medias sintéticas en comparación con k -medias.\n",
        "\n",
        "Existen varias métricas que evalúan la calidad de los algoritmos de agrupamiento. Revisar las implementaciones en scikit-learn le ayudará a seleccionar la métrica de evaluación de agrupamiento adecuada."
      ],
      "metadata": {
        "id": "9QqDTidFliIJ"
      }
    },
    {
      "cell_type": "code",
      "source": [],
      "metadata": {
        "id": "Og8pd4h3ljd9"
      },
      "execution_count": null,
      "outputs": []
    }
  ]
}