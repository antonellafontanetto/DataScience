{
  "nbformat": 4,
  "nbformat_minor": 0,
  "metadata": {
    "kernelspec": {
      "display_name": "Python 3",
      "language": "python",
      "name": "python3"
    },
    "language_info": {
      "codemirror_mode": {
        "name": "ipython",
        "version": 3
      },
      "file_extension": ".py",
      "mimetype": "text/x-python",
      "name": "python",
      "nbconvert_exporter": "python",
      "pygments_lexer": "ipython3",
      "version": "3.7.3"
    },
    "colab": {
      "provenance": [],
      "include_colab_link": true
    }
  },
  "cells": [
    {
      "cell_type": "markdown",
      "metadata": {
        "id": "view-in-github",
        "colab_type": "text"
      },
      "source": [
        "<a href=\"https://colab.research.google.com/github/antonellafontanetto/DataScience/blob/main/N5_Curso.ipynb\" target=\"_parent\"><img src=\"https://colab.research.google.com/assets/colab-badge.svg\" alt=\"Open In Colab\"/></a>"
      ]
    },
    {
      "cell_type": "markdown",
      "metadata": {
        "id": "Gp2WddtV9IwG"
      },
      "source": [
        "# Programa Ingenias+ Data Science"
      ]
    },
    {
      "cell_type": "markdown",
      "metadata": {
        "id": "X03mviQS9IyL"
      },
      "source": [
        "# Ejercicios\n",
        "\n",
        "1. Crear un arreglo de ceros de longitud 12\n",
        "2. Crear un arreglo de longitud 10 con ceros en todas sus posiciones y un 10 en la posición número 5\n",
        "3. Crear un arreglo que tenga los números del 10 al 49\n",
        "4. Crear una arreglo 2d de shape (3, 3) que tenga los números del 0 al 8\n",
        "5. Crear un arreglo de números aleatorios de longitud 100 y obtener su media y varianza\n",
        "6. Calcular la media de un arreglo usando np.sum\n",
        "7. Calcular la varianza de un arreglo usando np.sum y np.mean\n",
        "8. Crear un array de números aleatorios usando np.random.randn.\n"
      ]
    },
    {
      "cell_type": "code",
      "source": [
        "#Importar numpy\n",
        "import numpy as np"
      ],
      "metadata": {
        "id": "_Ml6ucHAe0dr"
      },
      "execution_count": 4,
      "outputs": []
    },
    {
      "cell_type": "code",
      "source": [
        "#Ejercicio1"
      ],
      "metadata": {
        "id": "tawXg7-plFxr"
      },
      "execution_count": null,
      "outputs": []
    },
    {
      "cell_type": "code",
      "source": [
        "array_ceros=np.zeros(12)\n",
        "print(array_ceros)\n",
        "len (array_ceros)\n"
      ],
      "metadata": {
        "id": "bDHUnDG-e0TB",
        "colab": {
          "base_uri": "https://localhost:8080/"
        },
        "outputId": "f2f5ca9b-ab5a-426f-b5fb-624daac0184a"
      },
      "execution_count": 5,
      "outputs": [
        {
          "output_type": "stream",
          "name": "stdout",
          "text": [
            "[0. 0. 0. 0. 0. 0. 0. 0. 0. 0. 0. 0.]\n"
          ]
        },
        {
          "output_type": "execute_result",
          "data": {
            "text/plain": [
              "12"
            ]
          },
          "metadata": {},
          "execution_count": 5
        }
      ]
    },
    {
      "cell_type": "markdown",
      "source": [
        "1.1 Crear un arreglo de ceros de longitud 10"
      ],
      "metadata": {
        "id": "kL0xo6oHnL4t"
      }
    },
    {
      "cell_type": "code",
      "source": [
        "import numpy as np\n"
      ],
      "metadata": {
        "id": "8efpIHVQnYkt"
      },
      "execution_count": 6,
      "outputs": []
    },
    {
      "cell_type": "code",
      "source": [
        "array_cero=np.zeros(10)\n",
        "print(array_cero)\n",
        "len (array_cero)"
      ],
      "metadata": {
        "colab": {
          "base_uri": "https://localhost:8080/"
        },
        "id": "iAoIBO7PnkzV",
        "outputId": "75baa4c0-2c44-4bd7-931f-82efbfe842ff"
      },
      "execution_count": 8,
      "outputs": [
        {
          "output_type": "stream",
          "name": "stdout",
          "text": [
            "[0. 0. 0. 0. 0. 0. 0. 0. 0. 0.]\n"
          ]
        },
        {
          "output_type": "execute_result",
          "data": {
            "text/plain": [
              "10"
            ]
          },
          "metadata": {},
          "execution_count": 8
        }
      ]
    },
    {
      "cell_type": "code",
      "source": [
        "#ejercicio2"
      ],
      "metadata": {
        "id": "YmS9vXOolJYx"
      },
      "execution_count": null,
      "outputs": []
    },
    {
      "cell_type": "code",
      "source": [
        "array_diez=np.zeros(10)\n",
        "array_diez[5]=10\n",
        "print(array_diez)"
      ],
      "metadata": {
        "colab": {
          "base_uri": "https://localhost:8080/"
        },
        "id": "d0bEPMKDf-_l",
        "outputId": "929b5234-adcc-426e-ce1a-681233ff97c6"
      },
      "execution_count": 9,
      "outputs": [
        {
          "output_type": "stream",
          "name": "stdout",
          "text": [
            "[ 0.  0.  0.  0.  0. 10.  0.  0.  0.  0.]\n"
          ]
        }
      ]
    },
    {
      "cell_type": "code",
      "source": [
        "#ejercicio3"
      ],
      "metadata": {
        "id": "5YVH9cE3lMAQ"
      },
      "execution_count": null,
      "outputs": []
    },
    {
      "cell_type": "code",
      "source": [
        "array_10_49=np.arange(10,50)\n",
        "print(array_10_49)"
      ],
      "metadata": {
        "colab": {
          "base_uri": "https://localhost:8080/"
        },
        "id": "M3TJDCz1g-i7",
        "outputId": "f73d5e0f-da79-4eb9-fc5b-972bdb7a9e8d"
      },
      "execution_count": 10,
      "outputs": [
        {
          "output_type": "stream",
          "name": "stdout",
          "text": [
            "[10 11 12 13 14 15 16 17 18 19 20 21 22 23 24 25 26 27 28 29 30 31 32 33\n",
            " 34 35 36 37 38 39 40 41 42 43 44 45 46 47 48 49]\n"
          ]
        }
      ]
    },
    {
      "cell_type": "code",
      "source": [
        "#ejercicio4"
      ],
      "metadata": {
        "id": "aJf_LVH9lO95"
      },
      "execution_count": 11,
      "outputs": []
    },
    {
      "cell_type": "code",
      "source": [
        "array_8_10=np.arange(9).reshape(3,3)\n",
        "print(array_8_10)"
      ],
      "metadata": {
        "colab": {
          "base_uri": "https://localhost:8080/"
        },
        "id": "IWBKX2tKguGs",
        "outputId": "253fdfbe-749c-48ab-9d84-1b12bcffdf00"
      },
      "execution_count": 13,
      "outputs": [
        {
          "output_type": "stream",
          "name": "stdout",
          "text": [
            "[[0 1 2]\n",
            " [3 4 5]\n",
            " [6 7 8]]\n"
          ]
        }
      ]
    },
    {
      "cell_type": "code",
      "source": [
        "#ejercicio5"
      ],
      "metadata": {
        "id": "pS85BvhLlVYo"
      },
      "execution_count": null,
      "outputs": []
    },
    {
      "cell_type": "code",
      "source": [
        "array_100=np.random.rand(100)\n",
        "print(array_100)"
      ],
      "metadata": {
        "colab": {
          "base_uri": "https://localhost:8080/"
        },
        "id": "N8mMKTPGf_Vu",
        "outputId": "f40bbf94-cb21-487c-e5a8-250e54a84f47"
      },
      "execution_count": 14,
      "outputs": [
        {
          "output_type": "stream",
          "name": "stdout",
          "text": [
            "[0.35666203 0.23754554 0.83225121 0.35440512 0.89080737 0.07240532\n",
            " 0.41280426 0.55989821 0.69676253 0.71533193 0.75544069 0.21380031\n",
            " 0.39216902 0.19015692 0.86178334 0.14760699 0.37735123 0.59973611\n",
            " 0.24388411 0.33526563 0.01221762 0.26539061 0.0538112  0.5215735\n",
            " 0.5525693  0.55721839 0.94039643 0.72485237 0.76592675 0.11317361\n",
            " 0.87411071 0.25150273 0.19100925 0.8615142  0.87082076 0.26892422\n",
            " 0.19337604 0.15664488 0.09145284 0.68060828 0.29107065 0.69490131\n",
            " 0.99054877 0.27579539 0.44616317 0.58460245 0.31335303 0.04176485\n",
            " 0.20073309 0.78434188 0.91122346 0.8511269  0.90464852 0.71152943\n",
            " 0.68270899 0.29043176 0.26126352 0.33229179 0.86887752 0.22886462\n",
            " 0.38146443 0.40150218 0.09404648 0.25093489 0.98182329 0.23375013\n",
            " 0.17033798 0.25059116 0.27763842 0.76732426 0.94573076 0.55142543\n",
            " 0.01006271 0.83740889 0.99081913 0.62546438 0.62677952 0.75894952\n",
            " 0.36774881 0.48928578 0.88016274 0.02905775 0.9530614  0.0990229\n",
            " 0.96535187 0.07912059 0.33641091 0.4473245  0.74103717 0.03176684\n",
            " 0.72905577 0.44059882 0.95598007 0.98252581 0.36263787 0.00923834\n",
            " 0.69400183 0.66193004 0.38361384 0.59005102]\n"
          ]
        }
      ]
    },
    {
      "cell_type": "code",
      "source": [
        "array_media=np.mean(array_100)\n",
        "print(array_media)\n",
        "array_varianza=np.var(array_100)\n",
        "print(array_varianza)"
      ],
      "metadata": {
        "id": "Cly9U6BDez8E",
        "colab": {
          "base_uri": "https://localhost:8080/"
        },
        "outputId": "8f0a06df-a848-4b20-a4ff-6e4e042acb85"
      },
      "execution_count": 15,
      "outputs": [
        {
          "output_type": "stream",
          "name": "stdout",
          "text": [
            "0.4924444089095528\n",
            "0.08971984960579082\n"
          ]
        }
      ]
    },
    {
      "cell_type": "code",
      "source": [
        "#ejercicio6"
      ],
      "metadata": {
        "id": "nSVN0GB6lmcl"
      },
      "execution_count": null,
      "outputs": []
    },
    {
      "cell_type": "code",
      "source": [
        "array_100_sum=np.sum(array_100)/[len(array_100)]\n",
        "print(array_100_sum)"
      ],
      "metadata": {
        "colab": {
          "base_uri": "https://localhost:8080/"
        },
        "id": "wjIj6NHvitDW",
        "outputId": "b4536083-9136-49ae-cc4d-7c65a7f4cf42"
      },
      "execution_count": 18,
      "outputs": [
        {
          "output_type": "stream",
          "name": "stdout",
          "text": [
            "[0.49244441]\n"
          ]
        }
      ]
    },
    {
      "cell_type": "code",
      "source": [
        "#ejercicio 7"
      ],
      "metadata": {
        "id": "rprrFZZElZ7e"
      },
      "execution_count": null,
      "outputs": []
    },
    {
      "cell_type": "code",
      "source": [
        "array_100_varianza=np.sum((array_100-np.mean(array_100))**2)/[len(array_100)]\n",
        "print(array_100_varianza)"
      ],
      "metadata": {
        "colab": {
          "base_uri": "https://localhost:8080/"
        },
        "id": "7Zdj3AxHlvu7",
        "outputId": "4bd210a4-ebfb-40cf-d2c7-3a8bad444327"
      },
      "execution_count": 17,
      "outputs": [
        {
          "output_type": "stream",
          "name": "stdout",
          "text": [
            "[0.08971985]\n"
          ]
        }
      ]
    },
    {
      "cell_type": "code",
      "source": [
        "#Ejercicio8\n",
        "#Crear un array de números aleatorios usando np.random.randn."
      ],
      "metadata": {
        "id": "KfQNeLQJl6J5"
      },
      "execution_count": null,
      "outputs": []
    },
    {
      "cell_type": "code",
      "source": [
        "#Crear un array de números aleatorios usando np.random.randn.\n",
        "array_aletorio=np.random.rand(5)\n",
        "print(array_aletorio)"
      ],
      "metadata": {
        "colab": {
          "base_uri": "https://localhost:8080/"
        },
        "id": "ojJh0uwgl97i",
        "outputId": "939a407c-e796-4add-eb74-380c2549c621"
      },
      "execution_count": 19,
      "outputs": [
        {
          "output_type": "stream",
          "name": "stdout",
          "text": [
            "[0.23075772 0.83551864 0.75517014 0.76331966 0.22587176]\n"
          ]
        }
      ]
    }
  ]
}