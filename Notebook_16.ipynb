{
  "cells": [
    {
      "cell_type": "markdown",
      "metadata": {
        "id": "view-in-github",
        "colab_type": "text"
      },
      "source": [
        "<a href=\"https://colab.research.google.com/github/antonellafontanetto/DataScience/blob/main/Notebook_16.ipynb\" target=\"_parent\"><img src=\"https://colab.research.google.com/assets/colab-badge.svg\" alt=\"Open In Colab\"/></a>"
      ]
    },
    {
      "cell_type": "markdown",
      "metadata": {
        "id": "hAipadortrs1"
      },
      "source": [
        "\n",
        "# Programa Ingenia+ Data Science"
      ]
    },
    {
      "cell_type": "markdown",
      "metadata": {
        "id": "h2Fw5rW4trs6"
      },
      "source": [
        "Recordemos que un proyecto de data science tiene varias etapas:\n",
        "\n",
        "1. Recolección de Datos\n",
        "2. Exploración y Procesamiento de los datos\n",
        "3. Modelado\n",
        "4. Puesta en Producción\n",
        "\n",
        "En clases anteriores, trabajamos con el dataset `StudentPerformace`. Pudimos observar el tipo de datos que teniamos y le hiciemos algunas transformaciones."
      ]
    },
    {
      "cell_type": "markdown",
      "metadata": {
        "id": "tqVBlI9Jtrs7"
      },
      "source": [
        "Llego la hora de utilizar los conceptos de aprendizaje supervisado para hacer predicciones sobre alguna variable en el dataset.\n",
        "\n",
        "Para poder ajustar modelos de Machine Learning, la herramienta más sencilla y más utilizada es `scikit-learn`. Esta librería es muy utilizada ya que contiene funciones desarrolladas para la mayoría de los modelos de machine learning. Además `Scikit-learn` tienen una amplia y muy buena [documentación](https://scikit-learn.org/stable/)."
      ]
    },
    {
      "cell_type": "markdown",
      "metadata": {
        "id": "e82i9xLWtrs8"
      },
      "source": [
        "<font size=5> 🚀 👩🏽‍💻 Machine Learning: Aprendizaje Supervisado 📣</font>"
      ]
    },
    {
      "cell_type": "code",
      "execution_count": 45,
      "metadata": {
        "id": "kq0OfMBEtrs8"
      },
      "outputs": [],
      "source": [
        "import pandas as pd\n",
        "import numpy as np\n",
        "import matplotlib.pyplot as plt\n",
        "import seaborn as sns\n",
        "import matplotlib.cm as cm #importo un submodulo cm (colormap)"
      ]
    },
    {
      "cell_type": "code",
      "execution_count": 46,
      "metadata": {
        "id": "ce_irrnftrs9"
      },
      "outputs": [],
      "source": [
        "import os #permite interactuar con el sistema operativo os permite navegar por carpetas (directorios), leer, crear, renombrar o eliminar archivos"
      ]
    },
    {
      "cell_type": "code",
      "execution_count": 47,
      "metadata": {
        "id": "NqgI02zKtrs9",
        "outputId": "cfcaf802-f0dd-4a15-845a-2e0a87b3dca8",
        "colab": {
          "base_uri": "https://localhost:8080/",
          "height": 36
        }
      },
      "outputs": [
        {
          "output_type": "execute_result",
          "data": {
            "text/plain": [
              "'/content'"
            ],
            "application/vnd.google.colaboratory.intrinsic+json": {
              "type": "string"
            }
          },
          "metadata": {},
          "execution_count": 47
        }
      ],
      "source": [
        "os.getcwd() #get current working directory, es decir, devuelve la ruta del directorio actual en el que está trabajando Python"
      ]
    },
    {
      "cell_type": "markdown",
      "metadata": {
        "id": "GDMDD_z6trs_"
      },
      "source": [
        "Primero, vamos a leer los datos limpios y procesados."
      ]
    },
    {
      "cell_type": "code",
      "execution_count": 48,
      "metadata": {
        "id": "5INo2AI_trs_"
      },
      "outputs": [],
      "source": [
        "# Leemos nuevamente los datos de los estudiantes\n",
        "students = pd.read_csv('/content/estudiantes_limpio.csv')"
      ]
    },
    {
      "cell_type": "code",
      "execution_count": 49,
      "metadata": {
        "id": "q9z4HYE7trtA",
        "outputId": "136ef7f5-9a99-467c-c617-19b1c954051b",
        "colab": {
          "base_uri": "https://localhost:8080/",
          "height": 261
        }
      },
      "outputs": [
        {
          "output_type": "execute_result",
          "data": {
            "text/plain": [
              "   race/ethnicity  lunch  test preparation course  math score  reading score  \\\n",
              "0               1      1                        1        72.0             72   \n",
              "1               2      1                        0        69.0             90   \n",
              "2               1      1                        1        90.0             95   \n",
              "3               0      0                        1        47.0             57   \n",
              "4               2      1                        1        76.0             78   \n",
              "\n",
              "   writing score  english score  female  male  associate's degree  \\\n",
              "0             74           73.0       1     0                   0   \n",
              "1             88           89.0       1     0                   0   \n",
              "2             93           94.0       1     0                   0   \n",
              "3             44           50.5       0     1                   1   \n",
              "4             75           76.5       0     1                   0   \n",
              "\n",
              "   bachelor's degree  high school  master's degree  some college  \\\n",
              "0                  1            0                0             0   \n",
              "1                  0            0                0             1   \n",
              "2                  0            0                1             0   \n",
              "3                  0            0                0             0   \n",
              "4                  0            0                0             1   \n",
              "\n",
              "   some high school  \n",
              "0                 0  \n",
              "1                 0  \n",
              "2                 0  \n",
              "3                 0  \n",
              "4                 0  "
            ],
            "text/html": [
              "\n",
              "  <div id=\"df-48c622ac-b3f7-4944-a10e-d517e3f79779\" class=\"colab-df-container\">\n",
              "    <div>\n",
              "<style scoped>\n",
              "    .dataframe tbody tr th:only-of-type {\n",
              "        vertical-align: middle;\n",
              "    }\n",
              "\n",
              "    .dataframe tbody tr th {\n",
              "        vertical-align: top;\n",
              "    }\n",
              "\n",
              "    .dataframe thead th {\n",
              "        text-align: right;\n",
              "    }\n",
              "</style>\n",
              "<table border=\"1\" class=\"dataframe\">\n",
              "  <thead>\n",
              "    <tr style=\"text-align: right;\">\n",
              "      <th></th>\n",
              "      <th>race/ethnicity</th>\n",
              "      <th>lunch</th>\n",
              "      <th>test preparation course</th>\n",
              "      <th>math score</th>\n",
              "      <th>reading score</th>\n",
              "      <th>writing score</th>\n",
              "      <th>english score</th>\n",
              "      <th>female</th>\n",
              "      <th>male</th>\n",
              "      <th>associate's degree</th>\n",
              "      <th>bachelor's degree</th>\n",
              "      <th>high school</th>\n",
              "      <th>master's degree</th>\n",
              "      <th>some college</th>\n",
              "      <th>some high school</th>\n",
              "    </tr>\n",
              "  </thead>\n",
              "  <tbody>\n",
              "    <tr>\n",
              "      <th>0</th>\n",
              "      <td>1</td>\n",
              "      <td>1</td>\n",
              "      <td>1</td>\n",
              "      <td>72.0</td>\n",
              "      <td>72</td>\n",
              "      <td>74</td>\n",
              "      <td>73.0</td>\n",
              "      <td>1</td>\n",
              "      <td>0</td>\n",
              "      <td>0</td>\n",
              "      <td>1</td>\n",
              "      <td>0</td>\n",
              "      <td>0</td>\n",
              "      <td>0</td>\n",
              "      <td>0</td>\n",
              "    </tr>\n",
              "    <tr>\n",
              "      <th>1</th>\n",
              "      <td>2</td>\n",
              "      <td>1</td>\n",
              "      <td>0</td>\n",
              "      <td>69.0</td>\n",
              "      <td>90</td>\n",
              "      <td>88</td>\n",
              "      <td>89.0</td>\n",
              "      <td>1</td>\n",
              "      <td>0</td>\n",
              "      <td>0</td>\n",
              "      <td>0</td>\n",
              "      <td>0</td>\n",
              "      <td>0</td>\n",
              "      <td>1</td>\n",
              "      <td>0</td>\n",
              "    </tr>\n",
              "    <tr>\n",
              "      <th>2</th>\n",
              "      <td>1</td>\n",
              "      <td>1</td>\n",
              "      <td>1</td>\n",
              "      <td>90.0</td>\n",
              "      <td>95</td>\n",
              "      <td>93</td>\n",
              "      <td>94.0</td>\n",
              "      <td>1</td>\n",
              "      <td>0</td>\n",
              "      <td>0</td>\n",
              "      <td>0</td>\n",
              "      <td>0</td>\n",
              "      <td>1</td>\n",
              "      <td>0</td>\n",
              "      <td>0</td>\n",
              "    </tr>\n",
              "    <tr>\n",
              "      <th>3</th>\n",
              "      <td>0</td>\n",
              "      <td>0</td>\n",
              "      <td>1</td>\n",
              "      <td>47.0</td>\n",
              "      <td>57</td>\n",
              "      <td>44</td>\n",
              "      <td>50.5</td>\n",
              "      <td>0</td>\n",
              "      <td>1</td>\n",
              "      <td>1</td>\n",
              "      <td>0</td>\n",
              "      <td>0</td>\n",
              "      <td>0</td>\n",
              "      <td>0</td>\n",
              "      <td>0</td>\n",
              "    </tr>\n",
              "    <tr>\n",
              "      <th>4</th>\n",
              "      <td>2</td>\n",
              "      <td>1</td>\n",
              "      <td>1</td>\n",
              "      <td>76.0</td>\n",
              "      <td>78</td>\n",
              "      <td>75</td>\n",
              "      <td>76.5</td>\n",
              "      <td>0</td>\n",
              "      <td>1</td>\n",
              "      <td>0</td>\n",
              "      <td>0</td>\n",
              "      <td>0</td>\n",
              "      <td>0</td>\n",
              "      <td>1</td>\n",
              "      <td>0</td>\n",
              "    </tr>\n",
              "  </tbody>\n",
              "</table>\n",
              "</div>\n",
              "    <div class=\"colab-df-buttons\">\n",
              "\n",
              "  <div class=\"colab-df-container\">\n",
              "    <button class=\"colab-df-convert\" onclick=\"convertToInteractive('df-48c622ac-b3f7-4944-a10e-d517e3f79779')\"\n",
              "            title=\"Convert this dataframe to an interactive table.\"\n",
              "            style=\"display:none;\">\n",
              "\n",
              "  <svg xmlns=\"http://www.w3.org/2000/svg\" height=\"24px\" viewBox=\"0 -960 960 960\">\n",
              "    <path d=\"M120-120v-720h720v720H120Zm60-500h600v-160H180v160Zm220 220h160v-160H400v160Zm0 220h160v-160H400v160ZM180-400h160v-160H180v160Zm440 0h160v-160H620v160ZM180-180h160v-160H180v160Zm440 0h160v-160H620v160Z\"/>\n",
              "  </svg>\n",
              "    </button>\n",
              "\n",
              "  <style>\n",
              "    .colab-df-container {\n",
              "      display:flex;\n",
              "      gap: 12px;\n",
              "    }\n",
              "\n",
              "    .colab-df-convert {\n",
              "      background-color: #E8F0FE;\n",
              "      border: none;\n",
              "      border-radius: 50%;\n",
              "      cursor: pointer;\n",
              "      display: none;\n",
              "      fill: #1967D2;\n",
              "      height: 32px;\n",
              "      padding: 0 0 0 0;\n",
              "      width: 32px;\n",
              "    }\n",
              "\n",
              "    .colab-df-convert:hover {\n",
              "      background-color: #E2EBFA;\n",
              "      box-shadow: 0px 1px 2px rgba(60, 64, 67, 0.3), 0px 1px 3px 1px rgba(60, 64, 67, 0.15);\n",
              "      fill: #174EA6;\n",
              "    }\n",
              "\n",
              "    .colab-df-buttons div {\n",
              "      margin-bottom: 4px;\n",
              "    }\n",
              "\n",
              "    [theme=dark] .colab-df-convert {\n",
              "      background-color: #3B4455;\n",
              "      fill: #D2E3FC;\n",
              "    }\n",
              "\n",
              "    [theme=dark] .colab-df-convert:hover {\n",
              "      background-color: #434B5C;\n",
              "      box-shadow: 0px 1px 3px 1px rgba(0, 0, 0, 0.15);\n",
              "      filter: drop-shadow(0px 1px 2px rgba(0, 0, 0, 0.3));\n",
              "      fill: #FFFFFF;\n",
              "    }\n",
              "  </style>\n",
              "\n",
              "    <script>\n",
              "      const buttonEl =\n",
              "        document.querySelector('#df-48c622ac-b3f7-4944-a10e-d517e3f79779 button.colab-df-convert');\n",
              "      buttonEl.style.display =\n",
              "        google.colab.kernel.accessAllowed ? 'block' : 'none';\n",
              "\n",
              "      async function convertToInteractive(key) {\n",
              "        const element = document.querySelector('#df-48c622ac-b3f7-4944-a10e-d517e3f79779');\n",
              "        const dataTable =\n",
              "          await google.colab.kernel.invokeFunction('convertToInteractive',\n",
              "                                                    [key], {});\n",
              "        if (!dataTable) return;\n",
              "\n",
              "        const docLinkHtml = 'Like what you see? Visit the ' +\n",
              "          '<a target=\"_blank\" href=https://colab.research.google.com/notebooks/data_table.ipynb>data table notebook</a>'\n",
              "          + ' to learn more about interactive tables.';\n",
              "        element.innerHTML = '';\n",
              "        dataTable['output_type'] = 'display_data';\n",
              "        await google.colab.output.renderOutput(dataTable, element);\n",
              "        const docLink = document.createElement('div');\n",
              "        docLink.innerHTML = docLinkHtml;\n",
              "        element.appendChild(docLink);\n",
              "      }\n",
              "    </script>\n",
              "  </div>\n",
              "\n",
              "\n",
              "    <div id=\"df-9128aa98-6a02-4957-b11b-9733fdcb4ebb\">\n",
              "      <button class=\"colab-df-quickchart\" onclick=\"quickchart('df-9128aa98-6a02-4957-b11b-9733fdcb4ebb')\"\n",
              "                title=\"Suggest charts\"\n",
              "                style=\"display:none;\">\n",
              "\n",
              "<svg xmlns=\"http://www.w3.org/2000/svg\" height=\"24px\"viewBox=\"0 0 24 24\"\n",
              "     width=\"24px\">\n",
              "    <g>\n",
              "        <path d=\"M19 3H5c-1.1 0-2 .9-2 2v14c0 1.1.9 2 2 2h14c1.1 0 2-.9 2-2V5c0-1.1-.9-2-2-2zM9 17H7v-7h2v7zm4 0h-2V7h2v10zm4 0h-2v-4h2v4z\"/>\n",
              "    </g>\n",
              "</svg>\n",
              "      </button>\n",
              "\n",
              "<style>\n",
              "  .colab-df-quickchart {\n",
              "      --bg-color: #E8F0FE;\n",
              "      --fill-color: #1967D2;\n",
              "      --hover-bg-color: #E2EBFA;\n",
              "      --hover-fill-color: #174EA6;\n",
              "      --disabled-fill-color: #AAA;\n",
              "      --disabled-bg-color: #DDD;\n",
              "  }\n",
              "\n",
              "  [theme=dark] .colab-df-quickchart {\n",
              "      --bg-color: #3B4455;\n",
              "      --fill-color: #D2E3FC;\n",
              "      --hover-bg-color: #434B5C;\n",
              "      --hover-fill-color: #FFFFFF;\n",
              "      --disabled-bg-color: #3B4455;\n",
              "      --disabled-fill-color: #666;\n",
              "  }\n",
              "\n",
              "  .colab-df-quickchart {\n",
              "    background-color: var(--bg-color);\n",
              "    border: none;\n",
              "    border-radius: 50%;\n",
              "    cursor: pointer;\n",
              "    display: none;\n",
              "    fill: var(--fill-color);\n",
              "    height: 32px;\n",
              "    padding: 0;\n",
              "    width: 32px;\n",
              "  }\n",
              "\n",
              "  .colab-df-quickchart:hover {\n",
              "    background-color: var(--hover-bg-color);\n",
              "    box-shadow: 0 1px 2px rgba(60, 64, 67, 0.3), 0 1px 3px 1px rgba(60, 64, 67, 0.15);\n",
              "    fill: var(--button-hover-fill-color);\n",
              "  }\n",
              "\n",
              "  .colab-df-quickchart-complete:disabled,\n",
              "  .colab-df-quickchart-complete:disabled:hover {\n",
              "    background-color: var(--disabled-bg-color);\n",
              "    fill: var(--disabled-fill-color);\n",
              "    box-shadow: none;\n",
              "  }\n",
              "\n",
              "  .colab-df-spinner {\n",
              "    border: 2px solid var(--fill-color);\n",
              "    border-color: transparent;\n",
              "    border-bottom-color: var(--fill-color);\n",
              "    animation:\n",
              "      spin 1s steps(1) infinite;\n",
              "  }\n",
              "\n",
              "  @keyframes spin {\n",
              "    0% {\n",
              "      border-color: transparent;\n",
              "      border-bottom-color: var(--fill-color);\n",
              "      border-left-color: var(--fill-color);\n",
              "    }\n",
              "    20% {\n",
              "      border-color: transparent;\n",
              "      border-left-color: var(--fill-color);\n",
              "      border-top-color: var(--fill-color);\n",
              "    }\n",
              "    30% {\n",
              "      border-color: transparent;\n",
              "      border-left-color: var(--fill-color);\n",
              "      border-top-color: var(--fill-color);\n",
              "      border-right-color: var(--fill-color);\n",
              "    }\n",
              "    40% {\n",
              "      border-color: transparent;\n",
              "      border-right-color: var(--fill-color);\n",
              "      border-top-color: var(--fill-color);\n",
              "    }\n",
              "    60% {\n",
              "      border-color: transparent;\n",
              "      border-right-color: var(--fill-color);\n",
              "    }\n",
              "    80% {\n",
              "      border-color: transparent;\n",
              "      border-right-color: var(--fill-color);\n",
              "      border-bottom-color: var(--fill-color);\n",
              "    }\n",
              "    90% {\n",
              "      border-color: transparent;\n",
              "      border-bottom-color: var(--fill-color);\n",
              "    }\n",
              "  }\n",
              "</style>\n",
              "\n",
              "      <script>\n",
              "        async function quickchart(key) {\n",
              "          const quickchartButtonEl =\n",
              "            document.querySelector('#' + key + ' button');\n",
              "          quickchartButtonEl.disabled = true;  // To prevent multiple clicks.\n",
              "          quickchartButtonEl.classList.add('colab-df-spinner');\n",
              "          try {\n",
              "            const charts = await google.colab.kernel.invokeFunction(\n",
              "                'suggestCharts', [key], {});\n",
              "          } catch (error) {\n",
              "            console.error('Error during call to suggestCharts:', error);\n",
              "          }\n",
              "          quickchartButtonEl.classList.remove('colab-df-spinner');\n",
              "          quickchartButtonEl.classList.add('colab-df-quickchart-complete');\n",
              "        }\n",
              "        (() => {\n",
              "          let quickchartButtonEl =\n",
              "            document.querySelector('#df-9128aa98-6a02-4957-b11b-9733fdcb4ebb button');\n",
              "          quickchartButtonEl.style.display =\n",
              "            google.colab.kernel.accessAllowed ? 'block' : 'none';\n",
              "        })();\n",
              "      </script>\n",
              "    </div>\n",
              "\n",
              "    </div>\n",
              "  </div>\n"
            ],
            "application/vnd.google.colaboratory.intrinsic+json": {
              "type": "dataframe",
              "variable_name": "students",
              "summary": "{\n  \"name\": \"students\",\n  \"rows\": 1000,\n  \"fields\": [\n    {\n      \"column\": \"race/ethnicity\",\n      \"properties\": {\n        \"dtype\": \"number\",\n        \"std\": 1,\n        \"min\": 0,\n        \"max\": 4,\n        \"num_unique_values\": 5,\n        \"samples\": [\n          2,\n          4,\n          0\n        ],\n        \"semantic_type\": \"\",\n        \"description\": \"\"\n      }\n    },\n    {\n      \"column\": \"lunch\",\n      \"properties\": {\n        \"dtype\": \"number\",\n        \"std\": 0,\n        \"min\": 0,\n        \"max\": 1,\n        \"num_unique_values\": 2,\n        \"samples\": [\n          0,\n          1\n        ],\n        \"semantic_type\": \"\",\n        \"description\": \"\"\n      }\n    },\n    {\n      \"column\": \"test preparation course\",\n      \"properties\": {\n        \"dtype\": \"number\",\n        \"std\": 0,\n        \"min\": 0,\n        \"max\": 1,\n        \"num_unique_values\": 2,\n        \"samples\": [\n          0,\n          1\n        ],\n        \"semantic_type\": \"\",\n        \"description\": \"\"\n      }\n    },\n    {\n      \"column\": \"math score\",\n      \"properties\": {\n        \"dtype\": \"number\",\n        \"std\": 15.163080096009468,\n        \"min\": 0.0,\n        \"max\": 100.0,\n        \"num_unique_values\": 81,\n        \"samples\": [\n          55.0,\n          72.0\n        ],\n        \"semantic_type\": \"\",\n        \"description\": \"\"\n      }\n    },\n    {\n      \"column\": \"reading score\",\n      \"properties\": {\n        \"dtype\": \"number\",\n        \"std\": 14,\n        \"min\": 17,\n        \"max\": 100,\n        \"num_unique_values\": 72,\n        \"samples\": [\n          78,\n          23\n        ],\n        \"semantic_type\": \"\",\n        \"description\": \"\"\n      }\n    },\n    {\n      \"column\": \"writing score\",\n      \"properties\": {\n        \"dtype\": \"number\",\n        \"std\": 15,\n        \"min\": 10,\n        \"max\": 100,\n        \"num_unique_values\": 77,\n        \"samples\": [\n          75,\n          76\n        ],\n        \"semantic_type\": \"\",\n        \"description\": \"\"\n      }\n    },\n    {\n      \"column\": \"english score\",\n      \"properties\": {\n        \"dtype\": \"number\",\n        \"std\": 14.727923461217449,\n        \"min\": 13.5,\n        \"max\": 100.0,\n        \"num_unique_values\": 138,\n        \"samples\": [\n          76.0,\n          86.0\n        ],\n        \"semantic_type\": \"\",\n        \"description\": \"\"\n      }\n    },\n    {\n      \"column\": \"female\",\n      \"properties\": {\n        \"dtype\": \"number\",\n        \"std\": 0,\n        \"min\": 0,\n        \"max\": 1,\n        \"num_unique_values\": 2,\n        \"samples\": [\n          0,\n          1\n        ],\n        \"semantic_type\": \"\",\n        \"description\": \"\"\n      }\n    },\n    {\n      \"column\": \"male\",\n      \"properties\": {\n        \"dtype\": \"number\",\n        \"std\": 0,\n        \"min\": 0,\n        \"max\": 1,\n        \"num_unique_values\": 2,\n        \"samples\": [\n          1,\n          0\n        ],\n        \"semantic_type\": \"\",\n        \"description\": \"\"\n      }\n    },\n    {\n      \"column\": \"associate's degree\",\n      \"properties\": {\n        \"dtype\": \"number\",\n        \"std\": 0,\n        \"min\": 0,\n        \"max\": 1,\n        \"num_unique_values\": 2,\n        \"samples\": [\n          1,\n          0\n        ],\n        \"semantic_type\": \"\",\n        \"description\": \"\"\n      }\n    },\n    {\n      \"column\": \"bachelor's degree\",\n      \"properties\": {\n        \"dtype\": \"number\",\n        \"std\": 0,\n        \"min\": 0,\n        \"max\": 1,\n        \"num_unique_values\": 2,\n        \"samples\": [\n          0,\n          1\n        ],\n        \"semantic_type\": \"\",\n        \"description\": \"\"\n      }\n    },\n    {\n      \"column\": \"high school\",\n      \"properties\": {\n        \"dtype\": \"number\",\n        \"std\": 0,\n        \"min\": 0,\n        \"max\": 1,\n        \"num_unique_values\": 2,\n        \"samples\": [\n          1,\n          0\n        ],\n        \"semantic_type\": \"\",\n        \"description\": \"\"\n      }\n    },\n    {\n      \"column\": \"master's degree\",\n      \"properties\": {\n        \"dtype\": \"number\",\n        \"std\": 0,\n        \"min\": 0,\n        \"max\": 1,\n        \"num_unique_values\": 2,\n        \"samples\": [\n          1,\n          0\n        ],\n        \"semantic_type\": \"\",\n        \"description\": \"\"\n      }\n    },\n    {\n      \"column\": \"some college\",\n      \"properties\": {\n        \"dtype\": \"number\",\n        \"std\": 0,\n        \"min\": 0,\n        \"max\": 1,\n        \"num_unique_values\": 2,\n        \"samples\": [\n          1,\n          0\n        ],\n        \"semantic_type\": \"\",\n        \"description\": \"\"\n      }\n    },\n    {\n      \"column\": \"some high school\",\n      \"properties\": {\n        \"dtype\": \"number\",\n        \"std\": 0,\n        \"min\": 0,\n        \"max\": 1,\n        \"num_unique_values\": 2,\n        \"samples\": [\n          1,\n          0\n        ],\n        \"semantic_type\": \"\",\n        \"description\": \"\"\n      }\n    }\n  ]\n}"
            }
          },
          "metadata": {},
          "execution_count": 49
        }
      ],
      "source": [
        "students.head()"
      ]
    },
    {
      "cell_type": "markdown",
      "metadata": {
        "id": "7dYmh0wPtrtA"
      },
      "source": [
        "Antes que nada, chequeemos nuevamente que eliminamos todos los valores faltantes."
      ]
    },
    {
      "cell_type": "code",
      "execution_count": 50,
      "metadata": {
        "id": "Cb0O68OktrtA",
        "outputId": "0247bcb3-226b-4d24-b69b-33f70c22b003",
        "colab": {
          "base_uri": "https://localhost:8080/",
          "height": 554
        }
      },
      "outputs": [
        {
          "output_type": "execute_result",
          "data": {
            "text/plain": [
              "race/ethnicity             0\n",
              "lunch                      0\n",
              "test preparation course    0\n",
              "math score                 0\n",
              "reading score              0\n",
              "writing score              0\n",
              "english score              0\n",
              "female                     0\n",
              "male                       0\n",
              "associate's degree         0\n",
              "bachelor's degree          0\n",
              "high school                0\n",
              "master's degree            0\n",
              "some college               0\n",
              "some high school           0\n",
              "dtype: int64"
            ],
            "text/html": [
              "<div>\n",
              "<style scoped>\n",
              "    .dataframe tbody tr th:only-of-type {\n",
              "        vertical-align: middle;\n",
              "    }\n",
              "\n",
              "    .dataframe tbody tr th {\n",
              "        vertical-align: top;\n",
              "    }\n",
              "\n",
              "    .dataframe thead th {\n",
              "        text-align: right;\n",
              "    }\n",
              "</style>\n",
              "<table border=\"1\" class=\"dataframe\">\n",
              "  <thead>\n",
              "    <tr style=\"text-align: right;\">\n",
              "      <th></th>\n",
              "      <th>0</th>\n",
              "    </tr>\n",
              "  </thead>\n",
              "  <tbody>\n",
              "    <tr>\n",
              "      <th>race/ethnicity</th>\n",
              "      <td>0</td>\n",
              "    </tr>\n",
              "    <tr>\n",
              "      <th>lunch</th>\n",
              "      <td>0</td>\n",
              "    </tr>\n",
              "    <tr>\n",
              "      <th>test preparation course</th>\n",
              "      <td>0</td>\n",
              "    </tr>\n",
              "    <tr>\n",
              "      <th>math score</th>\n",
              "      <td>0</td>\n",
              "    </tr>\n",
              "    <tr>\n",
              "      <th>reading score</th>\n",
              "      <td>0</td>\n",
              "    </tr>\n",
              "    <tr>\n",
              "      <th>writing score</th>\n",
              "      <td>0</td>\n",
              "    </tr>\n",
              "    <tr>\n",
              "      <th>english score</th>\n",
              "      <td>0</td>\n",
              "    </tr>\n",
              "    <tr>\n",
              "      <th>female</th>\n",
              "      <td>0</td>\n",
              "    </tr>\n",
              "    <tr>\n",
              "      <th>male</th>\n",
              "      <td>0</td>\n",
              "    </tr>\n",
              "    <tr>\n",
              "      <th>associate's degree</th>\n",
              "      <td>0</td>\n",
              "    </tr>\n",
              "    <tr>\n",
              "      <th>bachelor's degree</th>\n",
              "      <td>0</td>\n",
              "    </tr>\n",
              "    <tr>\n",
              "      <th>high school</th>\n",
              "      <td>0</td>\n",
              "    </tr>\n",
              "    <tr>\n",
              "      <th>master's degree</th>\n",
              "      <td>0</td>\n",
              "    </tr>\n",
              "    <tr>\n",
              "      <th>some college</th>\n",
              "      <td>0</td>\n",
              "    </tr>\n",
              "    <tr>\n",
              "      <th>some high school</th>\n",
              "      <td>0</td>\n",
              "    </tr>\n",
              "  </tbody>\n",
              "</table>\n",
              "</div><br><label><b>dtype:</b> int64</label>"
            ]
          },
          "metadata": {},
          "execution_count": 50
        }
      ],
      "source": [
        "students.isnull().sum()"
      ]
    },
    {
      "cell_type": "markdown",
      "metadata": {
        "id": "0SfvRJY4trtB"
      },
      "source": [
        "Ahora tenemos que decidir que variable o variables vamos a predecir. Esto quiere decir que tenemos que elegir cual va a ser la variable que al predecirla conteste la pregunta que nos hicimos de los datos."
      ]
    },
    {
      "cell_type": "markdown",
      "metadata": {
        "id": "lfPUQYIdtrtB"
      },
      "source": [
        "Lo que queremos saber es:\n",
        "\n",
        "1. ¿Qué puntaje final obtendra un estudiante?\n",
        "2. Dado un estudiante, ¿aprobara o no el examen?\n",
        "\n",
        "**_¿Qué tipo de problemas estamos tratando de resolver?_**"
      ]
    },
    {
      "cell_type": "markdown",
      "metadata": {
        "id": "uRX1v41ctrtB"
      },
      "source": [
        "Para contestar estas preguntas vamos a obtener dos nuevas variables:\n",
        "\n",
        "1. El puntaje final: Lo obtendremos promediando los tres puntajes (matematica, lectura y escritura)\n",
        "2. Aprobado: Una etiqueta que me permita saber si cada estudiante del dataset aprobo el examen (puntaje final >= 60) o no lo aprobo (puntaje final < 60)."
      ]
    },
    {
      "cell_type": "code",
      "execution_count": 51,
      "metadata": {
        "id": "SIJoXs9btrtC"
      },
      "outputs": [],
      "source": [
        "students['puntaje_final'] = (students['math score'] + students['reading score'] + students['writing score']) / 3"
      ]
    },
    {
      "cell_type": "code",
      "source": [
        "students.head()"
      ],
      "metadata": {
        "colab": {
          "base_uri": "https://localhost:8080/",
          "height": 261
        },
        "id": "xijvTUjIxttw",
        "outputId": "080ea683-42bb-43ce-d6f8-be2e914f9e41"
      },
      "execution_count": 52,
      "outputs": [
        {
          "output_type": "execute_result",
          "data": {
            "text/plain": [
              "   race/ethnicity  lunch  test preparation course  math score  reading score  \\\n",
              "0               1      1                        1        72.0             72   \n",
              "1               2      1                        0        69.0             90   \n",
              "2               1      1                        1        90.0             95   \n",
              "3               0      0                        1        47.0             57   \n",
              "4               2      1                        1        76.0             78   \n",
              "\n",
              "   writing score  english score  female  male  associate's degree  \\\n",
              "0             74           73.0       1     0                   0   \n",
              "1             88           89.0       1     0                   0   \n",
              "2             93           94.0       1     0                   0   \n",
              "3             44           50.5       0     1                   1   \n",
              "4             75           76.5       0     1                   0   \n",
              "\n",
              "   bachelor's degree  high school  master's degree  some college  \\\n",
              "0                  1            0                0             0   \n",
              "1                  0            0                0             1   \n",
              "2                  0            0                1             0   \n",
              "3                  0            0                0             0   \n",
              "4                  0            0                0             1   \n",
              "\n",
              "   some high school  puntaje_final  \n",
              "0                 0      72.666667  \n",
              "1                 0      82.333333  \n",
              "2                 0      92.666667  \n",
              "3                 0      49.333333  \n",
              "4                 0      76.333333  "
            ],
            "text/html": [
              "\n",
              "  <div id=\"df-2408dde1-28ca-4c61-a4af-de1d3d58edee\" class=\"colab-df-container\">\n",
              "    <div>\n",
              "<style scoped>\n",
              "    .dataframe tbody tr th:only-of-type {\n",
              "        vertical-align: middle;\n",
              "    }\n",
              "\n",
              "    .dataframe tbody tr th {\n",
              "        vertical-align: top;\n",
              "    }\n",
              "\n",
              "    .dataframe thead th {\n",
              "        text-align: right;\n",
              "    }\n",
              "</style>\n",
              "<table border=\"1\" class=\"dataframe\">\n",
              "  <thead>\n",
              "    <tr style=\"text-align: right;\">\n",
              "      <th></th>\n",
              "      <th>race/ethnicity</th>\n",
              "      <th>lunch</th>\n",
              "      <th>test preparation course</th>\n",
              "      <th>math score</th>\n",
              "      <th>reading score</th>\n",
              "      <th>writing score</th>\n",
              "      <th>english score</th>\n",
              "      <th>female</th>\n",
              "      <th>male</th>\n",
              "      <th>associate's degree</th>\n",
              "      <th>bachelor's degree</th>\n",
              "      <th>high school</th>\n",
              "      <th>master's degree</th>\n",
              "      <th>some college</th>\n",
              "      <th>some high school</th>\n",
              "      <th>puntaje_final</th>\n",
              "    </tr>\n",
              "  </thead>\n",
              "  <tbody>\n",
              "    <tr>\n",
              "      <th>0</th>\n",
              "      <td>1</td>\n",
              "      <td>1</td>\n",
              "      <td>1</td>\n",
              "      <td>72.0</td>\n",
              "      <td>72</td>\n",
              "      <td>74</td>\n",
              "      <td>73.0</td>\n",
              "      <td>1</td>\n",
              "      <td>0</td>\n",
              "      <td>0</td>\n",
              "      <td>1</td>\n",
              "      <td>0</td>\n",
              "      <td>0</td>\n",
              "      <td>0</td>\n",
              "      <td>0</td>\n",
              "      <td>72.666667</td>\n",
              "    </tr>\n",
              "    <tr>\n",
              "      <th>1</th>\n",
              "      <td>2</td>\n",
              "      <td>1</td>\n",
              "      <td>0</td>\n",
              "      <td>69.0</td>\n",
              "      <td>90</td>\n",
              "      <td>88</td>\n",
              "      <td>89.0</td>\n",
              "      <td>1</td>\n",
              "      <td>0</td>\n",
              "      <td>0</td>\n",
              "      <td>0</td>\n",
              "      <td>0</td>\n",
              "      <td>0</td>\n",
              "      <td>1</td>\n",
              "      <td>0</td>\n",
              "      <td>82.333333</td>\n",
              "    </tr>\n",
              "    <tr>\n",
              "      <th>2</th>\n",
              "      <td>1</td>\n",
              "      <td>1</td>\n",
              "      <td>1</td>\n",
              "      <td>90.0</td>\n",
              "      <td>95</td>\n",
              "      <td>93</td>\n",
              "      <td>94.0</td>\n",
              "      <td>1</td>\n",
              "      <td>0</td>\n",
              "      <td>0</td>\n",
              "      <td>0</td>\n",
              "      <td>0</td>\n",
              "      <td>1</td>\n",
              "      <td>0</td>\n",
              "      <td>0</td>\n",
              "      <td>92.666667</td>\n",
              "    </tr>\n",
              "    <tr>\n",
              "      <th>3</th>\n",
              "      <td>0</td>\n",
              "      <td>0</td>\n",
              "      <td>1</td>\n",
              "      <td>47.0</td>\n",
              "      <td>57</td>\n",
              "      <td>44</td>\n",
              "      <td>50.5</td>\n",
              "      <td>0</td>\n",
              "      <td>1</td>\n",
              "      <td>1</td>\n",
              "      <td>0</td>\n",
              "      <td>0</td>\n",
              "      <td>0</td>\n",
              "      <td>0</td>\n",
              "      <td>0</td>\n",
              "      <td>49.333333</td>\n",
              "    </tr>\n",
              "    <tr>\n",
              "      <th>4</th>\n",
              "      <td>2</td>\n",
              "      <td>1</td>\n",
              "      <td>1</td>\n",
              "      <td>76.0</td>\n",
              "      <td>78</td>\n",
              "      <td>75</td>\n",
              "      <td>76.5</td>\n",
              "      <td>0</td>\n",
              "      <td>1</td>\n",
              "      <td>0</td>\n",
              "      <td>0</td>\n",
              "      <td>0</td>\n",
              "      <td>0</td>\n",
              "      <td>1</td>\n",
              "      <td>0</td>\n",
              "      <td>76.333333</td>\n",
              "    </tr>\n",
              "  </tbody>\n",
              "</table>\n",
              "</div>\n",
              "    <div class=\"colab-df-buttons\">\n",
              "\n",
              "  <div class=\"colab-df-container\">\n",
              "    <button class=\"colab-df-convert\" onclick=\"convertToInteractive('df-2408dde1-28ca-4c61-a4af-de1d3d58edee')\"\n",
              "            title=\"Convert this dataframe to an interactive table.\"\n",
              "            style=\"display:none;\">\n",
              "\n",
              "  <svg xmlns=\"http://www.w3.org/2000/svg\" height=\"24px\" viewBox=\"0 -960 960 960\">\n",
              "    <path d=\"M120-120v-720h720v720H120Zm60-500h600v-160H180v160Zm220 220h160v-160H400v160Zm0 220h160v-160H400v160ZM180-400h160v-160H180v160Zm440 0h160v-160H620v160ZM180-180h160v-160H180v160Zm440 0h160v-160H620v160Z\"/>\n",
              "  </svg>\n",
              "    </button>\n",
              "\n",
              "  <style>\n",
              "    .colab-df-container {\n",
              "      display:flex;\n",
              "      gap: 12px;\n",
              "    }\n",
              "\n",
              "    .colab-df-convert {\n",
              "      background-color: #E8F0FE;\n",
              "      border: none;\n",
              "      border-radius: 50%;\n",
              "      cursor: pointer;\n",
              "      display: none;\n",
              "      fill: #1967D2;\n",
              "      height: 32px;\n",
              "      padding: 0 0 0 0;\n",
              "      width: 32px;\n",
              "    }\n",
              "\n",
              "    .colab-df-convert:hover {\n",
              "      background-color: #E2EBFA;\n",
              "      box-shadow: 0px 1px 2px rgba(60, 64, 67, 0.3), 0px 1px 3px 1px rgba(60, 64, 67, 0.15);\n",
              "      fill: #174EA6;\n",
              "    }\n",
              "\n",
              "    .colab-df-buttons div {\n",
              "      margin-bottom: 4px;\n",
              "    }\n",
              "\n",
              "    [theme=dark] .colab-df-convert {\n",
              "      background-color: #3B4455;\n",
              "      fill: #D2E3FC;\n",
              "    }\n",
              "\n",
              "    [theme=dark] .colab-df-convert:hover {\n",
              "      background-color: #434B5C;\n",
              "      box-shadow: 0px 1px 3px 1px rgba(0, 0, 0, 0.15);\n",
              "      filter: drop-shadow(0px 1px 2px rgba(0, 0, 0, 0.3));\n",
              "      fill: #FFFFFF;\n",
              "    }\n",
              "  </style>\n",
              "\n",
              "    <script>\n",
              "      const buttonEl =\n",
              "        document.querySelector('#df-2408dde1-28ca-4c61-a4af-de1d3d58edee button.colab-df-convert');\n",
              "      buttonEl.style.display =\n",
              "        google.colab.kernel.accessAllowed ? 'block' : 'none';\n",
              "\n",
              "      async function convertToInteractive(key) {\n",
              "        const element = document.querySelector('#df-2408dde1-28ca-4c61-a4af-de1d3d58edee');\n",
              "        const dataTable =\n",
              "          await google.colab.kernel.invokeFunction('convertToInteractive',\n",
              "                                                    [key], {});\n",
              "        if (!dataTable) return;\n",
              "\n",
              "        const docLinkHtml = 'Like what you see? Visit the ' +\n",
              "          '<a target=\"_blank\" href=https://colab.research.google.com/notebooks/data_table.ipynb>data table notebook</a>'\n",
              "          + ' to learn more about interactive tables.';\n",
              "        element.innerHTML = '';\n",
              "        dataTable['output_type'] = 'display_data';\n",
              "        await google.colab.output.renderOutput(dataTable, element);\n",
              "        const docLink = document.createElement('div');\n",
              "        docLink.innerHTML = docLinkHtml;\n",
              "        element.appendChild(docLink);\n",
              "      }\n",
              "    </script>\n",
              "  </div>\n",
              "\n",
              "\n",
              "    <div id=\"df-5b3754b4-6d77-4b13-a1ba-4228fd775149\">\n",
              "      <button class=\"colab-df-quickchart\" onclick=\"quickchart('df-5b3754b4-6d77-4b13-a1ba-4228fd775149')\"\n",
              "                title=\"Suggest charts\"\n",
              "                style=\"display:none;\">\n",
              "\n",
              "<svg xmlns=\"http://www.w3.org/2000/svg\" height=\"24px\"viewBox=\"0 0 24 24\"\n",
              "     width=\"24px\">\n",
              "    <g>\n",
              "        <path d=\"M19 3H5c-1.1 0-2 .9-2 2v14c0 1.1.9 2 2 2h14c1.1 0 2-.9 2-2V5c0-1.1-.9-2-2-2zM9 17H7v-7h2v7zm4 0h-2V7h2v10zm4 0h-2v-4h2v4z\"/>\n",
              "    </g>\n",
              "</svg>\n",
              "      </button>\n",
              "\n",
              "<style>\n",
              "  .colab-df-quickchart {\n",
              "      --bg-color: #E8F0FE;\n",
              "      --fill-color: #1967D2;\n",
              "      --hover-bg-color: #E2EBFA;\n",
              "      --hover-fill-color: #174EA6;\n",
              "      --disabled-fill-color: #AAA;\n",
              "      --disabled-bg-color: #DDD;\n",
              "  }\n",
              "\n",
              "  [theme=dark] .colab-df-quickchart {\n",
              "      --bg-color: #3B4455;\n",
              "      --fill-color: #D2E3FC;\n",
              "      --hover-bg-color: #434B5C;\n",
              "      --hover-fill-color: #FFFFFF;\n",
              "      --disabled-bg-color: #3B4455;\n",
              "      --disabled-fill-color: #666;\n",
              "  }\n",
              "\n",
              "  .colab-df-quickchart {\n",
              "    background-color: var(--bg-color);\n",
              "    border: none;\n",
              "    border-radius: 50%;\n",
              "    cursor: pointer;\n",
              "    display: none;\n",
              "    fill: var(--fill-color);\n",
              "    height: 32px;\n",
              "    padding: 0;\n",
              "    width: 32px;\n",
              "  }\n",
              "\n",
              "  .colab-df-quickchart:hover {\n",
              "    background-color: var(--hover-bg-color);\n",
              "    box-shadow: 0 1px 2px rgba(60, 64, 67, 0.3), 0 1px 3px 1px rgba(60, 64, 67, 0.15);\n",
              "    fill: var(--button-hover-fill-color);\n",
              "  }\n",
              "\n",
              "  .colab-df-quickchart-complete:disabled,\n",
              "  .colab-df-quickchart-complete:disabled:hover {\n",
              "    background-color: var(--disabled-bg-color);\n",
              "    fill: var(--disabled-fill-color);\n",
              "    box-shadow: none;\n",
              "  }\n",
              "\n",
              "  .colab-df-spinner {\n",
              "    border: 2px solid var(--fill-color);\n",
              "    border-color: transparent;\n",
              "    border-bottom-color: var(--fill-color);\n",
              "    animation:\n",
              "      spin 1s steps(1) infinite;\n",
              "  }\n",
              "\n",
              "  @keyframes spin {\n",
              "    0% {\n",
              "      border-color: transparent;\n",
              "      border-bottom-color: var(--fill-color);\n",
              "      border-left-color: var(--fill-color);\n",
              "    }\n",
              "    20% {\n",
              "      border-color: transparent;\n",
              "      border-left-color: var(--fill-color);\n",
              "      border-top-color: var(--fill-color);\n",
              "    }\n",
              "    30% {\n",
              "      border-color: transparent;\n",
              "      border-left-color: var(--fill-color);\n",
              "      border-top-color: var(--fill-color);\n",
              "      border-right-color: var(--fill-color);\n",
              "    }\n",
              "    40% {\n",
              "      border-color: transparent;\n",
              "      border-right-color: var(--fill-color);\n",
              "      border-top-color: var(--fill-color);\n",
              "    }\n",
              "    60% {\n",
              "      border-color: transparent;\n",
              "      border-right-color: var(--fill-color);\n",
              "    }\n",
              "    80% {\n",
              "      border-color: transparent;\n",
              "      border-right-color: var(--fill-color);\n",
              "      border-bottom-color: var(--fill-color);\n",
              "    }\n",
              "    90% {\n",
              "      border-color: transparent;\n",
              "      border-bottom-color: var(--fill-color);\n",
              "    }\n",
              "  }\n",
              "</style>\n",
              "\n",
              "      <script>\n",
              "        async function quickchart(key) {\n",
              "          const quickchartButtonEl =\n",
              "            document.querySelector('#' + key + ' button');\n",
              "          quickchartButtonEl.disabled = true;  // To prevent multiple clicks.\n",
              "          quickchartButtonEl.classList.add('colab-df-spinner');\n",
              "          try {\n",
              "            const charts = await google.colab.kernel.invokeFunction(\n",
              "                'suggestCharts', [key], {});\n",
              "          } catch (error) {\n",
              "            console.error('Error during call to suggestCharts:', error);\n",
              "          }\n",
              "          quickchartButtonEl.classList.remove('colab-df-spinner');\n",
              "          quickchartButtonEl.classList.add('colab-df-quickchart-complete');\n",
              "        }\n",
              "        (() => {\n",
              "          let quickchartButtonEl =\n",
              "            document.querySelector('#df-5b3754b4-6d77-4b13-a1ba-4228fd775149 button');\n",
              "          quickchartButtonEl.style.display =\n",
              "            google.colab.kernel.accessAllowed ? 'block' : 'none';\n",
              "        })();\n",
              "      </script>\n",
              "    </div>\n",
              "\n",
              "    </div>\n",
              "  </div>\n"
            ],
            "application/vnd.google.colaboratory.intrinsic+json": {
              "type": "dataframe",
              "variable_name": "students",
              "summary": "{\n  \"name\": \"students\",\n  \"rows\": 1000,\n  \"fields\": [\n    {\n      \"column\": \"race/ethnicity\",\n      \"properties\": {\n        \"dtype\": \"number\",\n        \"std\": 1,\n        \"min\": 0,\n        \"max\": 4,\n        \"num_unique_values\": 5,\n        \"samples\": [\n          2,\n          4,\n          0\n        ],\n        \"semantic_type\": \"\",\n        \"description\": \"\"\n      }\n    },\n    {\n      \"column\": \"lunch\",\n      \"properties\": {\n        \"dtype\": \"number\",\n        \"std\": 0,\n        \"min\": 0,\n        \"max\": 1,\n        \"num_unique_values\": 2,\n        \"samples\": [\n          0,\n          1\n        ],\n        \"semantic_type\": \"\",\n        \"description\": \"\"\n      }\n    },\n    {\n      \"column\": \"test preparation course\",\n      \"properties\": {\n        \"dtype\": \"number\",\n        \"std\": 0,\n        \"min\": 0,\n        \"max\": 1,\n        \"num_unique_values\": 2,\n        \"samples\": [\n          0,\n          1\n        ],\n        \"semantic_type\": \"\",\n        \"description\": \"\"\n      }\n    },\n    {\n      \"column\": \"math score\",\n      \"properties\": {\n        \"dtype\": \"number\",\n        \"std\": 15.163080096009468,\n        \"min\": 0.0,\n        \"max\": 100.0,\n        \"num_unique_values\": 81,\n        \"samples\": [\n          55.0,\n          72.0\n        ],\n        \"semantic_type\": \"\",\n        \"description\": \"\"\n      }\n    },\n    {\n      \"column\": \"reading score\",\n      \"properties\": {\n        \"dtype\": \"number\",\n        \"std\": 14,\n        \"min\": 17,\n        \"max\": 100,\n        \"num_unique_values\": 72,\n        \"samples\": [\n          78,\n          23\n        ],\n        \"semantic_type\": \"\",\n        \"description\": \"\"\n      }\n    },\n    {\n      \"column\": \"writing score\",\n      \"properties\": {\n        \"dtype\": \"number\",\n        \"std\": 15,\n        \"min\": 10,\n        \"max\": 100,\n        \"num_unique_values\": 77,\n        \"samples\": [\n          75,\n          76\n        ],\n        \"semantic_type\": \"\",\n        \"description\": \"\"\n      }\n    },\n    {\n      \"column\": \"english score\",\n      \"properties\": {\n        \"dtype\": \"number\",\n        \"std\": 14.727923461217449,\n        \"min\": 13.5,\n        \"max\": 100.0,\n        \"num_unique_values\": 138,\n        \"samples\": [\n          76.0,\n          86.0\n        ],\n        \"semantic_type\": \"\",\n        \"description\": \"\"\n      }\n    },\n    {\n      \"column\": \"female\",\n      \"properties\": {\n        \"dtype\": \"number\",\n        \"std\": 0,\n        \"min\": 0,\n        \"max\": 1,\n        \"num_unique_values\": 2,\n        \"samples\": [\n          0,\n          1\n        ],\n        \"semantic_type\": \"\",\n        \"description\": \"\"\n      }\n    },\n    {\n      \"column\": \"male\",\n      \"properties\": {\n        \"dtype\": \"number\",\n        \"std\": 0,\n        \"min\": 0,\n        \"max\": 1,\n        \"num_unique_values\": 2,\n        \"samples\": [\n          1,\n          0\n        ],\n        \"semantic_type\": \"\",\n        \"description\": \"\"\n      }\n    },\n    {\n      \"column\": \"associate's degree\",\n      \"properties\": {\n        \"dtype\": \"number\",\n        \"std\": 0,\n        \"min\": 0,\n        \"max\": 1,\n        \"num_unique_values\": 2,\n        \"samples\": [\n          1,\n          0\n        ],\n        \"semantic_type\": \"\",\n        \"description\": \"\"\n      }\n    },\n    {\n      \"column\": \"bachelor's degree\",\n      \"properties\": {\n        \"dtype\": \"number\",\n        \"std\": 0,\n        \"min\": 0,\n        \"max\": 1,\n        \"num_unique_values\": 2,\n        \"samples\": [\n          0,\n          1\n        ],\n        \"semantic_type\": \"\",\n        \"description\": \"\"\n      }\n    },\n    {\n      \"column\": \"high school\",\n      \"properties\": {\n        \"dtype\": \"number\",\n        \"std\": 0,\n        \"min\": 0,\n        \"max\": 1,\n        \"num_unique_values\": 2,\n        \"samples\": [\n          1,\n          0\n        ],\n        \"semantic_type\": \"\",\n        \"description\": \"\"\n      }\n    },\n    {\n      \"column\": \"master's degree\",\n      \"properties\": {\n        \"dtype\": \"number\",\n        \"std\": 0,\n        \"min\": 0,\n        \"max\": 1,\n        \"num_unique_values\": 2,\n        \"samples\": [\n          1,\n          0\n        ],\n        \"semantic_type\": \"\",\n        \"description\": \"\"\n      }\n    },\n    {\n      \"column\": \"some college\",\n      \"properties\": {\n        \"dtype\": \"number\",\n        \"std\": 0,\n        \"min\": 0,\n        \"max\": 1,\n        \"num_unique_values\": 2,\n        \"samples\": [\n          1,\n          0\n        ],\n        \"semantic_type\": \"\",\n        \"description\": \"\"\n      }\n    },\n    {\n      \"column\": \"some high school\",\n      \"properties\": {\n        \"dtype\": \"number\",\n        \"std\": 0,\n        \"min\": 0,\n        \"max\": 1,\n        \"num_unique_values\": 2,\n        \"samples\": [\n          1,\n          0\n        ],\n        \"semantic_type\": \"\",\n        \"description\": \"\"\n      }\n    },\n    {\n      \"column\": \"puntaje_final\",\n      \"properties\": {\n        \"dtype\": \"number\",\n        \"std\": 14.257325984669153,\n        \"min\": 9.0,\n        \"max\": 100.0,\n        \"num_unique_values\": 194,\n        \"samples\": [\n          83.33333333333333,\n          26.0\n        ],\n        \"semantic_type\": \"\",\n        \"description\": \"\"\n      }\n    }\n  ]\n}"
            }
          },
          "metadata": {},
          "execution_count": 52
        }
      ]
    },
    {
      "cell_type": "markdown",
      "metadata": {
        "id": "mNmQ1a0mtrtC"
      },
      "source": [
        "## 📈 Regresión"
      ]
    },
    {
      "cell_type": "markdown",
      "metadata": {
        "id": "SQxaFrLntrtC"
      },
      "source": [
        "Comenzaremos contestando la pregunta 1. Este problema es un problema de regresión (_¿Por qué?_)"
      ]
    },
    {
      "cell_type": "markdown",
      "metadata": {
        "id": "IKd-7yjftrtC"
      },
      "source": [
        "### Seleccion de target (y) y variables (X)"
      ]
    },
    {
      "cell_type": "markdown",
      "metadata": {
        "id": "O3qhozKVtrtD"
      },
      "source": [
        "Lo primero que haremos, es seleccionar las variables o features que deseemos usar como variable independientes (aquellas que van a explicar mi predicción) y la variable a predecir.\n",
        "\n",
        "Usaremos todas las variables menos aquellas que fueron usadas para calcular el puntaje final. Debemos también asegurarnos de no incluir las variables a predecir. Como variable a predecir usaremos el puntaje final."
      ]
    },
    {
      "cell_type": "code",
      "execution_count": 53,
      "metadata": {
        "id": "n26RPfDktrtD"
      },
      "outputs": [],
      "source": [
        "# Elimino aquellas variables que no quiero incluir en el modelo y las guardo en x.\n",
        "x = students.drop(['math score', 'reading score', 'writing score', 'english score', 'puntaje_final'],\n",
        "                  axis=1)"
      ]
    },
    {
      "cell_type": "code",
      "execution_count": 54,
      "metadata": {
        "id": "WDwc7795trtD",
        "outputId": "48bb5733-ef3a-4af5-c14e-024d7ee592b8",
        "colab": {
          "base_uri": "https://localhost:8080/",
          "height": 223
        }
      },
      "outputs": [
        {
          "output_type": "execute_result",
          "data": {
            "text/plain": [
              "   race/ethnicity  lunch  test preparation course  female  male  \\\n",
              "0               1      1                        1       1     0   \n",
              "1               2      1                        0       1     0   \n",
              "2               1      1                        1       1     0   \n",
              "3               0      0                        1       0     1   \n",
              "4               2      1                        1       0     1   \n",
              "\n",
              "   associate's degree  bachelor's degree  high school  master's degree  \\\n",
              "0                   0                  1            0                0   \n",
              "1                   0                  0            0                0   \n",
              "2                   0                  0            0                1   \n",
              "3                   1                  0            0                0   \n",
              "4                   0                  0            0                0   \n",
              "\n",
              "   some college  some high school  \n",
              "0             0                 0  \n",
              "1             1                 0  \n",
              "2             0                 0  \n",
              "3             0                 0  \n",
              "4             1                 0  "
            ],
            "text/html": [
              "\n",
              "  <div id=\"df-762c080d-7b3f-4f57-a6a5-0ca9dbca562f\" class=\"colab-df-container\">\n",
              "    <div>\n",
              "<style scoped>\n",
              "    .dataframe tbody tr th:only-of-type {\n",
              "        vertical-align: middle;\n",
              "    }\n",
              "\n",
              "    .dataframe tbody tr th {\n",
              "        vertical-align: top;\n",
              "    }\n",
              "\n",
              "    .dataframe thead th {\n",
              "        text-align: right;\n",
              "    }\n",
              "</style>\n",
              "<table border=\"1\" class=\"dataframe\">\n",
              "  <thead>\n",
              "    <tr style=\"text-align: right;\">\n",
              "      <th></th>\n",
              "      <th>race/ethnicity</th>\n",
              "      <th>lunch</th>\n",
              "      <th>test preparation course</th>\n",
              "      <th>female</th>\n",
              "      <th>male</th>\n",
              "      <th>associate's degree</th>\n",
              "      <th>bachelor's degree</th>\n",
              "      <th>high school</th>\n",
              "      <th>master's degree</th>\n",
              "      <th>some college</th>\n",
              "      <th>some high school</th>\n",
              "    </tr>\n",
              "  </thead>\n",
              "  <tbody>\n",
              "    <tr>\n",
              "      <th>0</th>\n",
              "      <td>1</td>\n",
              "      <td>1</td>\n",
              "      <td>1</td>\n",
              "      <td>1</td>\n",
              "      <td>0</td>\n",
              "      <td>0</td>\n",
              "      <td>1</td>\n",
              "      <td>0</td>\n",
              "      <td>0</td>\n",
              "      <td>0</td>\n",
              "      <td>0</td>\n",
              "    </tr>\n",
              "    <tr>\n",
              "      <th>1</th>\n",
              "      <td>2</td>\n",
              "      <td>1</td>\n",
              "      <td>0</td>\n",
              "      <td>1</td>\n",
              "      <td>0</td>\n",
              "      <td>0</td>\n",
              "      <td>0</td>\n",
              "      <td>0</td>\n",
              "      <td>0</td>\n",
              "      <td>1</td>\n",
              "      <td>0</td>\n",
              "    </tr>\n",
              "    <tr>\n",
              "      <th>2</th>\n",
              "      <td>1</td>\n",
              "      <td>1</td>\n",
              "      <td>1</td>\n",
              "      <td>1</td>\n",
              "      <td>0</td>\n",
              "      <td>0</td>\n",
              "      <td>0</td>\n",
              "      <td>0</td>\n",
              "      <td>1</td>\n",
              "      <td>0</td>\n",
              "      <td>0</td>\n",
              "    </tr>\n",
              "    <tr>\n",
              "      <th>3</th>\n",
              "      <td>0</td>\n",
              "      <td>0</td>\n",
              "      <td>1</td>\n",
              "      <td>0</td>\n",
              "      <td>1</td>\n",
              "      <td>1</td>\n",
              "      <td>0</td>\n",
              "      <td>0</td>\n",
              "      <td>0</td>\n",
              "      <td>0</td>\n",
              "      <td>0</td>\n",
              "    </tr>\n",
              "    <tr>\n",
              "      <th>4</th>\n",
              "      <td>2</td>\n",
              "      <td>1</td>\n",
              "      <td>1</td>\n",
              "      <td>0</td>\n",
              "      <td>1</td>\n",
              "      <td>0</td>\n",
              "      <td>0</td>\n",
              "      <td>0</td>\n",
              "      <td>0</td>\n",
              "      <td>1</td>\n",
              "      <td>0</td>\n",
              "    </tr>\n",
              "  </tbody>\n",
              "</table>\n",
              "</div>\n",
              "    <div class=\"colab-df-buttons\">\n",
              "\n",
              "  <div class=\"colab-df-container\">\n",
              "    <button class=\"colab-df-convert\" onclick=\"convertToInteractive('df-762c080d-7b3f-4f57-a6a5-0ca9dbca562f')\"\n",
              "            title=\"Convert this dataframe to an interactive table.\"\n",
              "            style=\"display:none;\">\n",
              "\n",
              "  <svg xmlns=\"http://www.w3.org/2000/svg\" height=\"24px\" viewBox=\"0 -960 960 960\">\n",
              "    <path d=\"M120-120v-720h720v720H120Zm60-500h600v-160H180v160Zm220 220h160v-160H400v160Zm0 220h160v-160H400v160ZM180-400h160v-160H180v160Zm440 0h160v-160H620v160ZM180-180h160v-160H180v160Zm440 0h160v-160H620v160Z\"/>\n",
              "  </svg>\n",
              "    </button>\n",
              "\n",
              "  <style>\n",
              "    .colab-df-container {\n",
              "      display:flex;\n",
              "      gap: 12px;\n",
              "    }\n",
              "\n",
              "    .colab-df-convert {\n",
              "      background-color: #E8F0FE;\n",
              "      border: none;\n",
              "      border-radius: 50%;\n",
              "      cursor: pointer;\n",
              "      display: none;\n",
              "      fill: #1967D2;\n",
              "      height: 32px;\n",
              "      padding: 0 0 0 0;\n",
              "      width: 32px;\n",
              "    }\n",
              "\n",
              "    .colab-df-convert:hover {\n",
              "      background-color: #E2EBFA;\n",
              "      box-shadow: 0px 1px 2px rgba(60, 64, 67, 0.3), 0px 1px 3px 1px rgba(60, 64, 67, 0.15);\n",
              "      fill: #174EA6;\n",
              "    }\n",
              "\n",
              "    .colab-df-buttons div {\n",
              "      margin-bottom: 4px;\n",
              "    }\n",
              "\n",
              "    [theme=dark] .colab-df-convert {\n",
              "      background-color: #3B4455;\n",
              "      fill: #D2E3FC;\n",
              "    }\n",
              "\n",
              "    [theme=dark] .colab-df-convert:hover {\n",
              "      background-color: #434B5C;\n",
              "      box-shadow: 0px 1px 3px 1px rgba(0, 0, 0, 0.15);\n",
              "      filter: drop-shadow(0px 1px 2px rgba(0, 0, 0, 0.3));\n",
              "      fill: #FFFFFF;\n",
              "    }\n",
              "  </style>\n",
              "\n",
              "    <script>\n",
              "      const buttonEl =\n",
              "        document.querySelector('#df-762c080d-7b3f-4f57-a6a5-0ca9dbca562f button.colab-df-convert');\n",
              "      buttonEl.style.display =\n",
              "        google.colab.kernel.accessAllowed ? 'block' : 'none';\n",
              "\n",
              "      async function convertToInteractive(key) {\n",
              "        const element = document.querySelector('#df-762c080d-7b3f-4f57-a6a5-0ca9dbca562f');\n",
              "        const dataTable =\n",
              "          await google.colab.kernel.invokeFunction('convertToInteractive',\n",
              "                                                    [key], {});\n",
              "        if (!dataTable) return;\n",
              "\n",
              "        const docLinkHtml = 'Like what you see? Visit the ' +\n",
              "          '<a target=\"_blank\" href=https://colab.research.google.com/notebooks/data_table.ipynb>data table notebook</a>'\n",
              "          + ' to learn more about interactive tables.';\n",
              "        element.innerHTML = '';\n",
              "        dataTable['output_type'] = 'display_data';\n",
              "        await google.colab.output.renderOutput(dataTable, element);\n",
              "        const docLink = document.createElement('div');\n",
              "        docLink.innerHTML = docLinkHtml;\n",
              "        element.appendChild(docLink);\n",
              "      }\n",
              "    </script>\n",
              "  </div>\n",
              "\n",
              "\n",
              "    <div id=\"df-092473ed-301e-4451-86d5-474cdc3834d6\">\n",
              "      <button class=\"colab-df-quickchart\" onclick=\"quickchart('df-092473ed-301e-4451-86d5-474cdc3834d6')\"\n",
              "                title=\"Suggest charts\"\n",
              "                style=\"display:none;\">\n",
              "\n",
              "<svg xmlns=\"http://www.w3.org/2000/svg\" height=\"24px\"viewBox=\"0 0 24 24\"\n",
              "     width=\"24px\">\n",
              "    <g>\n",
              "        <path d=\"M19 3H5c-1.1 0-2 .9-2 2v14c0 1.1.9 2 2 2h14c1.1 0 2-.9 2-2V5c0-1.1-.9-2-2-2zM9 17H7v-7h2v7zm4 0h-2V7h2v10zm4 0h-2v-4h2v4z\"/>\n",
              "    </g>\n",
              "</svg>\n",
              "      </button>\n",
              "\n",
              "<style>\n",
              "  .colab-df-quickchart {\n",
              "      --bg-color: #E8F0FE;\n",
              "      --fill-color: #1967D2;\n",
              "      --hover-bg-color: #E2EBFA;\n",
              "      --hover-fill-color: #174EA6;\n",
              "      --disabled-fill-color: #AAA;\n",
              "      --disabled-bg-color: #DDD;\n",
              "  }\n",
              "\n",
              "  [theme=dark] .colab-df-quickchart {\n",
              "      --bg-color: #3B4455;\n",
              "      --fill-color: #D2E3FC;\n",
              "      --hover-bg-color: #434B5C;\n",
              "      --hover-fill-color: #FFFFFF;\n",
              "      --disabled-bg-color: #3B4455;\n",
              "      --disabled-fill-color: #666;\n",
              "  }\n",
              "\n",
              "  .colab-df-quickchart {\n",
              "    background-color: var(--bg-color);\n",
              "    border: none;\n",
              "    border-radius: 50%;\n",
              "    cursor: pointer;\n",
              "    display: none;\n",
              "    fill: var(--fill-color);\n",
              "    height: 32px;\n",
              "    padding: 0;\n",
              "    width: 32px;\n",
              "  }\n",
              "\n",
              "  .colab-df-quickchart:hover {\n",
              "    background-color: var(--hover-bg-color);\n",
              "    box-shadow: 0 1px 2px rgba(60, 64, 67, 0.3), 0 1px 3px 1px rgba(60, 64, 67, 0.15);\n",
              "    fill: var(--button-hover-fill-color);\n",
              "  }\n",
              "\n",
              "  .colab-df-quickchart-complete:disabled,\n",
              "  .colab-df-quickchart-complete:disabled:hover {\n",
              "    background-color: var(--disabled-bg-color);\n",
              "    fill: var(--disabled-fill-color);\n",
              "    box-shadow: none;\n",
              "  }\n",
              "\n",
              "  .colab-df-spinner {\n",
              "    border: 2px solid var(--fill-color);\n",
              "    border-color: transparent;\n",
              "    border-bottom-color: var(--fill-color);\n",
              "    animation:\n",
              "      spin 1s steps(1) infinite;\n",
              "  }\n",
              "\n",
              "  @keyframes spin {\n",
              "    0% {\n",
              "      border-color: transparent;\n",
              "      border-bottom-color: var(--fill-color);\n",
              "      border-left-color: var(--fill-color);\n",
              "    }\n",
              "    20% {\n",
              "      border-color: transparent;\n",
              "      border-left-color: var(--fill-color);\n",
              "      border-top-color: var(--fill-color);\n",
              "    }\n",
              "    30% {\n",
              "      border-color: transparent;\n",
              "      border-left-color: var(--fill-color);\n",
              "      border-top-color: var(--fill-color);\n",
              "      border-right-color: var(--fill-color);\n",
              "    }\n",
              "    40% {\n",
              "      border-color: transparent;\n",
              "      border-right-color: var(--fill-color);\n",
              "      border-top-color: var(--fill-color);\n",
              "    }\n",
              "    60% {\n",
              "      border-color: transparent;\n",
              "      border-right-color: var(--fill-color);\n",
              "    }\n",
              "    80% {\n",
              "      border-color: transparent;\n",
              "      border-right-color: var(--fill-color);\n",
              "      border-bottom-color: var(--fill-color);\n",
              "    }\n",
              "    90% {\n",
              "      border-color: transparent;\n",
              "      border-bottom-color: var(--fill-color);\n",
              "    }\n",
              "  }\n",
              "</style>\n",
              "\n",
              "      <script>\n",
              "        async function quickchart(key) {\n",
              "          const quickchartButtonEl =\n",
              "            document.querySelector('#' + key + ' button');\n",
              "          quickchartButtonEl.disabled = true;  // To prevent multiple clicks.\n",
              "          quickchartButtonEl.classList.add('colab-df-spinner');\n",
              "          try {\n",
              "            const charts = await google.colab.kernel.invokeFunction(\n",
              "                'suggestCharts', [key], {});\n",
              "          } catch (error) {\n",
              "            console.error('Error during call to suggestCharts:', error);\n",
              "          }\n",
              "          quickchartButtonEl.classList.remove('colab-df-spinner');\n",
              "          quickchartButtonEl.classList.add('colab-df-quickchart-complete');\n",
              "        }\n",
              "        (() => {\n",
              "          let quickchartButtonEl =\n",
              "            document.querySelector('#df-092473ed-301e-4451-86d5-474cdc3834d6 button');\n",
              "          quickchartButtonEl.style.display =\n",
              "            google.colab.kernel.accessAllowed ? 'block' : 'none';\n",
              "        })();\n",
              "      </script>\n",
              "    </div>\n",
              "\n",
              "    </div>\n",
              "  </div>\n"
            ],
            "application/vnd.google.colaboratory.intrinsic+json": {
              "type": "dataframe",
              "variable_name": "x",
              "summary": "{\n  \"name\": \"x\",\n  \"rows\": 1000,\n  \"fields\": [\n    {\n      \"column\": \"race/ethnicity\",\n      \"properties\": {\n        \"dtype\": \"number\",\n        \"std\": 1,\n        \"min\": 0,\n        \"max\": 4,\n        \"num_unique_values\": 5,\n        \"samples\": [\n          2,\n          4,\n          0\n        ],\n        \"semantic_type\": \"\",\n        \"description\": \"\"\n      }\n    },\n    {\n      \"column\": \"lunch\",\n      \"properties\": {\n        \"dtype\": \"number\",\n        \"std\": 0,\n        \"min\": 0,\n        \"max\": 1,\n        \"num_unique_values\": 2,\n        \"samples\": [\n          0,\n          1\n        ],\n        \"semantic_type\": \"\",\n        \"description\": \"\"\n      }\n    },\n    {\n      \"column\": \"test preparation course\",\n      \"properties\": {\n        \"dtype\": \"number\",\n        \"std\": 0,\n        \"min\": 0,\n        \"max\": 1,\n        \"num_unique_values\": 2,\n        \"samples\": [\n          0,\n          1\n        ],\n        \"semantic_type\": \"\",\n        \"description\": \"\"\n      }\n    },\n    {\n      \"column\": \"female\",\n      \"properties\": {\n        \"dtype\": \"number\",\n        \"std\": 0,\n        \"min\": 0,\n        \"max\": 1,\n        \"num_unique_values\": 2,\n        \"samples\": [\n          0,\n          1\n        ],\n        \"semantic_type\": \"\",\n        \"description\": \"\"\n      }\n    },\n    {\n      \"column\": \"male\",\n      \"properties\": {\n        \"dtype\": \"number\",\n        \"std\": 0,\n        \"min\": 0,\n        \"max\": 1,\n        \"num_unique_values\": 2,\n        \"samples\": [\n          1,\n          0\n        ],\n        \"semantic_type\": \"\",\n        \"description\": \"\"\n      }\n    },\n    {\n      \"column\": \"associate's degree\",\n      \"properties\": {\n        \"dtype\": \"number\",\n        \"std\": 0,\n        \"min\": 0,\n        \"max\": 1,\n        \"num_unique_values\": 2,\n        \"samples\": [\n          1,\n          0\n        ],\n        \"semantic_type\": \"\",\n        \"description\": \"\"\n      }\n    },\n    {\n      \"column\": \"bachelor's degree\",\n      \"properties\": {\n        \"dtype\": \"number\",\n        \"std\": 0,\n        \"min\": 0,\n        \"max\": 1,\n        \"num_unique_values\": 2,\n        \"samples\": [\n          0,\n          1\n        ],\n        \"semantic_type\": \"\",\n        \"description\": \"\"\n      }\n    },\n    {\n      \"column\": \"high school\",\n      \"properties\": {\n        \"dtype\": \"number\",\n        \"std\": 0,\n        \"min\": 0,\n        \"max\": 1,\n        \"num_unique_values\": 2,\n        \"samples\": [\n          1,\n          0\n        ],\n        \"semantic_type\": \"\",\n        \"description\": \"\"\n      }\n    },\n    {\n      \"column\": \"master's degree\",\n      \"properties\": {\n        \"dtype\": \"number\",\n        \"std\": 0,\n        \"min\": 0,\n        \"max\": 1,\n        \"num_unique_values\": 2,\n        \"samples\": [\n          1,\n          0\n        ],\n        \"semantic_type\": \"\",\n        \"description\": \"\"\n      }\n    },\n    {\n      \"column\": \"some college\",\n      \"properties\": {\n        \"dtype\": \"number\",\n        \"std\": 0,\n        \"min\": 0,\n        \"max\": 1,\n        \"num_unique_values\": 2,\n        \"samples\": [\n          1,\n          0\n        ],\n        \"semantic_type\": \"\",\n        \"description\": \"\"\n      }\n    },\n    {\n      \"column\": \"some high school\",\n      \"properties\": {\n        \"dtype\": \"number\",\n        \"std\": 0,\n        \"min\": 0,\n        \"max\": 1,\n        \"num_unique_values\": 2,\n        \"samples\": [\n          1,\n          0\n        ],\n        \"semantic_type\": \"\",\n        \"description\": \"\"\n      }\n    }\n  ]\n}"
            }
          },
          "metadata": {},
          "execution_count": 54
        }
      ],
      "source": [
        "x.head()"
      ]
    },
    {
      "cell_type": "code",
      "execution_count": 55,
      "metadata": {
        "id": "hsAHmeoqtrtD"
      },
      "outputs": [],
      "source": [
        "lista_atributos = x.columns"
      ]
    },
    {
      "cell_type": "code",
      "execution_count": 56,
      "metadata": {
        "id": "lBf0JdxUtrtE"
      },
      "outputs": [],
      "source": [
        "# Ahora selecciono las etiquetas y las guardo en y.\n",
        "y = students['puntaje_final']"
      ]
    },
    {
      "cell_type": "code",
      "execution_count": 57,
      "metadata": {
        "id": "3Ewo1kUBtrtE"
      },
      "outputs": [],
      "source": [
        "x, y = np.array(x), np.array(y)"
      ]
    },
    {
      "cell_type": "code",
      "execution_count": 58,
      "metadata": {
        "id": "u9aMP1SvtrtE",
        "outputId": "e7bb31ba-32ff-4976-a166-1bf6fdd86bf5",
        "colab": {
          "base_uri": "https://localhost:8080/"
        }
      },
      "outputs": [
        {
          "output_type": "execute_result",
          "data": {
            "text/plain": [
              "array([[1, 1, 1, ..., 0, 0, 0],\n",
              "       [2, 1, 0, ..., 0, 1, 0],\n",
              "       [1, 1, 1, ..., 1, 0, 0],\n",
              "       ...,\n",
              "       [2, 0, 0, ..., 0, 0, 0],\n",
              "       [3, 1, 0, ..., 0, 1, 0],\n",
              "       [3, 0, 1, ..., 0, 1, 0]])"
            ]
          },
          "metadata": {},
          "execution_count": 58
        }
      ],
      "source": [
        "x"
      ]
    },
    {
      "cell_type": "code",
      "execution_count": 59,
      "metadata": {
        "id": "3-iGuIYatrtE",
        "outputId": "19fb20a0-e0fb-4add-c787-277bf7398c13",
        "colab": {
          "base_uri": "https://localhost:8080/"
        }
      },
      "outputs": [
        {
          "output_type": "execute_result",
          "data": {
            "text/plain": [
              "array([72.66666667, 82.33333333, 92.66666667, 49.33333333, 76.33333333,\n",
              "       77.33333333, 91.66666667, 40.66666667, 65.        , 49.33333333])"
            ]
          },
          "metadata": {},
          "execution_count": 59
        }
      ],
      "source": [
        "y[:10]"
      ]
    },
    {
      "cell_type": "markdown",
      "metadata": {
        "id": "uN8FW_n8trtE"
      },
      "source": [
        "### Separando Train / Test"
      ]
    },
    {
      "cell_type": "markdown",
      "metadata": {
        "id": "_X-1g3OjtrtE"
      },
      "source": [
        "Ahora tenemos que separar el dataset en conjuntos de entrenamiento (X_train, y_train) y de testeo (X_test, y_test) usando la función train_test_split de scikit-learn.\n",
        "\n",
        "¿Por qué separamos el dataset? Porque es necesario entrenar el modelo con un set de datos. El modelo no puede ver los datos de evaluación cuando se esta entrenando!\n",
        "\n",
        "La forma en que se dividen los datos normalmente es 80% entrenamiento -20% evaluación)"
      ]
    },
    {
      "cell_type": "code",
      "execution_count": 60,
      "metadata": {
        "id": "yIm3SGfUtrtF"
      },
      "outputs": [],
      "source": [
        "# Importamos la librearia para separar el dataset.\n",
        "from sklearn.model_selection import train_test_split"
      ]
    },
    {
      "cell_type": "code",
      "execution_count": 61,
      "metadata": {
        "id": "AdXer8lCtrtF"
      },
      "outputs": [],
      "source": [
        "X_train, X_test, y_train, y_test = train_test_split(x, y, test_size=0.2,\n",
        "                                                    random_state=42)  #un numero aleatorio para fijar cuantas veces testeamos"
      ]
    },
    {
      "cell_type": "code",
      "execution_count": 63,
      "metadata": {
        "id": "-g1b9HJwtrtF",
        "outputId": "6a365898-b8d3-46b7-f432-d0610028c8c3",
        "colab": {
          "base_uri": "https://localhost:8080/"
        }
      },
      "outputs": [
        {
          "output_type": "execute_result",
          "data": {
            "text/plain": [
              "(1000, 11)"
            ]
          },
          "metadata": {},
          "execution_count": 63
        }
      ],
      "source": [
        "x.shape"
      ]
    },
    {
      "cell_type": "code",
      "execution_count": 64,
      "metadata": {
        "id": "6-ZNrK8YtrtF",
        "outputId": "da9b3738-fde8-4cca-c9b7-5f621f9651e2",
        "colab": {
          "base_uri": "https://localhost:8080/"
        }
      },
      "outputs": [
        {
          "output_type": "execute_result",
          "data": {
            "text/plain": [
              "(800, 11)"
            ]
          },
          "metadata": {},
          "execution_count": 64
        }
      ],
      "source": [
        "X_train.shape"
      ]
    },
    {
      "cell_type": "code",
      "source": [
        "y_test.shape"
      ],
      "metadata": {
        "colab": {
          "base_uri": "https://localhost:8080/"
        },
        "id": "0P9f80nI1G_B",
        "outputId": "d2bd0418-32bc-46d4-943f-cf2e4988d122"
      },
      "execution_count": 65,
      "outputs": [
        {
          "output_type": "execute_result",
          "data": {
            "text/plain": [
              "(200,)"
            ]
          },
          "metadata": {},
          "execution_count": 65
        }
      ]
    },
    {
      "cell_type": "code",
      "execution_count": 66,
      "metadata": {
        "id": "5nmnbgj_trtG",
        "outputId": "e725b261-463f-416a-abaa-b576e18526f3",
        "colab": {
          "base_uri": "https://localhost:8080/"
        }
      },
      "outputs": [
        {
          "output_type": "execute_result",
          "data": {
            "text/plain": [
              "(200, 11)"
            ]
          },
          "metadata": {},
          "execution_count": 66
        }
      ],
      "source": [
        "X_test.shape"
      ]
    },
    {
      "cell_type": "code",
      "source": [
        "# prompt: generar un gráfico de esta regresion\n",
        "\n",
        "import matplotlib.pyplot as plt\n",
        "# Now, let's generate a plot of the regression.\n",
        "# Since we haven't trained a model yet, we'll plot the relationship between one of the features (e.g., 'parental level of education') and the target variable ('puntaje_final').\n",
        "# We need the original dataframe with column names for plotting.\n",
        "students_plot = students.copy()\n",
        "\n",
        "# Let's use 'parental level of education' as an example feature for visualization.\n",
        "# We'll create a box plot to show the distribution of 'puntaje_final' for each education level.\n",
        "\n",
        "plt.figure(figsize=(10, 6))\n",
        "sns.boxplot(x='high school', y='puntaje_final', data=students_plot)\n",
        "plt.title('Distribución del puntaje final por escuela secundaria')\n",
        "plt.xlabel('Escuela Secundaria')\n",
        "plt.ylabel('Puntaje Final')\n",
        "plt.xticks(rotation=45, ha='right')\n",
        "plt.tight_layout()\n",
        "plt.show()\n",
        "\n",
        "# If you have a trained regression model (e.g., after fitting a Linear Regression),\n",
        "# you could also plot the predicted values against the actual values on the test set.\n",
        "# For example, if you had a model named `model` and had made predictions `y_pred` on `X_test`:\n",
        "\n",
        "# plt.figure(figsize=(8, 8))\n",
        "# plt.scatter(y_test, y_pred, alpha=0.5)\n",
        "# plt.plot([y_test.min(), y_test.max()], [y_test.min(), y_test.max()], 'k--', lw=2) # Line of perfect prediction\n",
        "# plt.xlabel('Actual Puntaje Final')\n",
        "# plt.ylabel('Predicted Puntaje Final')\n",
        "# plt.title('Actual vs. Predicted Puntaje Final (After Model Training)')\n",
        "# plt.grid(True)\n",
        "# plt.show()"
      ],
      "metadata": {
        "colab": {
          "base_uri": "https://localhost:8080/",
          "height": 607
        },
        "id": "xEOie6v3-4lm",
        "outputId": "70f9f9d3-392e-4295-86d7-b907725aaece"
      },
      "execution_count": 67,
      "outputs": [
        {
          "output_type": "display_data",
          "data": {
            "text/plain": [
              "<Figure size 1000x600 with 1 Axes>"
            ],
            "image/png": "[encoded data removed]"
          },
          "metadata": {}
        }
      ]
    },
    {
      "cell_type": "markdown",
      "source": [
        "Este es un **boxplot (o gráfico de caja)** hecho con Seaborn y Matplotlib. Se usa para visualizar la distribución de una variable numérica (en este caso, el \"Puntaje Final\") en función de una variable categórica (en este caso, si fue a \"Escuela Secundaria\").\n",
        "\n",
        "🔍 **Interpretación del gráfico:**\n",
        "Eje X (horizontal):\n",
        "Muestra dos categorías de la variable \"Escuela Secundaria\":\n",
        "\n",
        "0: No asistió a escuela secundaria\n",
        "\n",
        "1: Sí asistió a escuela secundaria\n",
        "\n",
        "Eje Y (vertical):\n",
        "Representa el \"Puntaje Final\".\n",
        "\n",
        "Cada caja (box):\n",
        "\n",
        "Línea central: Mediana (percentil 50) del puntaje\n",
        "\n",
        "Borde inferior y superior de la caja: Representan el primer (Q1) y tercer cuartil (Q3)\n",
        "\n",
        "\"Bigotes\" (whiskers): Se extienden hasta el mínimo y máximo dentro de 1.5 veces el rango intercuartílico\n",
        "\n",
        "Puntos fuera de los bigotes: Son outliers (valores atípicos)\n",
        "\n",
        "📊 **¿Qué dice este gráfico?**\n",
        "Comparación de distribución: Puedes comparar cómo se distribuyen los puntajes finales entre quienes no fueron a escuela secundaria (0) y quienes sí fueron (1).\n",
        "\n",
        "En el gráfico parece que:\n",
        "\n",
        "La mediana de los que no asistieron es un poco más alta.\n",
        "\n",
        "Hay mayor dispersión en ese grupo también.\n",
        "\n",
        "Ambos grupos tienen algunos outliers."
      ],
      "metadata": {
        "id": "RdVeLn5GB4qQ"
      }
    },
    {
      "cell_type": "markdown",
      "metadata": {
        "id": "Oz9faDEwtrtG"
      },
      "source": [
        "### **Random Forest**"
      ]
    },
    {
      "cell_type": "markdown",
      "metadata": {
        "id": "ZOdb9s8vtrtG"
      },
      "source": [
        "Recordemos que Random Forest es un algoritmo de ensamble. Hay dos tecnicas para esto: Bagging y Boosting.\n",
        "\n",
        "El objetivo de bagging es entrenar distintos modelos, donde cada uno vea distintas porciones del set de entrenamiento. Random Forest, además de aplicar Bagging, también selecciona features al azar, de esa manera descorrelaciona aún más los distintos modelos de árbol creados."
      ]
    },
    {
      "cell_type": "code",
      "execution_count": 75,
      "metadata": {
        "id": "9oSXXy4strtG"
      },
      "outputs": [],
      "source": [
        "from sklearn.ensemble import RandomForestRegressor"
      ]
    },
    {
      "cell_type": "code",
      "execution_count": 76,
      "metadata": {
        "id": "ZrABtqLAtrtG"
      },
      "outputs": [],
      "source": [
        "from sklearn.metrics import mean_absolute_error"
      ]
    },
    {
      "cell_type": "code",
      "execution_count": 94,
      "metadata": {
        "id": "5L1GE5zDtrtH"
      },
      "outputs": [],
      "source": [
        "# Inicializo el modelo\n",
        "regresor = RandomForestRegressor(criterion='absolute_error', random_state=25, n_estimators=50,max_depth=10)"
      ]
    },
    {
      "cell_type": "code",
      "execution_count": 95,
      "metadata": {
        "id": "A1HE79HntrtH"
      },
      "outputs": [],
      "source": [
        "# Entreno el modelo\n",
        "regresor.fit(X_train, y_train);"
      ]
    },
    {
      "cell_type": "code",
      "execution_count": 96,
      "metadata": {
        "id": "8pQdilCwtrtH",
        "outputId": "783f56f3-e6a2-4976-91c0-84c018cd35ef",
        "colab": {
          "base_uri": "https://localhost:8080/"
        }
      },
      "outputs": [
        {
          "output_type": "execute_result",
          "data": {
            "text/plain": [
              "{'bootstrap': True,\n",
              " 'ccp_alpha': 0.0,\n",
              " 'criterion': 'absolute_error',\n",
              " 'max_depth': 10,\n",
              " 'max_features': 1.0,\n",
              " 'max_leaf_nodes': None,\n",
              " 'max_samples': None,\n",
              " 'min_impurity_decrease': 0.0,\n",
              " 'min_samples_leaf': 1,\n",
              " 'min_samples_split': 2,\n",
              " 'min_weight_fraction_leaf': 0.0,\n",
              " 'monotonic_cst': None,\n",
              " 'n_estimators': 50,\n",
              " 'n_jobs': None,\n",
              " 'oob_score': False,\n",
              " 'random_state': 25,\n",
              " 'verbose': 0,\n",
              " 'warm_start': False}"
            ]
          },
          "metadata": {},
          "execution_count": 96
        }
      ],
      "source": [
        "regresor.get_params()"
      ]
    },
    {
      "cell_type": "markdown",
      "metadata": {
        "id": "QRnG61KltrtH"
      },
      "source": [
        "Ahora evaluaremos el modelo (Profundizaremos este concepto más adelante). Primero, hacemos predicciones para el set de evaluación y luego lo comparamos con los valores reales."
      ]
    },
    {
      "cell_type": "code",
      "execution_count": 97,
      "metadata": {
        "id": "od_0uGDKtrtH",
        "outputId": "7faae1ab-d38e-47d3-8405-13506cc880a3",
        "colab": {
          "base_uri": "https://localhost:8080/"
        }
      },
      "outputs": [
        {
          "output_type": "execute_result",
          "data": {
            "text/plain": [
              "array([64.71666667, 69.91666667, 64.94      , 59.04666667, 78.81666667,\n",
              "       60.06333333, 67.15333333, 61.91      , 59.43      , 69.43      ,\n",
              "       47.00666667, 79.25      , 62.60333333, 71.43666667, 71.98333333,\n",
              "       83.89666667, 66.27      , 62.51666667, 72.69333333, 54.52      ,\n",
              "       69.06666667, 72.69      , 68.94666667, 49.09666667, 59.91333333,\n",
              "       67.15333333, 76.01666667, 64.71666667, 65.49      , 71.43666667,\n",
              "       57.47666667, 71.98333333, 58.47333333, 66.34333333, 66.34333333,\n",
              "       63.12      , 60.06333333, 74.12666667, 73.4       , 54.87333333,\n",
              "       76.80333333, 69.43      , 76.01666667, 69.27666667, 60.06333333,\n",
              "       80.88666667, 59.97666667, 69.68333333, 70.98333333, 75.66      ,\n",
              "       79.52      , 73.49333333, 84.87333333, 69.91666667, 69.51      ,\n",
              "       74.12666667, 64.94      , 70.89333333, 68.65666667, 79.52      ,\n",
              "       62.26      , 58.68      , 64.71666667, 63.12      , 67.69      ,\n",
              "       72.69      , 71.43666667, 57.54      , 70.14333333, 73.49333333,\n",
              "       79.73333333, 76.1       , 59.04666667, 68.54666667, 73.28      ,\n",
              "       75.55333333, 81.74666667, 54.93333333, 72.56      , 63.90666667,\n",
              "       62.08666667, 54.81666667, 67.98666667, 68.91333333, 61.32      ,\n",
              "       49.09666667, 81.74666667, 61.91      , 69.70333333, 64.84666667,\n",
              "       58.78333333, 70.78      , 64.94      , 40.56666667, 74.22      ,\n",
              "       67.15333333, 66.02      , 69.27666667, 64.71666667, 76.46333333,\n",
              "       76.80333333, 66.34333333, 58.37      , 63.90333333, 56.49666667,\n",
              "       57.82333333, 72.80333333, 65.19333333, 76.43333333, 69.68333333,\n",
              "       72.92333333, 54.22333333, 56.49666667, 65.55333333, 53.        ,\n",
              "       65.19333333, 55.40666667, 66.57      , 61.67      , 65.20666667,\n",
              "       57.72333333, 53.        , 81.38      , 58.68      , 83.89666667,\n",
              "       70.34333333, 79.86333333, 69.70333333, 68.65666667, 73.28      ,\n",
              "       72.69333333, 67.15333333, 54.81666667, 91.63      , 64.71666667,\n",
              "       49.09666667, 86.        , 69.43      , 55.02666667, 68.54666667,\n",
              "       73.94      , 76.43333333, 59.91333333, 66.27      , 70.98333333,\n",
              "       64.03333333, 56.02666667, 70.34333333, 72.89666667, 77.12      ,\n",
              "       80.88666667, 77.67666667, 70.89333333, 63.85666667, 70.63      ,\n",
              "       70.78      , 64.76666667, 65.55333333, 77.40666667, 79.18333333,\n",
              "       86.        , 61.67      , 81.74666667, 55.40666667, 71.98333333,\n",
              "       60.66      , 55.82666667, 63.24333333, 86.        , 64.05333333,\n",
              "       69.43      , 72.80333333, 73.34333333, 70.14333333, 62.08666667,\n",
              "       58.82      , 66.27      , 69.10333333, 79.18333333, 69.70333333,\n",
              "       65.04333333, 49.09666667, 66.41666667, 55.40666667, 82.07333333,\n",
              "       73.13666667, 79.37666667, 72.36333333, 65.19333333, 79.52      ,\n",
              "       64.7       , 67.11666667, 59.43      , 78.47      , 68.88666667,\n",
              "       67.46666667, 79.73333333, 63.12      , 64.71666667, 83.89666667])"
            ]
          },
          "metadata": {},
          "execution_count": 97
        }
      ],
      "source": [
        "# Predigo los valores para el set de testeo\n",
        "y_pred = regresor.predict(X_test)\n",
        "\n",
        "y_pred"
      ]
    },
    {
      "cell_type": "code",
      "execution_count": 98,
      "metadata": {
        "id": "HBJlPxRctrtH",
        "outputId": "fde76769-60f4-4f57-df96-f7a38172ba04",
        "colab": {
          "base_uri": "https://localhost:8080/"
        }
      },
      "outputs": [
        {
          "output_type": "execute_result",
          "data": {
            "text/plain": [
              "11.392249999999999"
            ]
          },
          "metadata": {},
          "execution_count": 98
        }
      ],
      "source": [
        "# Calculo el error medio absoluto\n",
        "mean_absolute_error(y_test, y_pred)"
      ]
    },
    {
      "cell_type": "code",
      "source": [
        "#si aprobo etiqueta 1(>=60), si no aprobó 0\n",
        "import numpy as np\n",
        "y_pred_labels = np.where(y_pred >= 60, 1, 0)"
      ],
      "metadata": {
        "id": "vgIVvmTJUts1"
      },
      "execution_count": 100,
      "outputs": []
    },
    {
      "cell_type": "code",
      "source": [
        "# prompt: un gráfico de arbol\n",
        "\n",
        "# To plot a single decision tree from the Random Forest Regressor,\n",
        "# we need to export one of the trees and visualize it.\n",
        "# This requires the `graphviz` library.\n",
        "\n",
        "!pip install graphviz\n",
        "\n",
        "import graphviz\n",
        "from sklearn.tree import export_graphviz\n",
        "\n",
        "# Select a single tree from the trained Random Forest\n",
        "# We can choose the first tree for simplicity (index 0)\n",
        "single_tree = regresor.estimators_[0]\n",
        "\n",
        "# Export the tree to a DOT format file\n",
        "export_graphviz(single_tree, out_file='tree.dot',\n",
        "                feature_names=lista_atributos, # Use the feature names from your original x DataFrame\n",
        "                rounded=True, proportion=False,\n",
        "                precision=2, filled=True,\n",
        "                max_depth=3)\n",
        "\n",
        "# Read the DOT file and create a graph\n",
        "with open('tree.dot') as f:\n",
        "    dot_graph = f.read()\n",
        "\n",
        "# Render the graph\n",
        "# This will display the tree directly in the notebook\n",
        "graphviz.Source(dot_graph)\n"
      ],
      "metadata": {
        "colab": {
          "base_uri": "https://localhost:8080/",
          "height": 672
        },
        "id": "G1pUk9AaP_Tq",
        "outputId": "a1d27f12-f1c6-470c-d126-f463b3d0d80f"
      },
      "execution_count": 99,
      "outputs": [
        {
          "output_type": "stream",
          "name": "stdout",
          "text": [
            "Requirement already satisfied: graphviz in /usr/local/lib/python3.11/dist-packages (0.20.3)\n"
          ]
        },
        {
          "output_type": "execute_result",
          "data": {
            "image/svg+xml": "<?xml version=\"1.0\" encoding=\"UTF-8\" standalone=\"no\"?>\n<!DOCTYPE svg PUBLIC \"-//W3C//DTD SVG 1.1//EN\"\n \"http://www.w3.org/Graphics/SVG/1.1/DTD/svg11.dtd\">\n<!-- Generated by graphviz version 2.43.0 (0)\n -->\n<!-- Title: Tree Pages: 1 -->\n<svg width=\"1389pt\" height=\"460pt\"\n viewBox=\"0.00 0.00 1389.00 460.00\" xmlns=\"http://www.w3.org/2000/svg\" xmlns:xlink=\"http://www.w3.org/1999/xlink\">\n<g id=\"graph0\" class=\"graph\" transform=\"scale(1 1) rotate(0) translate(4 456)\">\n<title>Tree</title>\n<polygon fill=\"white\" stroke=\"transparent\" points=\"-4,4 -4,-456 1385,-456 1385,4 -4,4\"/>\n<!-- 0 -->\n<g id=\"node1\" class=\"node\">\n<title>0</title>\n<path fill=\"#efb489\" stroke=\"black\" d=\"M773,-452C773,-452 600,-452 600,-452 594,-452 588,-446 588,-440 588,-440 588,-396 588,-396 588,-390 594,-384 600,-384 600,-384 773,-384 773,-384 779,-384 785,-390 785,-396 785,-396 785,-440 785,-440 785,-446 779,-452 773,-452\"/>\n<text text-anchor=\"middle\" x=\"686.5\" y=\"-436.8\" font-family=\"Helvetica,sans-Serif\" font-size=\"14.00\">test preparation course &lt;= 0.5</text>\n<text text-anchor=\"middle\" x=\"686.5\" y=\"-421.8\" font-family=\"Helvetica,sans-Serif\" font-size=\"14.00\">absolute_error = 11.37</text>\n<text text-anchor=\"middle\" x=\"686.5\" y=\"-406.8\" font-family=\"Helvetica,sans-Serif\" font-size=\"14.00\">samples = 501</text>\n<text text-anchor=\"middle\" x=\"686.5\" y=\"-391.8\" font-family=\"Helvetica,sans-Serif\" font-size=\"14.00\">value = 68.33</text>\n</g>\n<!-- 1 -->\n<g id=\"node2\" class=\"node\">\n<title>1</title>\n<path fill=\"#eda978\" stroke=\"black\" d=\"M568.5,-348C568.5,-348 446.5,-348 446.5,-348 440.5,-348 434.5,-342 434.5,-336 434.5,-336 434.5,-292 434.5,-292 434.5,-286 440.5,-280 446.5,-280 446.5,-280 568.5,-280 568.5,-280 574.5,-280 580.5,-286 580.5,-292 580.5,-292 580.5,-336 580.5,-336 580.5,-342 574.5,-348 568.5,-348\"/>\n<text text-anchor=\"middle\" x=\"507.5\" y=\"-332.8\" font-family=\"Helvetica,sans-Serif\" font-size=\"14.00\">female &lt;= 0.5</text>\n<text text-anchor=\"middle\" x=\"507.5\" y=\"-317.8\" font-family=\"Helvetica,sans-Serif\" font-size=\"14.00\">absolute_error = 9.85</text>\n<text text-anchor=\"middle\" x=\"507.5\" y=\"-302.8\" font-family=\"Helvetica,sans-Serif\" font-size=\"14.00\">samples = 178</text>\n<text text-anchor=\"middle\" x=\"507.5\" y=\"-287.8\" font-family=\"Helvetica,sans-Serif\" font-size=\"14.00\">value = 74.67</text>\n</g>\n<!-- 0&#45;&gt;1 -->\n<g id=\"edge1\" class=\"edge\">\n<title>0&#45;&gt;1</title>\n<path fill=\"none\" stroke=\"black\" d=\"M628.38,-383.88C611.26,-374.12 592.38,-363.37 574.73,-353.31\"/>\n<polygon fill=\"black\" stroke=\"black\" points=\"576.05,-350.03 565.63,-348.12 572.59,-356.12 576.05,-350.03\"/>\n<text text-anchor=\"middle\" x=\"572.24\" y=\"-368.54\" font-family=\"Helvetica,sans-Serif\" font-size=\"14.00\">True</text>\n</g>\n<!-- 132 -->\n<g id=\"node15\" class=\"node\">\n<title>132</title>\n<path fill=\"#f1ba92\" stroke=\"black\" d=\"M925,-348C925,-348 796,-348 796,-348 790,-348 784,-342 784,-336 784,-336 784,-292 784,-292 784,-286 790,-280 796,-280 796,-280 925,-280 925,-280 931,-280 937,-286 937,-292 937,-292 937,-336 937,-336 937,-342 931,-348 925,-348\"/>\n<text text-anchor=\"middle\" x=\"860.5\" y=\"-332.8\" font-family=\"Helvetica,sans-Serif\" font-size=\"14.00\">lunch &lt;= 0.5</text>\n<text text-anchor=\"middle\" x=\"860.5\" y=\"-317.8\" font-family=\"Helvetica,sans-Serif\" font-size=\"14.00\">absolute_error = 11.18</text>\n<text text-anchor=\"middle\" x=\"860.5\" y=\"-302.8\" font-family=\"Helvetica,sans-Serif\" font-size=\"14.00\">samples = 323</text>\n<text text-anchor=\"middle\" x=\"860.5\" y=\"-287.8\" font-family=\"Helvetica,sans-Serif\" font-size=\"14.00\">value = 64.67</text>\n</g>\n<!-- 0&#45;&gt;132 -->\n<g id=\"edge14\" class=\"edge\">\n<title>0&#45;&gt;132</title>\n<path fill=\"none\" stroke=\"black\" d=\"M742.99,-383.88C759.64,-374.12 777.99,-363.37 795.15,-353.31\"/>\n<polygon fill=\"black\" stroke=\"black\" points=\"797.14,-356.2 803.99,-348.12 793.6,-350.16 797.14,-356.2\"/>\n<text text-anchor=\"middle\" x=\"797.68\" y=\"-368.62\" font-family=\"Helvetica,sans-Serif\" font-size=\"14.00\">False</text>\n</g>\n<!-- 2 -->\n<g id=\"node3\" class=\"node\">\n<title>2</title>\n<path fill=\"#efb184\" stroke=\"black\" d=\"M314.5,-244C314.5,-244 166.5,-244 166.5,-244 160.5,-244 154.5,-238 154.5,-232 154.5,-232 154.5,-188 154.5,-188 154.5,-182 160.5,-176 166.5,-176 166.5,-176 314.5,-176 314.5,-176 320.5,-176 326.5,-182 326.5,-188 326.5,-188 326.5,-232 326.5,-232 326.5,-238 320.5,-244 314.5,-244\"/>\n<text text-anchor=\"middle\" x=\"240.5\" y=\"-228.8\" font-family=\"Helvetica,sans-Serif\" font-size=\"14.00\">associate&#39;s degree &lt;= 0.5</text>\n<text text-anchor=\"middle\" x=\"240.5\" y=\"-213.8\" font-family=\"Helvetica,sans-Serif\" font-size=\"14.00\">absolute_error = 10.65</text>\n<text text-anchor=\"middle\" x=\"240.5\" y=\"-198.8\" font-family=\"Helvetica,sans-Serif\" font-size=\"14.00\">samples = 82</text>\n<text text-anchor=\"middle\" x=\"240.5\" y=\"-183.8\" font-family=\"Helvetica,sans-Serif\" font-size=\"14.00\">value = 70.33</text>\n</g>\n<!-- 1&#45;&gt;2 -->\n<g id=\"edge2\" class=\"edge\">\n<title>1&#45;&gt;2</title>\n<path fill=\"none\" stroke=\"black\" d=\"M434.19,-284.99C403.98,-273.45 368.57,-259.92 336.35,-247.62\"/>\n<polygon fill=\"black\" stroke=\"black\" points=\"337.49,-244.31 326.9,-244.01 335,-250.85 337.49,-244.31\"/>\n</g>\n<!-- 59 -->\n<g id=\"node8\" class=\"node\">\n<title>59</title>\n<path fill=\"#eda876\" stroke=\"black\" d=\"M568.5,-244C568.5,-244 446.5,-244 446.5,-244 440.5,-244 434.5,-238 434.5,-232 434.5,-232 434.5,-188 434.5,-188 434.5,-182 440.5,-176 446.5,-176 446.5,-176 568.5,-176 568.5,-176 574.5,-176 580.5,-182 580.5,-188 580.5,-188 580.5,-232 580.5,-232 580.5,-238 574.5,-244 568.5,-244\"/>\n<text text-anchor=\"middle\" x=\"507.5\" y=\"-228.8\" font-family=\"Helvetica,sans-Serif\" font-size=\"14.00\">race/ethnicity &lt;= 3.5</text>\n<text text-anchor=\"middle\" x=\"507.5\" y=\"-213.8\" font-family=\"Helvetica,sans-Serif\" font-size=\"14.00\">absolute_error = 8.77</text>\n<text text-anchor=\"middle\" x=\"507.5\" y=\"-198.8\" font-family=\"Helvetica,sans-Serif\" font-size=\"14.00\">samples = 96</text>\n<text text-anchor=\"middle\" x=\"507.5\" y=\"-183.8\" font-family=\"Helvetica,sans-Serif\" font-size=\"14.00\">value = 75.67</text>\n</g>\n<!-- 1&#45;&gt;59 -->\n<g id=\"edge7\" class=\"edge\">\n<title>1&#45;&gt;59</title>\n<path fill=\"none\" stroke=\"black\" d=\"M507.5,-279.88C507.5,-271.78 507.5,-262.98 507.5,-254.47\"/>\n<polygon fill=\"black\" stroke=\"black\" points=\"511,-254.3 507.5,-244.3 504,-254.3 511,-254.3\"/>\n</g>\n<!-- 3 -->\n<g id=\"node4\" class=\"node\">\n<title>3</title>\n<path fill=\"#efb489\" stroke=\"black\" d=\"M141,-140C141,-140 12,-140 12,-140 6,-140 0,-134 0,-128 0,-128 0,-84 0,-84 0,-78 6,-72 12,-72 12,-72 141,-72 141,-72 147,-72 153,-78 153,-84 153,-84 153,-128 153,-128 153,-134 147,-140 141,-140\"/>\n<text text-anchor=\"middle\" x=\"76.5\" y=\"-124.8\" font-family=\"Helvetica,sans-Serif\" font-size=\"14.00\">high school &lt;= 0.5</text>\n<text text-anchor=\"middle\" x=\"76.5\" y=\"-109.8\" font-family=\"Helvetica,sans-Serif\" font-size=\"14.00\">absolute_error = 10.05</text>\n<text text-anchor=\"middle\" x=\"76.5\" y=\"-94.8\" font-family=\"Helvetica,sans-Serif\" font-size=\"14.00\">samples = 59</text>\n<text text-anchor=\"middle\" x=\"76.5\" y=\"-79.8\" font-family=\"Helvetica,sans-Serif\" font-size=\"14.00\">value = 68.33</text>\n</g>\n<!-- 2&#45;&gt;3 -->\n<g id=\"edge3\" class=\"edge\">\n<title>2&#45;&gt;3</title>\n<path fill=\"none\" stroke=\"black\" d=\"M187.25,-175.88C171.71,-166.21 154.58,-155.56 138.54,-145.59\"/>\n<polygon fill=\"black\" stroke=\"black\" points=\"140.1,-142.43 129.76,-140.12 136.4,-148.38 140.1,-142.43\"/>\n</g>\n<!-- 58 -->\n<g id=\"node7\" class=\"node\">\n<title>58</title>\n<path fill=\"#eba06a\" stroke=\"black\" d=\"M297.5,-132.5C297.5,-132.5 183.5,-132.5 183.5,-132.5 177.5,-132.5 171.5,-126.5 171.5,-120.5 171.5,-120.5 171.5,-91.5 171.5,-91.5 171.5,-85.5 177.5,-79.5 183.5,-79.5 183.5,-79.5 297.5,-79.5 297.5,-79.5 303.5,-79.5 309.5,-85.5 309.5,-91.5 309.5,-91.5 309.5,-120.5 309.5,-120.5 309.5,-126.5 303.5,-132.5 297.5,-132.5\"/>\n<text text-anchor=\"middle\" x=\"240.5\" y=\"-117.3\" font-family=\"Helvetica,sans-Serif\" font-size=\"14.00\">absolute_error = 9.4</text>\n<text text-anchor=\"middle\" x=\"240.5\" y=\"-102.3\" font-family=\"Helvetica,sans-Serif\" font-size=\"14.00\">samples = 23</text>\n<text text-anchor=\"middle\" x=\"240.5\" y=\"-87.3\" font-family=\"Helvetica,sans-Serif\" font-size=\"14.00\">value = 80.33</text>\n</g>\n<!-- 2&#45;&gt;58 -->\n<g id=\"edge6\" class=\"edge\">\n<title>2&#45;&gt;58</title>\n<path fill=\"none\" stroke=\"black\" d=\"M240.5,-175.88C240.5,-165.33 240.5,-153.6 240.5,-142.85\"/>\n<polygon fill=\"black\" stroke=\"black\" points=\"244,-142.52 240.5,-132.52 237,-142.52 244,-142.52\"/>\n</g>\n<!-- 4 -->\n<g id=\"node5\" class=\"node\">\n<title>4</title>\n<path fill=\"#c0c0c0\" stroke=\"black\" d=\"M55.5,-36C55.5,-36 25.5,-36 25.5,-36 19.5,-36 13.5,-30 13.5,-24 13.5,-24 13.5,-12 13.5,-12 13.5,-6 19.5,0 25.5,0 25.5,0 55.5,0 55.5,0 61.5,0 67.5,-6 67.5,-12 67.5,-12 67.5,-24 67.5,-24 67.5,-30 61.5,-36 55.5,-36\"/>\n<text text-anchor=\"middle\" x=\"40.5\" y=\"-14.3\" font-family=\"Helvetica,sans-Serif\" font-size=\"14.00\">(...)</text>\n</g>\n<!-- 3&#45;&gt;4 -->\n<g id=\"edge4\" class=\"edge\">\n<title>3&#45;&gt;4</title>\n<path fill=\"none\" stroke=\"black\" d=\"M62.68,-72C59.04,-63.28 55.14,-53.98 51.66,-45.65\"/>\n<polygon fill=\"black\" stroke=\"black\" points=\"54.88,-44.28 47.79,-36.4 48.42,-46.98 54.88,-44.28\"/>\n</g>\n<!-- 43 -->\n<g id=\"node6\" class=\"node\">\n<title>43</title>\n<path fill=\"#c0c0c0\" stroke=\"black\" d=\"M127.5,-36C127.5,-36 97.5,-36 97.5,-36 91.5,-36 85.5,-30 85.5,-24 85.5,-24 85.5,-12 85.5,-12 85.5,-6 91.5,0 97.5,0 97.5,0 127.5,0 127.5,0 133.5,0 139.5,-6 139.5,-12 139.5,-12 139.5,-24 139.5,-24 139.5,-30 133.5,-36 127.5,-36\"/>\n<text text-anchor=\"middle\" x=\"112.5\" y=\"-14.3\" font-family=\"Helvetica,sans-Serif\" font-size=\"14.00\">(...)</text>\n</g>\n<!-- 3&#45;&gt;43 -->\n<g id=\"edge5\" class=\"edge\">\n<title>3&#45;&gt;43</title>\n<path fill=\"none\" stroke=\"black\" d=\"M90.32,-72C93.96,-63.28 97.86,-53.98 101.34,-45.65\"/>\n<polygon fill=\"black\" stroke=\"black\" points=\"104.58,-46.98 105.21,-36.4 98.12,-44.28 104.58,-46.98\"/>\n</g>\n<!-- 60 -->\n<g id=\"node9\" class=\"node\">\n<title>60</title>\n<path fill=\"#eda978\" stroke=\"black\" d=\"M483,-140C483,-140 340,-140 340,-140 334,-140 328,-134 328,-128 328,-128 328,-84 328,-84 328,-78 334,-72 340,-72 340,-72 483,-72 483,-72 489,-72 495,-78 495,-84 495,-84 495,-128 495,-128 495,-134 489,-140 483,-140\"/>\n<text text-anchor=\"middle\" x=\"411.5\" y=\"-124.8\" font-family=\"Helvetica,sans-Serif\" font-size=\"14.00\">bachelor&#39;s degree &lt;= 0.5</text>\n<text text-anchor=\"middle\" x=\"411.5\" y=\"-109.8\" font-family=\"Helvetica,sans-Serif\" font-size=\"14.00\">absolute_error = 8.13</text>\n<text text-anchor=\"middle\" x=\"411.5\" y=\"-94.8\" font-family=\"Helvetica,sans-Serif\" font-size=\"14.00\">samples = 81</text>\n<text text-anchor=\"middle\" x=\"411.5\" y=\"-79.8\" font-family=\"Helvetica,sans-Serif\" font-size=\"14.00\">value = 74.67</text>\n</g>\n<!-- 59&#45;&gt;60 -->\n<g id=\"edge8\" class=\"edge\">\n<title>59&#45;&gt;60</title>\n<path fill=\"none\" stroke=\"black\" d=\"M476.33,-175.88C467.86,-166.89 458.6,-157.04 449.79,-147.68\"/>\n<polygon fill=\"black\" stroke=\"black\" points=\"452.24,-145.18 442.84,-140.3 447.15,-149.98 452.24,-145.18\"/>\n</g>\n<!-- 117 -->\n<g id=\"node12\" class=\"node\">\n<title>117</title>\n<path fill=\"#ea995f\" stroke=\"black\" d=\"M673.5,-140C673.5,-140 525.5,-140 525.5,-140 519.5,-140 513.5,-134 513.5,-128 513.5,-128 513.5,-84 513.5,-84 513.5,-78 519.5,-72 525.5,-72 525.5,-72 673.5,-72 673.5,-72 679.5,-72 685.5,-78 685.5,-84 685.5,-84 685.5,-128 685.5,-128 685.5,-134 679.5,-140 673.5,-140\"/>\n<text text-anchor=\"middle\" x=\"599.5\" y=\"-124.8\" font-family=\"Helvetica,sans-Serif\" font-size=\"14.00\">associate&#39;s degree &lt;= 0.5</text>\n<text text-anchor=\"middle\" x=\"599.5\" y=\"-109.8\" font-family=\"Helvetica,sans-Serif\" font-size=\"14.00\">absolute_error = 10.33</text>\n<text text-anchor=\"middle\" x=\"599.5\" y=\"-94.8\" font-family=\"Helvetica,sans-Serif\" font-size=\"14.00\">samples = 15</text>\n<text text-anchor=\"middle\" x=\"599.5\" y=\"-79.8\" font-family=\"Helvetica,sans-Serif\" font-size=\"14.00\">value = 84.5</text>\n</g>\n<!-- 59&#45;&gt;117 -->\n<g id=\"edge11\" class=\"edge\">\n<title>59&#45;&gt;117</title>\n<path fill=\"none\" stroke=\"black\" d=\"M537.37,-175.88C545.4,-166.98 554.19,-157.24 562.56,-147.96\"/>\n<polygon fill=\"black\" stroke=\"black\" points=\"565.37,-150.07 569.47,-140.3 560.17,-145.38 565.37,-150.07\"/>\n</g>\n<!-- 61 -->\n<g id=\"node10\" class=\"node\">\n<title>61</title>\n<path fill=\"#c0c0c0\" stroke=\"black\" d=\"M376.5,-36C376.5,-36 346.5,-36 346.5,-36 340.5,-36 334.5,-30 334.5,-24 334.5,-24 334.5,-12 334.5,-12 334.5,-6 340.5,0 346.5,0 346.5,0 376.5,0 376.5,0 382.5,0 388.5,-6 388.5,-12 388.5,-12 388.5,-24 388.5,-24 388.5,-30 382.5,-36 376.5,-36\"/>\n<text text-anchor=\"middle\" x=\"361.5\" y=\"-14.3\" font-family=\"Helvetica,sans-Serif\" font-size=\"14.00\">(...)</text>\n</g>\n<!-- 60&#45;&gt;61 -->\n<g id=\"edge9\" class=\"edge\">\n<title>60&#45;&gt;61</title>\n<path fill=\"none\" stroke=\"black\" d=\"M392.31,-72C387.13,-63.09 381.6,-53.58 376.68,-45.11\"/>\n<polygon fill=\"black\" stroke=\"black\" points=\"379.67,-43.29 371.62,-36.4 373.62,-46.81 379.67,-43.29\"/>\n</g>\n<!-- 108 -->\n<g id=\"node11\" class=\"node\">\n<title>108</title>\n<path fill=\"#c0c0c0\" stroke=\"black\" d=\"M448.5,-36C448.5,-36 418.5,-36 418.5,-36 412.5,-36 406.5,-30 406.5,-24 406.5,-24 406.5,-12 406.5,-12 406.5,-6 412.5,0 418.5,0 418.5,0 448.5,0 448.5,0 454.5,0 460.5,-6 460.5,-12 460.5,-12 460.5,-24 460.5,-24 460.5,-30 454.5,-36 448.5,-36\"/>\n<text text-anchor=\"middle\" x=\"433.5\" y=\"-14.3\" font-family=\"Helvetica,sans-Serif\" font-size=\"14.00\">(...)</text>\n</g>\n<!-- 60&#45;&gt;108 -->\n<g id=\"edge10\" class=\"edge\">\n<title>60&#45;&gt;108</title>\n<path fill=\"none\" stroke=\"black\" d=\"M419.94,-72C422.12,-63.47 424.45,-54.39 426.54,-46.2\"/>\n<polygon fill=\"black\" stroke=\"black\" points=\"429.96,-46.96 429.05,-36.4 423.18,-45.22 429.96,-46.96\"/>\n</g>\n<!-- 118 -->\n<g id=\"node13\" class=\"node\">\n<title>118</title>\n<path fill=\"#c0c0c0\" stroke=\"black\" d=\"M558.5,-36C558.5,-36 528.5,-36 528.5,-36 522.5,-36 516.5,-30 516.5,-24 516.5,-24 516.5,-12 516.5,-12 516.5,-6 522.5,0 528.5,0 528.5,0 558.5,0 558.5,0 564.5,0 570.5,-6 570.5,-12 570.5,-12 570.5,-24 570.5,-24 570.5,-30 564.5,-36 558.5,-36\"/>\n<text text-anchor=\"middle\" x=\"543.5\" y=\"-14.3\" font-family=\"Helvetica,sans-Serif\" font-size=\"14.00\">(...)</text>\n</g>\n<!-- 117&#45;&gt;118 -->\n<g id=\"edge12\" class=\"edge\">\n<title>117&#45;&gt;118</title>\n<path fill=\"none\" stroke=\"black\" d=\"M578.01,-72C572.15,-63 565.89,-53.38 560.33,-44.84\"/>\n<polygon fill=\"black\" stroke=\"black\" points=\"563.22,-42.87 554.83,-36.4 557.36,-46.69 563.22,-42.87\"/>\n</g>\n<!-- 129 -->\n<g id=\"node14\" class=\"node\">\n<title>129</title>\n<path fill=\"#c0c0c0\" stroke=\"black\" d=\"M630.5,-36C630.5,-36 600.5,-36 600.5,-36 594.5,-36 588.5,-30 588.5,-24 588.5,-24 588.5,-12 588.5,-12 588.5,-6 594.5,0 600.5,0 600.5,0 630.5,0 630.5,0 636.5,0 642.5,-6 642.5,-12 642.5,-12 642.5,-24 642.5,-24 642.5,-30 636.5,-36 630.5,-36\"/>\n<text text-anchor=\"middle\" x=\"615.5\" y=\"-14.3\" font-family=\"Helvetica,sans-Serif\" font-size=\"14.00\">(...)</text>\n</g>\n<!-- 117&#45;&gt;129 -->\n<g id=\"edge13\" class=\"edge\">\n<title>117&#45;&gt;129</title>\n<path fill=\"none\" stroke=\"black\" d=\"M605.64,-72C607.21,-63.56 608.88,-54.59 610.39,-46.47\"/>\n<polygon fill=\"black\" stroke=\"black\" points=\"613.87,-46.87 612.26,-36.4 606.99,-45.59 613.87,-46.87\"/>\n</g>\n<!-- 133 -->\n<g id=\"node16\" class=\"node\">\n<title>133</title>\n<path fill=\"#f3c6a5\" stroke=\"black\" d=\"M925,-244C925,-244 796,-244 796,-244 790,-244 784,-238 784,-232 784,-232 784,-188 784,-188 784,-182 790,-176 796,-176 796,-176 925,-176 925,-176 931,-176 937,-182 937,-188 937,-188 937,-232 937,-232 937,-238 931,-244 925,-244\"/>\n<text text-anchor=\"middle\" x=\"860.5\" y=\"-228.8\" font-family=\"Helvetica,sans-Serif\" font-size=\"14.00\">high school &lt;= 0.5</text>\n<text text-anchor=\"middle\" x=\"860.5\" y=\"-213.8\" font-family=\"Helvetica,sans-Serif\" font-size=\"14.00\">absolute_error = 11.01</text>\n<text text-anchor=\"middle\" x=\"860.5\" y=\"-198.8\" font-family=\"Helvetica,sans-Serif\" font-size=\"14.00\">samples = 104</text>\n<text text-anchor=\"middle\" x=\"860.5\" y=\"-183.8\" font-family=\"Helvetica,sans-Serif\" font-size=\"14.00\">value = 57.67</text>\n</g>\n<!-- 132&#45;&gt;133 -->\n<g id=\"edge15\" class=\"edge\">\n<title>132&#45;&gt;133</title>\n<path fill=\"none\" stroke=\"black\" d=\"M860.5,-279.88C860.5,-271.78 860.5,-262.98 860.5,-254.47\"/>\n<polygon fill=\"black\" stroke=\"black\" points=\"864,-254.3 860.5,-244.3 857,-254.3 864,-254.3\"/>\n</g>\n<!-- 216 -->\n<g id=\"node23\" class=\"node\">\n<title>216</title>\n<path fill=\"#f0b48a\" stroke=\"black\" d=\"M1182,-244C1182,-244 1053,-244 1053,-244 1047,-244 1041,-238 1041,-232 1041,-232 1041,-188 1041,-188 1041,-182 1047,-176 1053,-176 1053,-176 1182,-176 1182,-176 1188,-176 1194,-182 1194,-188 1194,-188 1194,-232 1194,-232 1194,-238 1188,-244 1182,-244\"/>\n<text text-anchor=\"middle\" x=\"1117.5\" y=\"-228.8\" font-family=\"Helvetica,sans-Serif\" font-size=\"14.00\">race/ethnicity &lt;= 1.5</text>\n<text text-anchor=\"middle\" x=\"1117.5\" y=\"-213.8\" font-family=\"Helvetica,sans-Serif\" font-size=\"14.00\">absolute_error = 10.22</text>\n<text text-anchor=\"middle\" x=\"1117.5\" y=\"-198.8\" font-family=\"Helvetica,sans-Serif\" font-size=\"14.00\">samples = 219</text>\n<text text-anchor=\"middle\" x=\"1117.5\" y=\"-183.8\" font-family=\"Helvetica,sans-Serif\" font-size=\"14.00\">value = 68.0</text>\n</g>\n<!-- 132&#45;&gt;216 -->\n<g id=\"edge22\" class=\"edge\">\n<title>132&#45;&gt;216</title>\n<path fill=\"none\" stroke=\"black\" d=\"M937.26,-282.53C966.88,-270.78 1000.91,-257.27 1031.36,-245.19\"/>\n<polygon fill=\"black\" stroke=\"black\" points=\"1032.69,-248.43 1040.69,-241.48 1030.11,-241.92 1032.69,-248.43\"/>\n</g>\n<!-- 134 -->\n<g id=\"node17\" class=\"node\">\n<title>134</title>\n<path fill=\"#f3c4a3\" stroke=\"black\" d=\"M837.5,-140C837.5,-140 715.5,-140 715.5,-140 709.5,-140 703.5,-134 703.5,-128 703.5,-128 703.5,-84 703.5,-84 703.5,-78 709.5,-72 715.5,-72 715.5,-72 837.5,-72 837.5,-72 843.5,-72 849.5,-78 849.5,-84 849.5,-84 849.5,-128 849.5,-128 849.5,-134 843.5,-140 837.5,-140\"/>\n<text text-anchor=\"middle\" x=\"776.5\" y=\"-124.8\" font-family=\"Helvetica,sans-Serif\" font-size=\"14.00\">race/ethnicity &lt;= 2.5</text>\n<text text-anchor=\"middle\" x=\"776.5\" y=\"-109.8\" font-family=\"Helvetica,sans-Serif\" font-size=\"14.00\">absolute_error = 9.65</text>\n<text text-anchor=\"middle\" x=\"776.5\" y=\"-94.8\" font-family=\"Helvetica,sans-Serif\" font-size=\"14.00\">samples = 80</text>\n<text text-anchor=\"middle\" x=\"776.5\" y=\"-79.8\" font-family=\"Helvetica,sans-Serif\" font-size=\"14.00\">value = 58.33</text>\n</g>\n<!-- 133&#45;&gt;134 -->\n<g id=\"edge16\" class=\"edge\">\n<title>133&#45;&gt;134</title>\n<path fill=\"none\" stroke=\"black\" d=\"M833.23,-175.88C825.97,-167.07 818.03,-157.43 810.46,-148.24\"/>\n<polygon fill=\"black\" stroke=\"black\" points=\"812.98,-145.79 803.92,-140.3 807.58,-150.24 812.98,-145.79\"/>\n</g>\n<!-- 203 -->\n<g id=\"node20\" class=\"node\">\n<title>203</title>\n<path fill=\"#f7d6bf\" stroke=\"black\" d=\"M1009,-140C1009,-140 880,-140 880,-140 874,-140 868,-134 868,-128 868,-128 868,-84 868,-84 868,-78 874,-72 880,-72 880,-72 1009,-72 1009,-72 1015,-72 1021,-78 1021,-84 1021,-84 1021,-128 1021,-128 1021,-134 1015,-140 1009,-140\"/>\n<text text-anchor=\"middle\" x=\"944.5\" y=\"-124.8\" font-family=\"Helvetica,sans-Serif\" font-size=\"14.00\">race/ethnicity &lt;= 1.5</text>\n<text text-anchor=\"middle\" x=\"944.5\" y=\"-109.8\" font-family=\"Helvetica,sans-Serif\" font-size=\"14.00\">absolute_error = 14.52</text>\n<text text-anchor=\"middle\" x=\"944.5\" y=\"-94.8\" font-family=\"Helvetica,sans-Serif\" font-size=\"14.00\">samples = 24</text>\n<text text-anchor=\"middle\" x=\"944.5\" y=\"-79.8\" font-family=\"Helvetica,sans-Serif\" font-size=\"14.00\">value = 47.67</text>\n</g>\n<!-- 133&#45;&gt;203 -->\n<g id=\"edge19\" class=\"edge\">\n<title>133&#45;&gt;203</title>\n<path fill=\"none\" stroke=\"black\" d=\"M887.77,-175.88C895.03,-167.07 902.97,-157.43 910.54,-148.24\"/>\n<polygon fill=\"black\" stroke=\"black\" points=\"913.42,-150.24 917.08,-140.3 908.02,-145.79 913.42,-150.24\"/>\n</g>\n<!-- 135 -->\n<g id=\"node18\" class=\"node\">\n<title>135</title>\n<path fill=\"#c0c0c0\" stroke=\"black\" d=\"M731.5,-36C731.5,-36 701.5,-36 701.5,-36 695.5,-36 689.5,-30 689.5,-24 689.5,-24 689.5,-12 689.5,-12 689.5,-6 695.5,0 701.5,0 701.5,0 731.5,0 731.5,0 737.5,0 743.5,-6 743.5,-12 743.5,-12 743.5,-24 743.5,-24 743.5,-30 737.5,-36 731.5,-36\"/>\n<text text-anchor=\"middle\" x=\"716.5\" y=\"-14.3\" font-family=\"Helvetica,sans-Serif\" font-size=\"14.00\">(...)</text>\n</g>\n<!-- 134&#45;&gt;135 -->\n<g id=\"edge17\" class=\"edge\">\n<title>134&#45;&gt;135</title>\n<path fill=\"none\" stroke=\"black\" d=\"M753.47,-72C747.2,-63 740.48,-53.38 734.53,-44.84\"/>\n<polygon fill=\"black\" stroke=\"black\" points=\"737.23,-42.6 728.64,-36.4 731.49,-46.61 737.23,-42.6\"/>\n</g>\n<!-- 176 -->\n<g id=\"node19\" class=\"node\">\n<title>176</title>\n<path fill=\"#c0c0c0\" stroke=\"black\" d=\"M803.5,-36C803.5,-36 773.5,-36 773.5,-36 767.5,-36 761.5,-30 761.5,-24 761.5,-24 761.5,-12 761.5,-12 761.5,-6 767.5,0 773.5,0 773.5,0 803.5,0 803.5,0 809.5,0 815.5,-6 815.5,-12 815.5,-12 815.5,-24 815.5,-24 815.5,-30 809.5,-36 803.5,-36\"/>\n<text text-anchor=\"middle\" x=\"788.5\" y=\"-14.3\" font-family=\"Helvetica,sans-Serif\" font-size=\"14.00\">(...)</text>\n</g>\n<!-- 134&#45;&gt;176 -->\n<g id=\"edge18\" class=\"edge\">\n<title>134&#45;&gt;176</title>\n<path fill=\"none\" stroke=\"black\" d=\"M781.11,-72C782.28,-63.56 783.53,-54.59 784.67,-46.47\"/>\n<polygon fill=\"black\" stroke=\"black\" points=\"788.16,-46.79 786.07,-36.4 781.22,-45.82 788.16,-46.79\"/>\n</g>\n<!-- 204 -->\n<g id=\"node21\" class=\"node\">\n<title>204</title>\n<path fill=\"#c0c0c0\" stroke=\"black\" d=\"M901.5,-36C901.5,-36 871.5,-36 871.5,-36 865.5,-36 859.5,-30 859.5,-24 859.5,-24 859.5,-12 859.5,-12 859.5,-6 865.5,0 871.5,0 871.5,0 901.5,0 901.5,0 907.5,0 913.5,-6 913.5,-12 913.5,-12 913.5,-24 913.5,-24 913.5,-30 907.5,-36 901.5,-36\"/>\n<text text-anchor=\"middle\" x=\"886.5\" y=\"-14.3\" font-family=\"Helvetica,sans-Serif\" font-size=\"14.00\">(...)</text>\n</g>\n<!-- 203&#45;&gt;204 -->\n<g id=\"edge20\" class=\"edge\">\n<title>203&#45;&gt;204</title>\n<path fill=\"none\" stroke=\"black\" d=\"M922.24,-72C916.17,-63 909.68,-53.38 903.93,-44.84\"/>\n<polygon fill=\"black\" stroke=\"black\" points=\"906.73,-42.74 898.24,-36.4 900.93,-46.65 906.73,-42.74\"/>\n</g>\n<!-- 207 -->\n<g id=\"node22\" class=\"node\">\n<title>207</title>\n<path fill=\"#c0c0c0\" stroke=\"black\" d=\"M973.5,-36C973.5,-36 943.5,-36 943.5,-36 937.5,-36 931.5,-30 931.5,-24 931.5,-24 931.5,-12 931.5,-12 931.5,-6 937.5,0 943.5,0 943.5,0 973.5,0 973.5,0 979.5,0 985.5,-6 985.5,-12 985.5,-12 985.5,-24 985.5,-24 985.5,-30 979.5,-36 973.5,-36\"/>\n<text text-anchor=\"middle\" x=\"958.5\" y=\"-14.3\" font-family=\"Helvetica,sans-Serif\" font-size=\"14.00\">(...)</text>\n</g>\n<!-- 203&#45;&gt;207 -->\n<g id=\"edge21\" class=\"edge\">\n<title>203&#45;&gt;207</title>\n<path fill=\"none\" stroke=\"black\" d=\"M949.87,-72C951.25,-63.56 952.71,-54.59 954.03,-46.47\"/>\n<polygon fill=\"black\" stroke=\"black\" points=\"957.51,-46.84 955.67,-36.4 950.61,-45.71 957.51,-46.84\"/>\n</g>\n<!-- 217 -->\n<g id=\"node24\" class=\"node\">\n<title>217</title>\n<path fill=\"#f1bd98\" stroke=\"black\" d=\"M1184,-140C1184,-140 1051,-140 1051,-140 1045,-140 1039,-134 1039,-128 1039,-128 1039,-84 1039,-84 1039,-78 1045,-72 1051,-72 1051,-72 1184,-72 1184,-72 1190,-72 1196,-78 1196,-84 1196,-84 1196,-128 1196,-128 1196,-134 1190,-140 1184,-140\"/>\n<text text-anchor=\"middle\" x=\"1117.5\" y=\"-124.8\" font-family=\"Helvetica,sans-Serif\" font-size=\"14.00\">master&#39;s degree &lt;= 0.5</text>\n<text text-anchor=\"middle\" x=\"1117.5\" y=\"-109.8\" font-family=\"Helvetica,sans-Serif\" font-size=\"14.00\">absolute_error = 10.22</text>\n<text text-anchor=\"middle\" x=\"1117.5\" y=\"-94.8\" font-family=\"Helvetica,sans-Serif\" font-size=\"14.00\">samples = 63</text>\n<text text-anchor=\"middle\" x=\"1117.5\" y=\"-79.8\" font-family=\"Helvetica,sans-Serif\" font-size=\"14.00\">value = 62.67</text>\n</g>\n<!-- 216&#45;&gt;217 -->\n<g id=\"edge23\" class=\"edge\">\n<title>216&#45;&gt;217</title>\n<path fill=\"none\" stroke=\"black\" d=\"M1117.5,-175.88C1117.5,-167.78 1117.5,-158.98 1117.5,-150.47\"/>\n<polygon fill=\"black\" stroke=\"black\" points=\"1121,-150.3 1117.5,-140.3 1114,-150.3 1121,-150.3\"/>\n</g>\n<!-- 252 -->\n<g id=\"node27\" class=\"node\">\n<title>252</title>\n<path fill=\"#efb185\" stroke=\"black\" d=\"M1369,-140C1369,-140 1226,-140 1226,-140 1220,-140 1214,-134 1214,-128 1214,-128 1214,-84 1214,-84 1214,-78 1220,-72 1226,-72 1226,-72 1369,-72 1369,-72 1375,-72 1381,-78 1381,-84 1381,-84 1381,-128 1381,-128 1381,-134 1375,-140 1369,-140\"/>\n<text text-anchor=\"middle\" x=\"1297.5\" y=\"-124.8\" font-family=\"Helvetica,sans-Serif\" font-size=\"14.00\">bachelor&#39;s degree &lt;= 0.5</text>\n<text text-anchor=\"middle\" x=\"1297.5\" y=\"-109.8\" font-family=\"Helvetica,sans-Serif\" font-size=\"14.00\">absolute_error = 9.54</text>\n<text text-anchor=\"middle\" x=\"1297.5\" y=\"-94.8\" font-family=\"Helvetica,sans-Serif\" font-size=\"14.00\">samples = 156</text>\n<text text-anchor=\"middle\" x=\"1297.5\" y=\"-79.8\" font-family=\"Helvetica,sans-Serif\" font-size=\"14.00\">value = 70.0</text>\n</g>\n<!-- 216&#45;&gt;252 -->\n<g id=\"edge26\" class=\"edge\">\n<title>216&#45;&gt;252</title>\n<path fill=\"none\" stroke=\"black\" d=\"M1175.94,-175.88C1193.16,-166.12 1212.15,-155.37 1229.89,-145.31\"/>\n<polygon fill=\"black\" stroke=\"black\" points=\"1232.07,-148.1 1239.04,-140.12 1228.62,-142.01 1232.07,-148.1\"/>\n</g>\n<!-- 218 -->\n<g id=\"node25\" class=\"node\">\n<title>218</title>\n<path fill=\"#c0c0c0\" stroke=\"black\" d=\"M1096.5,-36C1096.5,-36 1066.5,-36 1066.5,-36 1060.5,-36 1054.5,-30 1054.5,-24 1054.5,-24 1054.5,-12 1054.5,-12 1054.5,-6 1060.5,0 1066.5,0 1066.5,0 1096.5,0 1096.5,0 1102.5,0 1108.5,-6 1108.5,-12 1108.5,-12 1108.5,-24 1108.5,-24 1108.5,-30 1102.5,-36 1096.5,-36\"/>\n<text text-anchor=\"middle\" x=\"1081.5\" y=\"-14.3\" font-family=\"Helvetica,sans-Serif\" font-size=\"14.00\">(...)</text>\n</g>\n<!-- 217&#45;&gt;218 -->\n<g id=\"edge24\" class=\"edge\">\n<title>217&#45;&gt;218</title>\n<path fill=\"none\" stroke=\"black\" d=\"M1103.68,-72C1100.04,-63.28 1096.14,-53.98 1092.66,-45.65\"/>\n<polygon fill=\"black\" stroke=\"black\" points=\"1095.88,-44.28 1088.79,-36.4 1089.42,-46.98 1095.88,-44.28\"/>\n</g>\n<!-- 251 -->\n<g id=\"node26\" class=\"node\">\n<title>251</title>\n<path fill=\"#c0c0c0\" stroke=\"black\" d=\"M1168.5,-36C1168.5,-36 1138.5,-36 1138.5,-36 1132.5,-36 1126.5,-30 1126.5,-24 1126.5,-24 1126.5,-12 1126.5,-12 1126.5,-6 1132.5,0 1138.5,0 1138.5,0 1168.5,0 1168.5,0 1174.5,0 1180.5,-6 1180.5,-12 1180.5,-12 1180.5,-24 1180.5,-24 1180.5,-30 1174.5,-36 1168.5,-36\"/>\n<text text-anchor=\"middle\" x=\"1153.5\" y=\"-14.3\" font-family=\"Helvetica,sans-Serif\" font-size=\"14.00\">(...)</text>\n</g>\n<!-- 217&#45;&gt;251 -->\n<g id=\"edge25\" class=\"edge\">\n<title>217&#45;&gt;251</title>\n<path fill=\"none\" stroke=\"black\" d=\"M1131.32,-72C1134.96,-63.28 1138.86,-53.98 1142.34,-45.65\"/>\n<polygon fill=\"black\" stroke=\"black\" points=\"1145.58,-46.98 1146.21,-36.4 1139.12,-44.28 1145.58,-46.98\"/>\n</g>\n<!-- 253 -->\n<g id=\"node28\" class=\"node\">\n<title>253</title>\n<path fill=\"#c0c0c0\" stroke=\"black\" d=\"M1276.5,-36C1276.5,-36 1246.5,-36 1246.5,-36 1240.5,-36 1234.5,-30 1234.5,-24 1234.5,-24 1234.5,-12 1234.5,-12 1234.5,-6 1240.5,0 1246.5,0 1246.5,0 1276.5,0 1276.5,0 1282.5,0 1288.5,-6 1288.5,-12 1288.5,-12 1288.5,-24 1288.5,-24 1288.5,-30 1282.5,-36 1276.5,-36\"/>\n<text text-anchor=\"middle\" x=\"1261.5\" y=\"-14.3\" font-family=\"Helvetica,sans-Serif\" font-size=\"14.00\">(...)</text>\n</g>\n<!-- 252&#45;&gt;253 -->\n<g id=\"edge27\" class=\"edge\">\n<title>252&#45;&gt;253</title>\n<path fill=\"none\" stroke=\"black\" d=\"M1283.68,-72C1280.04,-63.28 1276.14,-53.98 1272.66,-45.65\"/>\n<polygon fill=\"black\" stroke=\"black\" points=\"1275.88,-44.28 1268.79,-36.4 1269.42,-46.98 1275.88,-44.28\"/>\n</g>\n<!-- 292 -->\n<g id=\"node29\" class=\"node\">\n<title>292</title>\n<path fill=\"#c0c0c0\" stroke=\"black\" d=\"M1348.5,-36C1348.5,-36 1318.5,-36 1318.5,-36 1312.5,-36 1306.5,-30 1306.5,-24 1306.5,-24 1306.5,-12 1306.5,-12 1306.5,-6 1312.5,0 1318.5,0 1318.5,0 1348.5,0 1348.5,0 1354.5,0 1360.5,-6 1360.5,-12 1360.5,-12 1360.5,-24 1360.5,-24 1360.5,-30 1354.5,-36 1348.5,-36\"/>\n<text text-anchor=\"middle\" x=\"1333.5\" y=\"-14.3\" font-family=\"Helvetica,sans-Serif\" font-size=\"14.00\">(...)</text>\n</g>\n<!-- 252&#45;&gt;292 -->\n<g id=\"edge28\" class=\"edge\">\n<title>252&#45;&gt;292</title>\n<path fill=\"none\" stroke=\"black\" d=\"M1311.32,-72C1314.96,-63.28 1318.86,-53.98 1322.34,-45.65\"/>\n<polygon fill=\"black\" stroke=\"black\" points=\"1325.58,-46.98 1326.21,-36.4 1319.12,-44.28 1325.58,-46.98\"/>\n</g>\n</g>\n</svg>\n",
            "text/plain": [
              "<graphviz.sources.Source at 0x784e27b7fd50>"
            ]
          },
          "metadata": {},
          "execution_count": 99
        }
      ]
    },
    {
      "cell_type": "markdown",
      "metadata": {
        "id": "qYAlpjhe6Xxf"
      },
      "source": [
        "### Support Vector Machine"
      ]
    },
    {
      "cell_type": "markdown",
      "metadata": {
        "id": "DHg72K8n6Xxf"
      },
      "source": [
        "Recordemos que el SVM es un algortimo que establece un hiperplano que separa los puntos maximizando el margen. A su vez, una de sus ventajas es la aplicación de Kernels que me permite ajustar mejor el modelo.\n"
      ]
    },
    {
      "cell_type": "code",
      "execution_count": 101,
      "metadata": {
        "id": "cXb6rs9Z6Xxg"
      },
      "outputs": [],
      "source": [
        "from sklearn.svm import SVR"
      ]
    },
    {
      "cell_type": "code",
      "execution_count": 125,
      "metadata": {
        "id": "xAI3Ci-k6Xxg"
      },
      "outputs": [],
      "source": [
        "# Inicializo el modelo\n",
        "regresor_svr = SVR(C=1.0, epsilon=0.25,kernel='poly')"
      ]
    },
    {
      "cell_type": "code",
      "execution_count": 126,
      "metadata": {
        "id": "Vz5NeX976Xxg"
      },
      "outputs": [],
      "source": [
        "# Entreno el modelo\n",
        "regresor_svr.fit(X_train, y_train);"
      ]
    },
    {
      "cell_type": "code",
      "execution_count": 118,
      "metadata": {
        "outputId": "43af25cd-7daf-4a36-ff15-c016db467d65",
        "id": "fXv7scfD6Xxg",
        "colab": {
          "base_uri": "https://localhost:8080/"
        }
      },
      "outputs": [
        {
          "output_type": "execute_result",
          "data": {
            "text/plain": [
              "{'C': 1.0,\n",
              " 'cache_size': 200,\n",
              " 'coef0': 0.0,\n",
              " 'degree': 3,\n",
              " 'epsilon': 0.25,\n",
              " 'gamma': 'scale',\n",
              " 'kernel': 'linear',\n",
              " 'max_iter': -1,\n",
              " 'shrinking': True,\n",
              " 'tol': 0.001,\n",
              " 'verbose': False}"
            ]
          },
          "metadata": {},
          "execution_count": 118
        }
      ],
      "source": [
        "regresor_svr.get_params()"
      ]
    },
    {
      "cell_type": "markdown",
      "metadata": {
        "id": "h-qnVD1O6Xxh"
      },
      "source": [
        "Ahora evaluaremos el modelo (Profundizaremos este concepto más adelante). Primero, hacemos predicciones para el set de evaluación y luego lo comparamos con los valores reales."
      ]
    },
    {
      "cell_type": "code",
      "execution_count": 127,
      "metadata": {
        "id": "5aRP6xgX6Xxh",
        "outputId": "ecf4a4a8-8e14-43e3-aea2-e3e69ba886c1",
        "colab": {
          "base_uri": "https://localhost:8080/"
        }
      },
      "outputs": [
        {
          "output_type": "execute_result",
          "data": {
            "text/plain": [
              "array([69.26539867, 66.49940922, 68.22666086, 61.46240881, 78.02371834,\n",
              "       62.11612189, 65.40743293, 67.92320447, 62.55869206, 66.22755748,\n",
              "       63.34240854, 70.25046622, 64.8183838 , 65.08293028, 72.21002453,\n",
              "       76.33192827, 66.24975549, 61.99096183, 71.75259104, 64.08005772,\n",
              "       68.6253659 , 68.14126006, 68.3527097 , 61.72601605, 65.4253583 ,\n",
              "       69.21578507, 72.90692759, 69.26539867, 64.87840498, 65.08293028,\n",
              "       63.52511596, 72.21002453, 63.55155977, 69.31038626, 69.31038626,\n",
              "       64.75033203, 62.11612189, 73.26528653, 69.88639935, 62.59082717,\n",
              "       70.07913027, 66.22755748, 72.90692759, 65.55995296, 62.11612189,\n",
              "       81.52751955, 58.86947762, 67.41688064, 72.45395507, 65.54863247,\n",
              "       65.88511886, 73.13492189, 68.22872841, 66.49940922, 68.76095372,\n",
              "       73.26528653, 68.22666086, 66.43373276, 64.78056163, 65.87634074,\n",
              "       65.02465901, 65.89778687, 69.26539867, 64.75033203, 70.06288314,\n",
              "       68.14126006, 65.08293028, 60.52690493, 71.12852637, 73.13492189,\n",
              "       81.97386998, 70.58318105, 61.46240881, 64.51105438, 68.6390858 ,\n",
              "       77.86687641, 78.5341856 , 63.25017447, 65.30993048, 65.57598967,\n",
              "       60.41679502, 59.62683321, 66.03702476, 69.61841259, 64.77644912,\n",
              "       61.72601605, 78.5341856 , 67.92320447, 71.34349662, 63.65462213,\n",
              "       64.13978375, 78.2502047 , 68.22666086, 62.08278561, 67.11487177,\n",
              "       69.21578507, 66.27362086, 65.55995296, 69.26539867, 67.60924461,\n",
              "       70.07913027, 69.31038626, 64.06156056, 63.87491618, 63.22540243,\n",
              "       63.58490521, 73.32142967, 64.5281192 , 67.23715046, 67.41688064,\n",
              "       65.88388853, 63.00045571, 63.22540243, 66.18460338, 64.78494907,\n",
              "       64.5281192 , 64.74597323, 71.9229185 , 65.83481172, 65.2501616 ,\n",
              "       64.5159801 , 64.78494907, 72.41646935, 65.89778687, 76.33192827,\n",
              "       67.44377792, 78.50949434, 71.34349662, 64.78056163, 68.6390858 ,\n",
              "       71.75259104, 69.21578507, 59.62683321, 87.18003368, 69.26539867,\n",
              "       61.72601605, 72.52543385, 66.22755748, 64.35605082, 64.51105438,\n",
              "       64.89362118, 67.23715046, 65.4253583 , 66.24975549, 72.45395507,\n",
              "       64.08348544, 63.87826889, 67.44377792, 69.21841817, 73.77008278,\n",
              "       81.52751955, 68.27596223, 66.43373276, 61.20487491, 74.1500071 ,\n",
              "       78.2502047 , 60.51482833, 66.18460338, 69.74992715, 78.49283596,\n",
              "       72.52543385, 65.83481172, 78.5341856 , 64.74597323, 72.21002453,\n",
              "       64.41010113, 64.55603889, 59.66445795, 72.52543385, 66.68955518,\n",
              "       66.22755748, 73.32142967, 70.34839061, 71.12852637, 60.41679502,\n",
              "       61.69687534, 66.24975549, 67.05056073, 78.49283596, 71.34349662,\n",
              "       65.75246644, 61.72601605, 69.75012361, 64.74597323, 77.64511036,\n",
              "       68.94452521, 67.93431826, 65.02050873, 64.5281192 , 65.88511886,\n",
              "       64.58996017, 64.45239037, 62.55869206, 65.38263203, 66.54108965,\n",
              "       66.47613107, 81.97386998, 64.75033203, 69.26539867, 76.33192827])"
            ]
          },
          "metadata": {},
          "execution_count": 127
        }
      ],
      "source": [
        "# Predigo los valores para el set de testeo\n",
        "y_pred_svr = regresor_svr.predict(X_test)\n",
        "\n",
        "y_pred_svr"
      ]
    },
    {
      "cell_type": "code",
      "execution_count": 128,
      "metadata": {
        "outputId": "7feb016f-fb8c-4d04-ab1a-fe30552b17eb",
        "id": "saigfk8n6Xxh",
        "colab": {
          "base_uri": "https://localhost:8080/"
        }
      },
      "outputs": [
        {
          "output_type": "execute_result",
          "data": {
            "text/plain": [
              "10.63564791338063"
            ]
          },
          "metadata": {},
          "execution_count": 128
        }
      ],
      "source": [
        "# Calculo el error medio absoluto\n",
        "mean_absolute_error(y_test, y_pred_svr)"
      ]
    },
    {
      "cell_type": "code",
      "source": [
        "# prompt: gráfico Support Vector Machine para este ejemplo\n",
        "\n",
        "import matplotlib.pyplot as plt\n",
        "# For Support Vector Regression (SVR), visualizing the decision boundary is generally difficult\n",
        "# and not directly applicable in high-dimensional feature spaces or with complex kernels.\n",
        "# SVR finds a hyperplane in a potentially high-dimensional space, and projecting that back\n",
        "# to a 2D or 3D plot that clearly shows the 'hyperplane' and the 'margin' is often not\n",
        "# feasible or informative for more than 2 features.\n",
        "\n",
        "# However, we can visualize the SVR's performance by plotting the predicted values against the actual values,\n",
        "# similar to what was suggested for the general regression plot.\n",
        "\n",
        "plt.figure(figsize=(8, 8))\n",
        "plt.scatter(y_test, y_pred_svr, alpha=0.5)\n",
        "plt.plot([y_test.min(), y_test.max()], [y_test.min(), y_test.max()], 'k--', lw=2) # Line of perfect prediction\n",
        "plt.xlabel('Actual Puntaje Final (y_test)')\n",
        "plt.ylabel('Predicted Puntaje Final (y_pred_svr)')\n",
        "plt.title('Actual vs. Predicted Puntaje Final (SVR Model)')\n",
        "plt.grid(True)\n",
        "plt.show()\n",
        "\n",
        "# Another common way to visualize regression model performance is to plot the residuals.\n",
        "# Residuals are the differences between the actual values and the predicted values.\n",
        "# For a good model, residuals should be randomly scattered around zero.\n",
        "\n",
        "residuals_svr = y_test - y_pred_svr\n",
        "\n",
        "plt.figure(figsize=(8, 6))\n",
        "plt.scatter(y_pred_svr, residuals_svr, alpha=0.5)\n",
        "plt.hlines(0, y_pred_svr.min(), y_pred_svr.max(), colors='red', linestyles='dashed', lw=2)\n",
        "plt.xlabel('Predicted Puntaje Final (y_pred_svr)')\n",
        "plt.ylabel('Residuals (y_test - y_pred_svr)')\n",
        "plt.title('Residual Plot for SVR Model')\n",
        "plt.grid(True)\n",
        "plt.show()\n",
        "\n",
        "# If you were dealing with a 2-feature regression problem, you could attempt to plot\n",
        "# the SVR decision boundary (or the regression line/surface), but this is not\n",
        "# directly applicable here due to the number of features.\n",
        "\n",
        "# The scatter plot of Actual vs. Predicted values and the Residual plot are the\n",
        "# most practical ways to visualize the performance of your SVR model in this scenario."
      ],
      "metadata": {
        "colab": {
          "base_uri": "https://localhost:8080/",
          "height": 1000
        },
        "id": "UP5a6fuYRtRL",
        "outputId": "4da94a77-606e-4f22-a68b-8bfe2322d7c9"
      },
      "execution_count": 121,
      "outputs": [
        {
          "output_type": "display_data",
          "data": {
            "text/plain": [
              "<Figure size 800x800 with 1 Axes>"
            ],
            "image/png": "[encoded data removed]"
          },
          "metadata": {}
        },
        {
          "output_type": "display_data",
          "data": {
            "text/plain": [
              "<Figure size 800x600 with 1 Axes>"
            ],
            "image/png": "[encoded data removed]"
          },
          "metadata": {}
        }
      ]
    }
  ],
  "metadata": {
    "kernelspec": {
      "display_name": "Python 3 (ipykernel)",
      "language": "python",
      "name": "python3"
    },
    "language_info": {
      "codemirror_mode": {
        "name": "ipython",
        "version": 3
      },
      "file_extension": ".py",
      "mimetype": "text/x-python",
      "name": "python",
      "nbconvert_exporter": "python",
      "pygments_lexer": "ipython3",
      "version": "3.9.6"
    },
    "colab": {
      "provenance": [],
      "include_colab_link": true
    }
  },
  "nbformat": 4,
  "nbformat_minor": 0
}